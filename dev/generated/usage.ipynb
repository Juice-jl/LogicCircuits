{
 "cells": [
  {
   "cell_type": "markdown",
   "source": [
    "## Example usage"
   ],
   "metadata": {}
  },
  {
   "cell_type": "markdown",
   "source": [
    "Assuming that the LogicCircuits Julia package has been installed with `julia -e 'using Pkg; Pkg.add(\"LogicCircuits\")'`, we can start using it as follows."
   ],
   "metadata": {}
  },
  {
   "outputs": [],
   "cell_type": "code",
   "source": [
    "using LogicCircuits"
   ],
   "metadata": {},
   "execution_count": 1
  },
  {
   "cell_type": "markdown",
   "source": [
    "### Reasoning with manually constructed circuits"
   ],
   "metadata": {}
  },
  {
   "cell_type": "markdown",
   "source": [
    "We begin by creating three positive literals (logical variables) and manually constructing a simple circuit using logical connectives & (and), | (or), and - (not)."
   ],
   "metadata": {}
  },
  {
   "outputs": [],
   "cell_type": "code",
   "source": [
    "sun, rain, rainbow = pos_literals(LogicCircuit, 3)\n",
    "circuit = (rainbow & sun & rain) | (-rainbow); # rainbow implies sun and rain"
   ],
   "metadata": {},
   "execution_count": 2
  },
  {
   "cell_type": "markdown",
   "source": [
    "Just like any logical circuit or Boolean function, we can evaluate ours on various inputs."
   ],
   "metadata": {}
  },
  {
   "outputs": [
    {
     "output_type": "execute_result",
     "data": {
      "text/plain": "false"
     },
     "metadata": {},
     "execution_count": 3
    }
   ],
   "cell_type": "code",
   "source": [
    "circuit(false, true, true) # sun is false, rain is true, rainbow is true"
   ],
   "metadata": {},
   "execution_count": 3
  },
  {
   "outputs": [
    {
     "output_type": "execute_result",
     "data": {
      "text/plain": "true"
     },
     "metadata": {},
     "execution_count": 4
    }
   ],
   "cell_type": "code",
   "source": [
    "circuit(true, true, true) # sun is true, rain is true, rainbow is true"
   ],
   "metadata": {},
   "execution_count": 4
  },
  {
   "cell_type": "markdown",
   "source": [
    "The purpose of this package, however, is to enable more interesting inference scenarios. This is possible by ensuring that the circuit has certain [properties](https://juice-jl.github.io/LogicCircuits.jl/dev/manual/properties/), such as *decomposability*, *determinism*, and more.\n",
    "Our current circuit happens to already be decomposable and deterministic by construction:"
   ],
   "metadata": {}
  },
  {
   "outputs": [
    {
     "output_type": "execute_result",
     "data": {
      "text/plain": "true"
     },
     "metadata": {},
     "execution_count": 5
    }
   ],
   "cell_type": "code",
   "source": [
    "isdecomposable(circuit) && isdeterministic(circuit)"
   ],
   "metadata": {},
   "execution_count": 5
  },
  {
   "cell_type": "markdown",
   "source": [
    "The decomposability property ensures that we can ask whether the circuit is satisfiable (the classical SAT problem) and, surprisingly, still get our answer efficiently. Of course, from the input `true, true, true` tried above, we know the answer to be true."
   ],
   "metadata": {}
  },
  {
   "outputs": [
    {
     "output_type": "execute_result",
     "data": {
      "text/plain": "true"
     },
     "metadata": {},
     "execution_count": 6
    }
   ],
   "cell_type": "code",
   "source": [
    "issatisfiable(circuit) # does there exist an input that outputs true?"
   ],
   "metadata": {},
   "execution_count": 6
  },
  {
   "cell_type": "markdown",
   "source": [
    "In addition, the determinism property allows us to efficiently decide whether the circuit is a tautology (always true), or compute its model count, that is, the number of satisfying assignments."
   ],
   "metadata": {}
  },
  {
   "outputs": [
    {
     "output_type": "execute_result",
     "data": {
      "text/plain": "false"
     },
     "metadata": {},
     "execution_count": 7
    }
   ],
   "cell_type": "code",
   "source": [
    "istautology(circuit) # do all inputs give the circuit output true?"
   ],
   "metadata": {},
   "execution_count": 7
  },
  {
   "outputs": [
    {
     "output_type": "execute_result",
     "data": {
      "text/plain": "5"
     },
     "metadata": {},
     "execution_count": 8
    }
   ],
   "cell_type": "code",
   "source": [
    "model_count(circuit) # how many possible inputs give the output true?"
   ],
   "metadata": {},
   "execution_count": 8
  },
  {
   "cell_type": "markdown",
   "source": [
    "### Reasoning with compiled circuits"
   ],
   "metadata": {}
  },
  {
   "cell_type": "markdown",
   "source": [
    "As logical sentences become more complicated, it becomes infeasible to manually write down circuits that have the requisite properties that guarantee tractable inference."
   ],
   "metadata": {}
  },
  {
   "cell_type": "markdown",
   "source": [
    "A process called *compilation* can solve this problem. Concretely, `LogicCircuits` supports compilation into a particular type of circuit called SDD. We construct an SDD manager with four additional variables, and then ask to compile our running example circuit into an SDD:"
   ],
   "metadata": {}
  },
  {
   "outputs": [],
   "cell_type": "code",
   "source": [
    "manager = SddMgr(7, :balanced)\n",
    "circuit = compile(manager, circuit);"
   ],
   "metadata": {},
   "execution_count": 9
  },
  {
   "cell_type": "markdown",
   "source": [
    "Now we are able to incorporate many more logical sentences into the same circuit."
   ],
   "metadata": {}
  },
  {
   "outputs": [],
   "cell_type": "code",
   "source": [
    "sun, rain, rainbow, cloud, snow, los_angeles, belgium = pos_literals(Sdd, manager, 7)\n",
    "circuit &= (-los_angeles | -belgium) # cannot be in LA and Belgium at the same time\n",
    "circuit &= (los_angeles ⇒ sun) ∧ (belgium ⇒ cloud) # unicode logical syntax\n",
    "circuit &= (¬(rain ∨ snow) ⇐ ¬cloud); # no rain or snow without clouds"
   ],
   "metadata": {},
   "execution_count": 10
  },
  {
   "cell_type": "markdown",
   "source": [
    "Incorporating these constraints has increased the size of our circuit, but crucially, the circuit is still decomposable and deterministic."
   ],
   "metadata": {}
  },
  {
   "outputs": [
    {
     "output_type": "execute_result",
     "data": {
      "text/plain": "\"Our circuit has 71 nodes and 117 edges\""
     },
     "metadata": {},
     "execution_count": 11
    }
   ],
   "cell_type": "code",
   "source": [
    "\"Our circuit has $(num_nodes(circuit)) nodes and $(num_edges(circuit)) edges\""
   ],
   "metadata": {},
   "execution_count": 11
  },
  {
   "cell_type": "markdown",
   "source": [
    "The circuit looks as follows."
   ],
   "metadata": {}
  },
  {
   "outputs": [
    {
     "output_type": "execute_result",
     "data": {
      "text/plain": "TikzPictures.TikzPicture(\"\\\\graph [layered layout, ] {\\n1/\\\"⋁\\\" [],\\n2/\\\"⋀\\\" [],\\n3/\\\"⋀\\\" [],\\n4/\\\"⋀\\\" [],\\n5/\\\"⋀\\\" [],\\n6/\\\"⋀\\\" [],\\n7/\\\"⋁\\\" [],\\n8/\\\"⋁\\\" [],\\n9/\\\"⋀\\\" [],\\n10/\\\"⋀\\\" [],\\n11/\\\"-1\\\" [],\\n12/\\\"⋁\\\" [],\\n13/\\\"1\\\" [],\\n14/\\\"F\\\" [],\\n15/\\\"⋀\\\" [],\\n16/\\\"⋀\\\" [],\\n17/\\\"⋀\\\" [],\\n18/\\\"⋁\\\" [],\\n19/\\\"⋁\\\" [],\\n20/\\\"⋀\\\" [],\\n21/\\\"⋀\\\" [],\\n22/\\\"-6\\\" [],\\n23/\\\"-7\\\" [],\\n24/\\\"6\\\" [],\\n25/\\\"4\\\" [],\\n26/\\\"⋁\\\" [],\\n27/\\\"⋁\\\" [],\\n28/\\\"⋀\\\" [],\\n29/\\\"⋀\\\" [],\\n30/\\\"⋁\\\" [],\\n31/\\\"⋀\\\" [],\\n32/\\\"⋀\\\" [],\\n33/\\\"2\\\" [],\\n34/\\\"-2\\\" [],\\n35/\\\"3\\\" [],\\n36/\\\"⋁\\\" [],\\n37/\\\"⋁\\\" [],\\n38/\\\"⋀\\\" [],\\n39/\\\"⋀\\\" [],\\n40/\\\"⋀\\\" [],\\n41/\\\"⋀\\\" [],\\n42/\\\"-3\\\" [],\\n43/\\\"⋀\\\" [],\\n44/\\\"⋀\\\" [],\\n45/\\\"⋀\\\" [],\\n46/\\\"⋀\\\" [],\\n47/\\\"⋀\\\" [],\\n48/\\\"-4\\\" [],\\n49/\\\"-5\\\" [],\\n50/\\\"⋁\\\" [],\\n51/\\\"⋀\\\" [],\\n52/\\\"⋀\\\" [],\\n53/\\\"5\\\" [],\\n54/\\\"⋁\\\" [],\\n55/\\\"⋁\\\" [],\\n56/\\\"⋀\\\" [],\\n57/\\\"⋀\\\" [],\\n58/\\\"⋁\\\" [],\\n59/\\\"⋀\\\" [],\\n60/\\\"⋀\\\" [],\\n61/\\\"⋀\\\" [],\\n62/\\\"⋀\\\" [],\\n63/\\\"⋁\\\" [],\\n64/\\\"⋁\\\" [],\\n65/\\\"⋀\\\" [],\\n66/\\\"⋀\\\" [],\\n67/\\\"⋀\\\" [],\\n68/\\\"⋀\\\" [],\\n69/\\\"⋀\\\" [],\\n70/\\\"⋀\\\" [],\\n71/\\\"T\\\" [],\\n;\\n1 -> [,] 2;\\n1 -> [,] 3;\\n1 -> [,] 4;\\n1 -> [,] 5;\\n1 -> [,] 6;\\n2 -> [,] 7;\\n2 -> [,] 8;\\n3 -> [,] 14;\\n3 -> [,] 27;\\n4 -> [,] 36;\\n4 -> [,] 37;\\n5 -> [,] 54;\\n5 -> [,] 55;\\n6 -> [,] 63;\\n6 -> [,] 64;\\n7 -> [,] 9;\\n7 -> [,] 10;\\n8 -> [,] 15;\\n8 -> [,] 16;\\n8 -> [,] 17;\\n9 -> [,] 11;\\n9 -> [,] 12;\\n10 -> [,] 13;\\n10 -> [,] 14;\\n12 -> [,] 40;\\n12 -> [,] 41;\\n15 -> [,] 18;\\n15 -> [,] 19;\\n16 -> [,] 22;\\n16 -> [,] 25;\\n17 -> [,] 14;\\n17 -> [,] 26;\\n18 -> [,] 46;\\n18 -> [,] 47;\\n19 -> [,] 20;\\n19 -> [,] 21;\\n20 -> [,] 22;\\n20 -> [,] 23;\\n21 -> [,] 14;\\n21 -> [,] 24;\\n26 -> [,] 51;\\n26 -> [,] 52;\\n27 -> [,] 28;\\n27 -> [,] 29;\\n28 -> [,] 13;\\n28 -> [,] 30;\\n29 -> [,] 11;\\n29 -> [,] 35;\\n30 -> [,] 31;\\n30 -> [,] 32;\\n31 -> [,] 14;\\n31 -> [,] 33;\\n32 -> [,] 34;\\n32 -> [,] 35;\\n36 -> [,] 38;\\n36 -> [,] 39;\\n37 -> [,] 43;\\n37 -> [,] 44;\\n37 -> [,] 45;\\n38 -> [,] 12;\\n38 -> [,] 13;\\n39 -> [,] 11;\\n39 -> [,] 14;\\n40 -> [,] 34;\\n40 -> [,] 42;\\n41 -> [,] 14;\\n41 -> [,] 33;\\n43 -> [,] 18;\\n43 -> [,] 23;\\n44 -> [,] 25;\\n44 -> [,] 50;\\n45 -> [,] 14;\\n45 -> [,] 26;\\n46 -> [,] 48;\\n46 -> [,] 49;\\n47 -> [,] 14;\\n47 -> [,] 25;\\n50 -> [,] 69;\\n50 -> [,] 70;\\n51 -> [,] 48;\\n51 -> [,] 53;\\n52 -> [,] 14;\\n52 -> [,] 25;\\n54 -> [,] 56;\\n54 -> [,] 57;\\n55 -> [,] 61;\\n55 -> [,] 62;\\n56 -> [,] 11;\\n56 -> [,] 58;\\n57 -> [,] 13;\\n57 -> [,] 14;\\n58 -> [,] 59;\\n58 -> [,] 60;\\n59 -> [,] 33;\\n59 -> [,] 42;\\n60 -> [,] 14;\\n60 -> [,] 34;\\n61 -> [,] 22;\\n61 -> [,] 25;\\n62 -> [,] 14;\\n62 -> [,] 48;\\n63 -> [,] 65;\\n63 -> [,] 66;\\n64 -> [,] 67;\\n64 -> [,] 68;\\n65 -> [,] 13;\\n65 -> [,] 33;\\n66 -> [,] 11;\\n66 -> [,] 14;\\n67 -> [,] 25;\\n67 -> [,] 50;\\n68 -> [,] 14;\\n68 -> [,] 48;\\n69 -> [,] 23;\\n69 -> [,] 24;\\n70 -> [,] 22;\\n70 -> [,] 71;\\n};\\n\", \"\", \"\\\\usepackage{fontspec}\\n\\\\setmainfont{Latin Modern Math}\\n\\\\usetikzlibrary{arrows}\\n\\\\usetikzlibrary{graphs}\\n\\\\usetikzlibrary{graphdrawing}\\n\\n% from: https://tex.stackexchange.com/questions/453132/fresh-install-of-tl2018-no-tikz-graph-drawing-libraries-found\\n\\\\usepackage{luacode}\\n\\\\begin{luacode*}\\n\\tfunction pgf_lookup_and_require(name)\\n\\tlocal sep = package.config:sub(1,1)\\n\\tlocal function lookup(name)\\n\\tlocal sub = name:gsub('%.',sep)  \\n\\tif kpse.find_file(sub, 'lua') then\\n\\trequire(name)\\n\\telseif kpse.find_file(sub, 'clua') then\\n\\tcollectgarbage('stop') \\n\\trequire(name)\\n\\tcollectgarbage('restart')\\n\\telse\\n\\treturn false\\n\\tend\\n\\treturn true\\n\\tend\\n\\treturn\\n\\tlookup('pgf.gd.' .. name .. '.library') or\\n\\tlookup('pgf.gd.' .. name) or\\n\\tlookup(name .. '.library') or\\n\\tlookup(name) \\n\\tend\\n\\\\end{luacode*}\\n\\n\\\\usegdlibrary{layered}\", \"tikzpicture\", \"\", \"\", true, true)",
      "image/svg+xml": [
       "<?xml version=\"1.0\" encoding=\"UTF-8\"?>\n",
       "<svg xmlns=\"http://www.w3.org/2000/svg\" xmlns:xlink=\"http://www.w3.org/1999/xlink\" width=\"1049.032pt\" height=\"185.507pt\" viewBox=\"0 0 1049.032 185.507\" version=\"1.1\">\n",
       "<defs>\n",
       "<g>\n",
       "<symbol overflow=\"visible\" id=\"glyph-1615619521368237-0-0\">\n",
       "<path style=\"stroke:none;\" d=\"\"/>\n",
       "</symbol>\n",
       "<symbol overflow=\"visible\" id=\"glyph-1615619521368237-0-1\">\n",
       "<path style=\"stroke:none;\" d=\"M 7.78125 -7.234375 C 7.90625 -7.59375 7.359375 -7.78125 7.234375 -7.421875 L 4.140625 1.46875 L 1.0625 -7.421875 C 0.953125 -7.78125 0.40625 -7.59375 0.53125 -7.234375 L 3.953125 2.65625 C 4.015625 2.84375 4.28125 2.84375 4.34375 2.65625 Z M 7.78125 -7.234375 \"/>\n",
       "</symbol>\n",
       "<symbol overflow=\"visible\" id=\"glyph-1615619521368237-0-2\">\n",
       "<path style=\"stroke:none;\" d=\"M 7.78125 2.25 L 4.34375 -7.640625 C 4.28125 -7.828125 4.015625 -7.828125 3.953125 -7.640625 L 0.53125 2.25 C 0.40625 2.609375 0.953125 2.796875 1.0625 2.4375 L 4.140625 -6.453125 L 7.234375 2.4375 C 7.359375 2.796875 7.90625 2.609375 7.78125 2.25 Z M 7.78125 2.25 \"/>\n",
       "</symbol>\n",
       "<symbol overflow=\"visible\" id=\"glyph-1615619521368237-0-3\">\n",
       "<path style=\"stroke:none;\" d=\"M 2.75 -1.859375 L 2.75 -2.4375 L 0.109375 -2.4375 L 0.109375 -1.859375 Z M 2.75 -1.859375 \"/>\n",
       "</symbol>\n",
       "<symbol overflow=\"visible\" id=\"glyph-1615619521368237-0-4\">\n",
       "<path style=\"stroke:none;\" d=\"M 4.171875 0 L 4.171875 -0.3125 L 3.859375 -0.3125 C 2.953125 -0.3125 2.9375 -0.421875 2.9375 -0.78125 L 2.9375 -6.375 C 2.9375 -6.625 2.9375 -6.640625 2.703125 -6.640625 C 2.078125 -6 1.203125 -6 0.890625 -6 L 0.890625 -5.6875 C 1.09375 -5.6875 1.671875 -5.6875 2.1875 -5.953125 L 2.1875 -0.78125 C 2.1875 -0.421875 2.15625 -0.3125 1.265625 -0.3125 L 0.953125 -0.3125 L 0.953125 0 C 1.296875 -0.03125 2.15625 -0.03125 2.5625 -0.03125 C 2.953125 -0.03125 3.828125 -0.03125 4.171875 0 Z M 4.171875 0 \"/>\n",
       "</symbol>\n",
       "<symbol overflow=\"visible\" id=\"glyph-1615619521368237-0-5\">\n",
       "<path style=\"stroke:none;\" d=\"M 6.078125 -4.53125 L 5.796875 -6.78125 L 0.328125 -6.78125 L 0.328125 -6.46875 L 0.5625 -6.46875 C 1.328125 -6.46875 1.359375 -6.359375 1.359375 -6 L 1.359375 -0.78125 C 1.359375 -0.421875 1.328125 -0.3125 0.5625 -0.3125 L 0.328125 -0.3125 L 0.328125 0 C 0.671875 -0.03125 1.453125 -0.03125 1.84375 -0.03125 C 2.25 -0.03125 3.15625 -0.03125 3.515625 0 L 3.515625 -0.3125 L 3.1875 -0.3125 C 2.25 -0.3125 2.25 -0.4375 2.25 -0.78125 L 2.25 -3.234375 L 3.09375 -3.234375 C 4.0625 -3.234375 4.15625 -2.921875 4.15625 -2.078125 L 4.40625 -2.078125 L 4.40625 -4.71875 L 4.15625 -4.71875 C 4.15625 -3.875 4.0625 -3.546875 3.09375 -3.546875 L 2.25 -3.546875 L 2.25 -6.078125 C 2.25 -6.40625 2.265625 -6.46875 2.734375 -6.46875 L 3.921875 -6.46875 C 5.421875 -6.46875 5.671875 -5.90625 5.828125 -4.53125 Z M 6.078125 -4.53125 \"/>\n",
       "</symbol>\n",
       "<symbol overflow=\"visible\" id=\"glyph-1615619521368237-0-6\">\n",
       "<path style=\"stroke:none;\" d=\"M 4.5625 -2.03125 C 4.5625 -3.296875 3.671875 -4.25 2.5625 -4.25 C 1.890625 -4.25 1.515625 -3.75 1.3125 -3.265625 L 1.3125 -3.515625 C 1.3125 -6.03125 2.546875 -6.390625 3.0625 -6.390625 C 3.296875 -6.390625 3.71875 -6.328125 3.9375 -5.984375 C 3.78125 -5.984375 3.390625 -5.984375 3.390625 -5.546875 C 3.390625 -5.234375 3.625 -5.078125 3.84375 -5.078125 C 4 -5.078125 4.3125 -5.171875 4.3125 -5.5625 C 4.3125 -6.15625 3.875 -6.640625 3.046875 -6.640625 C 1.765625 -6.640625 0.421875 -5.359375 0.421875 -3.15625 C 0.421875 -0.484375 1.578125 0.21875 2.5 0.21875 C 3.609375 0.21875 4.5625 -0.71875 4.5625 -2.03125 Z M 3.65625 -2.046875 C 3.65625 -1.5625 3.65625 -1.0625 3.484375 -0.703125 C 3.1875 -0.109375 2.734375 -0.0625 2.5 -0.0625 C 1.875 -0.0625 1.578125 -0.65625 1.515625 -0.8125 C 1.328125 -1.28125 1.328125 -2.078125 1.328125 -2.25 C 1.328125 -3.03125 1.65625 -4.03125 2.546875 -4.03125 C 2.71875 -4.03125 3.171875 -4.03125 3.484375 -3.40625 C 3.65625 -3.046875 3.65625 -2.53125 3.65625 -2.046875 Z M 3.65625 -2.046875 \"/>\n",
       "</symbol>\n",
       "<symbol overflow=\"visible\" id=\"glyph-1615619521368237-0-7\">\n",
       "<path style=\"stroke:none;\" d=\"M 4.828125 -6.421875 L 2.40625 -6.421875 C 1.203125 -6.421875 1.171875 -6.546875 1.140625 -6.734375 L 0.890625 -6.734375 L 0.5625 -4.6875 L 0.8125 -4.6875 C 0.84375 -4.84375 0.921875 -5.46875 1.0625 -5.59375 C 1.125 -5.65625 1.90625 -5.65625 2.03125 -5.65625 L 4.09375 -5.65625 L 2.984375 -4.078125 C 2.078125 -2.734375 1.75 -1.34375 1.75 -0.328125 C 1.75 -0.234375 1.75 0.21875 2.21875 0.21875 C 2.671875 0.21875 2.671875 -0.234375 2.671875 -0.328125 L 2.671875 -0.84375 C 2.671875 -1.390625 2.703125 -1.9375 2.78125 -2.46875 C 2.828125 -2.703125 2.953125 -3.5625 3.40625 -4.171875 L 4.75 -6.078125 C 4.828125 -6.1875 4.828125 -6.203125 4.828125 -6.421875 Z M 4.828125 -6.421875 \"/>\n",
       "</symbol>\n",
       "<symbol overflow=\"visible\" id=\"glyph-1615619521368237-0-8\">\n",
       "<path style=\"stroke:none;\" d=\"M 4.6875 -1.640625 L 4.6875 -1.953125 L 3.703125 -1.953125 L 3.703125 -6.484375 C 3.703125 -6.6875 3.703125 -6.75 3.53125 -6.75 C 3.453125 -6.75 3.421875 -6.75 3.34375 -6.625 L 0.28125 -1.953125 L 0.28125 -1.640625 L 2.9375 -1.640625 L 2.9375 -0.78125 C 2.9375 -0.421875 2.90625 -0.3125 2.171875 -0.3125 L 1.96875 -0.3125 L 1.96875 0 C 2.375 -0.03125 2.890625 -0.03125 3.3125 -0.03125 C 3.734375 -0.03125 4.25 -0.03125 4.671875 0 L 4.671875 -0.3125 L 4.453125 -0.3125 C 3.71875 -0.3125 3.703125 -0.421875 3.703125 -0.78125 L 3.703125 -1.640625 Z M 2.984375 -1.953125 L 0.5625 -1.953125 L 2.984375 -5.671875 Z M 2.984375 -1.953125 \"/>\n",
       "</symbol>\n",
       "<symbol overflow=\"visible\" id=\"glyph-1615619521368237-0-9\">\n",
       "<path style=\"stroke:none;\" d=\"M 4.46875 -1.734375 L 4.234375 -1.734375 C 4.171875 -1.4375 4.109375 -1 4 -0.84375 C 3.9375 -0.765625 3.28125 -0.765625 3.0625 -0.765625 L 1.265625 -0.765625 L 2.328125 -1.796875 C 3.875 -3.171875 4.46875 -3.703125 4.46875 -4.703125 C 4.46875 -5.84375 3.578125 -6.640625 2.359375 -6.640625 C 1.234375 -6.640625 0.5 -5.71875 0.5 -4.828125 C 0.5 -4.28125 1 -4.28125 1.03125 -4.28125 C 1.203125 -4.28125 1.546875 -4.390625 1.546875 -4.8125 C 1.546875 -5.0625 1.359375 -5.328125 1.015625 -5.328125 C 0.9375 -5.328125 0.921875 -5.328125 0.890625 -5.3125 C 1.109375 -5.96875 1.65625 -6.328125 2.234375 -6.328125 C 3.140625 -6.328125 3.5625 -5.515625 3.5625 -4.703125 C 3.5625 -3.90625 3.078125 -3.125 2.515625 -2.5 L 0.609375 -0.375 C 0.5 -0.265625 0.5 -0.234375 0.5 0 L 4.203125 0 Z M 4.46875 -1.734375 \"/>\n",
       "</symbol>\n",
       "<symbol overflow=\"visible\" id=\"glyph-1615619521368237-0-10\">\n",
       "<path style=\"stroke:none;\" d=\"M 4.5625 -1.703125 C 4.5625 -2.515625 3.921875 -3.296875 2.890625 -3.515625 C 3.703125 -3.78125 4.28125 -4.46875 4.28125 -5.265625 C 4.28125 -6.078125 3.40625 -6.640625 2.453125 -6.640625 C 1.453125 -6.640625 0.6875 -6.046875 0.6875 -5.28125 C 0.6875 -4.953125 0.90625 -4.765625 1.203125 -4.765625 C 1.5 -4.765625 1.703125 -4.984375 1.703125 -5.28125 C 1.703125 -5.765625 1.234375 -5.765625 1.09375 -5.765625 C 1.390625 -6.265625 2.046875 -6.390625 2.40625 -6.390625 C 2.828125 -6.390625 3.375 -6.171875 3.375 -5.28125 C 3.375 -5.15625 3.34375 -4.578125 3.09375 -4.140625 C 2.796875 -3.65625 2.453125 -3.625 2.203125 -3.625 C 2.125 -3.609375 1.890625 -3.59375 1.8125 -3.59375 C 1.734375 -3.578125 1.671875 -3.5625 1.671875 -3.46875 C 1.671875 -3.359375 1.734375 -3.359375 1.90625 -3.359375 L 2.34375 -3.359375 C 3.15625 -3.359375 3.53125 -2.6875 3.53125 -1.703125 C 3.53125 -0.34375 2.84375 -0.0625 2.40625 -0.0625 C 1.96875 -0.0625 1.21875 -0.234375 0.875 -0.8125 C 1.21875 -0.765625 1.53125 -0.984375 1.53125 -1.359375 C 1.53125 -1.71875 1.265625 -1.921875 0.984375 -1.921875 C 0.734375 -1.921875 0.421875 -1.78125 0.421875 -1.34375 C 0.421875 -0.4375 1.34375 0.21875 2.4375 0.21875 C 3.65625 0.21875 4.5625 -0.6875 4.5625 -1.703125 Z M 4.5625 -1.703125 \"/>\n",
       "</symbol>\n",
       "<symbol overflow=\"visible\" id=\"glyph-1615619521368237-0-11\">\n",
       "<path style=\"stroke:none;\" d=\"M 4.46875 -2 C 4.46875 -3.1875 3.65625 -4.1875 2.578125 -4.1875 C 2.109375 -4.1875 1.671875 -4.03125 1.3125 -3.671875 L 1.3125 -5.625 C 1.515625 -5.5625 1.84375 -5.5 2.15625 -5.5 C 3.390625 -5.5 4.09375 -6.40625 4.09375 -6.53125 C 4.09375 -6.59375 4.0625 -6.640625 3.984375 -6.640625 C 3.984375 -6.640625 3.953125 -6.640625 3.90625 -6.609375 C 3.703125 -6.515625 3.21875 -6.3125 2.546875 -6.3125 C 2.15625 -6.3125 1.6875 -6.390625 1.21875 -6.59375 C 1.140625 -6.625 1.109375 -6.625 1.109375 -6.625 C 1 -6.625 1 -6.546875 1 -6.390625 L 1 -3.4375 C 1 -3.265625 1 -3.1875 1.140625 -3.1875 C 1.21875 -3.1875 1.234375 -3.203125 1.28125 -3.265625 C 1.390625 -3.421875 1.75 -3.96875 2.5625 -3.96875 C 3.078125 -3.96875 3.328125 -3.515625 3.40625 -3.328125 C 3.5625 -2.953125 3.59375 -2.578125 3.59375 -2.078125 C 3.59375 -1.71875 3.59375 -1.125 3.34375 -0.703125 C 3.109375 -0.3125 2.734375 -0.0625 2.28125 -0.0625 C 1.5625 -0.0625 0.984375 -0.59375 0.8125 -1.171875 C 0.84375 -1.171875 0.875 -1.15625 0.984375 -1.15625 C 1.3125 -1.15625 1.484375 -1.40625 1.484375 -1.640625 C 1.484375 -1.890625 1.3125 -2.140625 0.984375 -2.140625 C 0.84375 -2.140625 0.5 -2.0625 0.5 -1.609375 C 0.5 -0.75 1.1875 0.21875 2.296875 0.21875 C 3.453125 0.21875 4.46875 -0.734375 4.46875 -2 Z M 4.46875 -2 \"/>\n",
       "</symbol>\n",
       "<symbol overflow=\"visible\" id=\"glyph-1615619521368237-0-12\">\n",
       "<path style=\"stroke:none;\" d=\"M 6.828125 -4.5 L 6.640625 -6.75 L 0.546875 -6.75 L 0.359375 -4.5 L 0.609375 -4.5 C 0.75 -6.109375 0.890625 -6.4375 2.40625 -6.4375 C 2.578125 -6.4375 2.84375 -6.4375 2.9375 -6.421875 C 3.15625 -6.375 3.15625 -6.265625 3.15625 -6.046875 L 3.15625 -0.78125 C 3.15625 -0.453125 3.15625 -0.3125 2.109375 -0.3125 L 1.703125 -0.3125 L 1.703125 0 C 2.109375 -0.03125 3.125 -0.03125 3.59375 -0.03125 C 4.046875 -0.03125 5.078125 -0.03125 5.484375 0 L 5.484375 -0.3125 L 5.078125 -0.3125 C 4.03125 -0.3125 4.03125 -0.453125 4.03125 -0.78125 L 4.03125 -6.046875 C 4.03125 -6.234375 4.03125 -6.375 4.21875 -6.421875 C 4.328125 -6.4375 4.59375 -6.4375 4.78125 -6.4375 C 6.296875 -6.4375 6.4375 -6.109375 6.578125 -4.5 Z M 6.828125 -4.5 \"/>\n",
       "</symbol>\n",
       "</g>\n",
       "</defs>\n",
       "<g id=\"surface1\">\n",
       "<path style=\"fill:none;stroke-width:0.3985;stroke-linecap:butt;stroke-linejoin:miter;stroke:rgb(0%,0%,0%);stroke-opacity:1;stroke-miterlimit:10;\" d=\"M -7.669312 -3.833844 L -48.614625 -24.3065 \" transform=\"matrix(1,0,0,-1,375.974,8.631)\"/>\n",
       "<path style=\"fill:none;stroke-width:0.31879;stroke-linecap:round;stroke-linejoin:round;stroke:rgb(0%,0%,0%);stroke-opacity:1;stroke-miterlimit:10;\" d=\"M -1.195129 1.592592 C -1.095541 0.996843 0.00162543 0.0988605 0.296881 -0.000719652 C -0.00186693 -0.100305 -1.095523 -0.994813 -1.1951 -1.595805 \" transform=\"matrix(-0.89436,0.44717,0.44717,0.89436,327.35959,32.9382)\"/>\n",
       "<path style=\"fill:none;stroke-width:0.3985;stroke-linecap:butt;stroke-linejoin:miter;stroke:rgb(0%,0%,0%);stroke-opacity:1;stroke-miterlimit:10;\" d=\"M -7.669312 -7.669781 L -20.352906 -20.353375 \" transform=\"matrix(1,0,0,-1,375.974,8.631)\"/>\n",
       "<path style=\"fill:none;stroke-width:0.31879;stroke-linecap:round;stroke-linejoin:round;stroke:rgb(0%,0%,0%);stroke-opacity:1;stroke-miterlimit:10;\" d=\"M -1.196454 1.594099 C -1.097016 0.997472 -0.000437527 0.0997693 0.297876 0.000331459 C -0.000437527 -0.0991064 -1.097016 -0.996809 -1.196454 -1.593436 \" transform=\"matrix(-0.7071,0.7071,0.7071,0.7071,355.62055,28.98445)\"/>\n",
       "<path style=\"fill:none;stroke-width:0.3985;stroke-linecap:butt;stroke-linejoin:miter;stroke:rgb(0%,0%,0%);stroke-opacity:1;stroke-miterlimit:10;\" d=\"M -0.00134375 -8.829937 L -0.00134375 -19.060406 \" transform=\"matrix(1,0,0,-1,375.974,8.631)\"/>\n",
       "<path style=\"fill:none;stroke-width:0.31879;stroke-linecap:round;stroke-linejoin:round;stroke:rgb(0%,0%,0%);stroke-opacity:1;stroke-miterlimit:10;\" d=\"M -1.197363 1.592406 C -1.0958 0.99475 0.00185625 0.100219 0.298731 -0.00134375 C 0.00185625 -0.099 -1.0958 -0.997437 -1.197363 -1.595094 \" transform=\"matrix(0,1,1,0,375.974,27.68955)\"/>\n",
       "<path style=\"fill:none;stroke-width:0.3985;stroke-linecap:butt;stroke-linejoin:miter;stroke:rgb(0%,0%,0%);stroke-opacity:1;stroke-miterlimit:10;\" d=\"M 7.670531 -7.669781 L 20.354125 -20.353375 \" transform=\"matrix(1,0,0,-1,375.974,8.631)\"/>\n",
       "<path style=\"fill:none;stroke-width:0.31879;stroke-linecap:round;stroke-linejoin:round;stroke:rgb(0%,0%,0%);stroke-opacity:1;stroke-miterlimit:10;\" d=\"M -1.195592 1.594298 C -1.096154 0.997671 0.000424268 0.0999682 0.298738 0.000530335 C 0.000424268 -0.0989075 -1.096154 -0.99661 -1.195592 -1.593237 \" transform=\"matrix(0.7071,0.7071,0.7071,-0.7071,396.32745,28.98445)\"/>\n",
       "<path style=\"fill:none;stroke-width:0.3985;stroke-linecap:butt;stroke-linejoin:miter;stroke:rgb(0%,0%,0%);stroke-opacity:1;stroke-miterlimit:10;\" d=\"M 7.670531 -3.833844 L 48.615844 -24.3065 \" transform=\"matrix(1,0,0,-1,375.974,8.631)\"/>\n",
       "<path style=\"fill:none;stroke-width:0.31879;stroke-linecap:round;stroke-linejoin:round;stroke:rgb(0%,0%,0%);stroke-opacity:1;stroke-miterlimit:10;\" d=\"M -1.197504 1.594603 C -1.094433 0.995358 -0.000776752 0.10085 0.297971 0.00126473 C -0.00077855 -0.100062 -1.094451 -0.996298 -1.197533 -1.593794 \" transform=\"matrix(0.89436,0.44717,0.44717,-0.89436,424.58841,32.9382)\"/>\n",
       "<path style=\"fill:none;stroke-width:0.3985;stroke-linecap:butt;stroke-linejoin:miter;stroke:rgb(0%,0%,0%);stroke-opacity:1;stroke-miterlimit:10;\" d=\"M -64.364625 -29.626812 L -218.653687 -55.341656 \" transform=\"matrix(1,0,0,-1,375.974,8.631)\"/>\n",
       "<path style=\"fill:none;stroke-width:0.31879;stroke-linecap:round;stroke-linejoin:round;stroke:rgb(0%,0%,0%);stroke-opacity:1;stroke-miterlimit:10;\" d=\"M -1.194987 1.594813 C -1.096721 0.996266 0.00148321 0.10038 0.297547 -0.000445694 C -0.000441465 -0.101277 -1.096059 -0.9959 -1.195598 -1.593165 \" transform=\"matrix(-0.98634,0.16438,0.16438,0.98634,157.3209,63.97106)\"/>\n",
       "<path style=\"fill:none;stroke-width:0.3985;stroke-linecap:butt;stroke-linejoin:miter;stroke:rgb(0%,0%,0%);stroke-opacity:1;stroke-miterlimit:10;\" d=\"M -49.024781 -36.017437 L -36.341187 -48.701031 \" transform=\"matrix(1,0,0,-1,375.974,8.631)\"/>\n",
       "<path style=\"fill:none;stroke-width:0.31879;stroke-linecap:round;stroke-linejoin:round;stroke:rgb(0%,0%,0%);stroke-opacity:1;stroke-miterlimit:10;\" d=\"M -1.19619 1.592475 C -1.096753 0.995847 -0.000174127 0.0981447 0.298139 -0.00129313 C -0.000174127 -0.100731 -1.09399 -0.995672 -1.19619 -1.595061 \" transform=\"matrix(0.7071,0.7071,0.7071,-0.7071,339.63385,57.33124)\"/>\n",
       "<path style=\"fill:none;stroke-width:0.3985;stroke-linecap:butt;stroke-linejoin:miter;stroke:rgb(0%,0%,0%);stroke-opacity:1;stroke-miterlimit:10;\" d=\"M -20.677125 -30.263531 L 85.041625 -56.693219 L 85.041625 -85.040875 L 42.522094 -113.388531 L 42.522094 -141.732281 L 63.772094 -162.982281 \" transform=\"matrix(1,0,0,-1,375.974,8.631)\"/>\n",
       "<path style=\"fill:none;stroke-width:0.31879;stroke-linecap:round;stroke-linejoin:round;stroke:rgb(0%,0%,0%);stroke-opacity:1;stroke-miterlimit:10;\" d=\"M -1.193283 1.593594 C -1.093849 0.996962 -0.000031099 0.102007 0.301046 -0.000195702 C 0.00272966 -0.0996321 -1.096625 -0.994571 -1.193306 -1.593964 \" transform=\"matrix(0.7071,0.70709,0.70709,-0.7071,439.7443,171.61512)\"/>\n",
       "<path style=\"fill:none;stroke-width:0.3985;stroke-linecap:butt;stroke-linejoin:miter;stroke:rgb(0%,0%,0%);stroke-opacity:1;stroke-miterlimit:10;\" d=\"M -36.016969 -29.626812 L -190.306031 -55.341656 \" transform=\"matrix(1,0,0,-1,375.974,8.631)\"/>\n",
       "<path style=\"fill:none;stroke-width:0.31879;stroke-linecap:round;stroke-linejoin:round;stroke:rgb(0%,0%,0%);stroke-opacity:1;stroke-miterlimit:10;\" d=\"M -1.195822 1.594952 C -1.097556 0.996405 0.000648421 0.100519 0.300566 -0.000948753 C -0.00127625 -0.101138 -1.096894 -0.995761 -1.196432 -1.593026 \" transform=\"matrix(-0.98634,0.16438,0.16438,0.98634,185.66771,63.97106)\"/>\n",
       "<path style=\"fill:none;stroke-width:0.3985;stroke-linecap:butt;stroke-linejoin:miter;stroke:rgb(0%,0%,0%);stroke-opacity:1;stroke-miterlimit:10;\" d=\"M -7.669312 -29.626812 L -161.958375 -55.341656 \" transform=\"matrix(1,0,0,-1,375.974,8.631)\"/>\n",
       "<path style=\"fill:none;stroke-width:0.31879;stroke-linecap:round;stroke-linejoin:round;stroke:rgb(0%,0%,0%);stroke-opacity:1;stroke-miterlimit:10;\" d=\"M -1.196666 1.595093 C -1.094547 0.995903 -0.000196228 0.10066 0.299721 -0.000807987 C -0.0021209 -0.100997 -1.097739 -0.99562 -1.197277 -1.592885 \" transform=\"matrix(-0.98634,0.16438,0.16438,0.98634,214.01451,63.97106)\"/>\n",
       "<path style=\"fill:none;stroke-width:0.3985;stroke-linecap:butt;stroke-linejoin:miter;stroke:rgb(0%,0%,0%);stroke-opacity:1;stroke-miterlimit:10;\" d=\"M -0.00134375 -37.177594 L -0.00134375 -47.404156 \" transform=\"matrix(1,0,0,-1,375.974,8.631)\"/>\n",
       "<path style=\"fill:none;stroke-width:0.31879;stroke-linecap:round;stroke-linejoin:round;stroke:rgb(0%,0%,0%);stroke-opacity:1;stroke-miterlimit:10;\" d=\"M -1.196486 1.592406 C -1.094924 0.99475 -0.00117375 0.100219 0.299607 -0.00134375 C -0.00117375 -0.099 -1.094924 -0.997437 -1.196486 -1.595094 \" transform=\"matrix(0,1,1,0,375.974,56.03633)\"/>\n",
       "<path style=\"fill:none;stroke-width:0.3985;stroke-linecap:butt;stroke-linejoin:miter;stroke:rgb(0%,0%,0%);stroke-opacity:1;stroke-miterlimit:10;\" d=\"M 20.678344 -29.626812 L -133.614625 -55.341656 \" transform=\"matrix(1,0,0,-1,375.974,8.631)\"/>\n",
       "<path style=\"fill:none;stroke-width:0.31879;stroke-linecap:round;stroke-linejoin:round;stroke:rgb(0%,0%,0%);stroke-opacity:1;stroke-miterlimit:10;\" d=\"M -1.193658 1.594592 C -1.095392 0.996044 -0.00104088 0.100801 0.298877 -0.000667221 C 0.000887778 -0.101499 -1.09473 -0.996122 -1.194268 -1.593387 \" transform=\"matrix(-0.98634,0.16438,0.16438,0.98634,242.36131,63.97106)\"/>\n",
       "<path style=\"fill:none;stroke-width:0.3985;stroke-linecap:butt;stroke-linejoin:miter;stroke:rgb(0%,0%,0%);stroke-opacity:1;stroke-miterlimit:10;\" d=\"M 28.346313 -37.177594 L 28.346313 -85.040875 L -6.122437 -108.021344 \" transform=\"matrix(1,0,0,-1,375.974,8.631)\"/>\n",
       "<path style=\"fill:none;stroke-width:0.31879;stroke-linecap:round;stroke-linejoin:round;stroke:rgb(0%,0%,0%);stroke-opacity:1;stroke-miterlimit:10;\" d=\"M -1.196856 1.59275 C -1.097174 0.995773 0.000362514 0.099774 0.299394 -0.000983876 C -0.00180271 -0.100663 -1.096074 -0.995597 -1.195746 -1.595826 \" transform=\"matrix(-0.83202,0.55467,0.55467,0.83202,369.85121,116.65116)\"/>\n",
       "<path style=\"fill:none;stroke-width:0.3985;stroke-linecap:butt;stroke-linejoin:miter;stroke:rgb(0%,0%,0%);stroke-opacity:1;stroke-miterlimit:10;\" d=\"M 49.026 -29.626812 L -105.266969 -55.341656 \" transform=\"matrix(1,0,0,-1,375.974,8.631)\"/>\n",
       "<path style=\"fill:none;stroke-width:0.31879;stroke-linecap:round;stroke-linejoin:round;stroke:rgb(0%,0%,0%);stroke-opacity:1;stroke-miterlimit:10;\" d=\"M -1.194492 1.594731 C -1.096227 0.996183 0.00197766 0.100297 0.298042 -0.000528099 C 0.000052994 -0.10136 -1.095565 -0.995982 -1.195103 -1.593248 \" transform=\"matrix(-0.98634,0.16438,0.16438,0.98634,270.70812,63.97106)\"/>\n",
       "<path style=\"fill:none;stroke-width:0.3985;stroke-linecap:butt;stroke-linejoin:miter;stroke:rgb(0%,0%,0%);stroke-opacity:1;stroke-miterlimit:10;\" d=\"M 56.693969 -37.177594 L 56.693969 -47.404156 \" transform=\"matrix(1,0,0,-1,375.974,8.631)\"/>\n",
       "<path style=\"fill:none;stroke-width:0.31879;stroke-linecap:round;stroke-linejoin:round;stroke:rgb(0%,0%,0%);stroke-opacity:1;stroke-miterlimit:10;\" d=\"M -1.196486 1.594099 C -1.094924 0.996443 -0.00117375 0.098005 0.299607 0.00034875 C -0.00117375 -0.101214 -1.094924 -0.995745 -1.196486 -1.593401 \" transform=\"matrix(0,1,1,0,432.66762,56.03633)\"/>\n",
       "<path style=\"fill:none;stroke-width:0.3985;stroke-linecap:butt;stroke-linejoin:miter;stroke:rgb(0%,0%,0%);stroke-opacity:1;stroke-miterlimit:10;\" d=\"M -234.44275 -58.228375 L -360.388062 -83.415875 \" transform=\"matrix(1,0,0,-1,375.974,8.631)\"/>\n",
       "<path style=\"fill:none;stroke-width:0.31879;stroke-linecap:round;stroke-linejoin:round;stroke:rgb(0%,0%,0%);stroke-opacity:1;stroke-miterlimit:10;\" d=\"M -1.197035 1.593086 C -1.097436 0.995514 -0.00187997 0.0991606 0.296907 -0.000433164 C -0.00187879 -0.10003 -1.097424 -0.996396 -1.197016 -1.59397 \" transform=\"matrix(-0.98053,0.1961,0.1961,0.98053,15.58418,92.04767)\"/>\n",
       "<path style=\"fill:none;stroke-width:0.3985;stroke-linecap:butt;stroke-linejoin:miter;stroke:rgb(0%,0%,0%);stroke-opacity:1;stroke-miterlimit:10;\" d=\"M -226.774781 -65.52525 L -226.774781 -75.751812 \" transform=\"matrix(1,0,0,-1,375.974,8.631)\"/>\n",
       "<path style=\"fill:none;stroke-width:0.31879;stroke-linecap:round;stroke-linejoin:round;stroke:rgb(0%,0%,0%);stroke-opacity:1;stroke-miterlimit:10;\" d=\"M -1.19565 1.593409 C -1.094088 0.995753 -0.0003375 0.101221 0.300444 -0.00034125 C -0.0003375 -0.0979975 -1.094088 -0.996435 -1.19565 -1.594091 \" transform=\"matrix(0,1,1,0,149.19956,84.38315)\"/>\n",
       "<path style=\"fill:none;stroke-width:0.3985;stroke-linecap:butt;stroke-linejoin:miter;stroke:rgb(0%,0%,0%);stroke-opacity:1;stroke-miterlimit:10;\" d=\"M -36.016969 -60.529156 L -76.962281 -81.001812 \" transform=\"matrix(1,0,0,-1,375.974,8.631)\"/>\n",
       "<path style=\"fill:none;stroke-width:0.31879;stroke-linecap:round;stroke-linejoin:round;stroke:rgb(0%,0%,0%);stroke-opacity:1;stroke-miterlimit:10;\" d=\"M -1.193619 1.593741 C -1.095778 0.994498 -0.000359269 0.101756 0.29839 0.000429233 C -0.000357471 -0.0991563 -1.095761 -0.997159 -1.197085 -1.592909 \" transform=\"matrix(-0.89436,0.44717,0.44717,0.89436,299.01277,89.63181)\"/>\n",
       "<path style=\"fill:none;stroke-width:0.3985;stroke-linecap:butt;stroke-linejoin:miter;stroke:rgb(0%,0%,0%);stroke-opacity:1;stroke-miterlimit:10;\" d=\"M -20.677125 -57.501812 L 240.947875 -85.040875 L 240.947875 -132.447125 \" transform=\"matrix(1,0,0,-1,375.974,8.631)\"/>\n",
       "<path style=\"fill:none;stroke-width:0.31879;stroke-linecap:round;stroke-linejoin:round;stroke:rgb(0%,0%,0%);stroke-opacity:1;stroke-miterlimit:10;\" d=\"M -1.193957 1.593765 C -1.096301 0.996109 0.001355 0.0976713 0.29823 0.000015 C 0.001355 -0.101547 -1.096301 -0.996079 -1.193957 -1.593735 \" transform=\"matrix(0,1,1,0,616.92186,141.07677)\"/>\n",
       "<path style=\"fill:none;stroke-width:0.3985;stroke-linecap:butt;stroke-linejoin:miter;stroke:rgb(0%,0%,0%);stroke-opacity:1;stroke-miterlimit:10;\" d=\"M -28.345094 -65.52525 L -28.345094 -75.751812 \" transform=\"matrix(1,0,0,-1,375.974,8.631)\"/>\n",
       "<path style=\"fill:none;stroke-width:0.31879;stroke-linecap:round;stroke-linejoin:round;stroke:rgb(0%,0%,0%);stroke-opacity:1;stroke-miterlimit:10;\" d=\"M -1.19565 1.595456 C -1.094088 0.9978 -0.0003375 0.0993625 0.300444 0.00170625 C -0.0003375 -0.0998563 -1.094088 -0.994388 -1.19565 -1.59595 \" transform=\"matrix(0,1,1,0,347.6272,84.38315)\"/>\n",
       "<path style=\"fill:none;stroke-width:0.3985;stroke-linecap:butt;stroke-linejoin:miter;stroke:rgb(0%,0%,0%);stroke-opacity:1;stroke-miterlimit:10;\" d=\"M -360.837281 -88.876812 L -319.895875 -109.349469 \" transform=\"matrix(1,0,0,-1,375.974,8.631)\"/>\n",
       "<path style=\"fill:none;stroke-width:0.31879;stroke-linecap:round;stroke-linejoin:round;stroke:rgb(0%,0%,0%);stroke-opacity:1;stroke-miterlimit:10;\" d=\"M -1.195781 1.592627 C -1.094456 0.996876 0.000946816 0.0988734 0.299694 -0.00071213 C -0.000802017 -0.0985452 -1.094474 -0.994781 -1.195809 -1.595771 \" transform=\"matrix(0.89436,0.44717,0.44717,-0.89436,56.07994,117.97863)\"/>\n",
       "<path style=\"fill:none;stroke-width:0.3985;stroke-linecap:butt;stroke-linejoin:miter;stroke:rgb(0%,0%,0%);stroke-opacity:1;stroke-miterlimit:10;\" d=\"M -360.837281 -85.943219 L -135.684937 -112.4315 \" transform=\"matrix(1,0,0,-1,375.974,8.631)\"/>\n",
       "<path style=\"fill:none;stroke-width:0.31879;stroke-linecap:round;stroke-linejoin:round;stroke:rgb(0%,0%,0%);stroke-opacity:1;stroke-miterlimit:10;\" d=\"M -1.194337 1.594063 C -1.096441 0.995903 0.000359558 0.0983066 0.299095 -0.000287971 C -0.0000998659 -0.098417 -1.094417 -0.994154 -1.197124 -1.592311 \" transform=\"matrix(0.9931,0.11682,0.11682,-0.9931,240.28894,121.06243)\"/>\n",
       "<path style=\"fill:none;stroke-width:0.3985;stroke-linecap:butt;stroke-linejoin:miter;stroke:rgb(0%,0%,0%);stroke-opacity:1;stroke-miterlimit:10;\" d=\"M -222.360719 -93.869 L -216.224 -106.138531 \" transform=\"matrix(1,0,0,-1,375.974,8.631)\"/>\n",
       "<path style=\"fill:none;stroke-width:0.31879;stroke-linecap:round;stroke-linejoin:round;stroke:rgb(0%,0%,0%);stroke-opacity:1;stroke-miterlimit:10;\" d=\"M -1.195937 1.594562 C -1.098096 0.995319 0.000817005 0.10083 0.299566 -0.000497121 C 0.000818802 -0.100083 -1.098078 -0.996338 -1.195909 -1.593836 \" transform=\"matrix(0.44717,0.89436,0.89436,-0.44717,159.7493,114.77092)\"/>\n",
       "<path style=\"fill:none;stroke-width:0.3985;stroke-linecap:butt;stroke-linejoin:miter;stroke:rgb(0%,0%,0%);stroke-opacity:1;stroke-miterlimit:10;\" d=\"M -219.106812 -85.771344 L 70.865844 -113.388531 L 70.865844 -162.716656 \" transform=\"matrix(1,0,0,-1,375.974,8.631)\"/>\n",
       "<path style=\"fill:none;stroke-width:0.31879;stroke-linecap:round;stroke-linejoin:round;stroke:rgb(0%,0%,0%);stroke-opacity:1;stroke-miterlimit:10;\" d=\"M -1.194056 1.592594 C -1.0964 0.994937 0.00125625 0.100406 0.298131 -0.00115625 C 0.00125625 -0.0988125 -1.0964 -0.99725 -1.194056 -1.594906 \" transform=\"matrix(0,1,1,0,446.841,171.3464)\"/>\n",
       "<path style=\"fill:none;stroke-width:0.3985;stroke-linecap:butt;stroke-linejoin:miter;stroke:rgb(0%,0%,0%);stroke-opacity:1;stroke-miterlimit:10;\" d=\"M -119.891969 -113.704937 L 544.635375 -141.396344 \" transform=\"matrix(1,0,0,-1,375.974,8.631)\"/>\n",
       "<path style=\"fill:none;stroke-width:0.31879;stroke-linecap:round;stroke-linejoin:round;stroke:rgb(0%,0%,0%);stroke-opacity:1;stroke-miterlimit:10;\" d=\"M -1.196571 1.595256 C -1.097379 0.997271 -0.000468554 0.100682 0.296976 -0.000315604 C 0.0000156777 -0.0987002 -1.096439 -0.996712 -1.196629 -1.595182 \" transform=\"matrix(0.99908,0.04161,0.04161,-0.99908,920.60956,150.02639)\"/>\n",
       "<path style=\"fill:none;stroke-width:0.3985;stroke-linecap:butt;stroke-linejoin:miter;stroke:rgb(0%,0%,0%);stroke-opacity:1;stroke-miterlimit:10;\" d=\"M -127.559937 -122.216656 L -127.559937 -132.447125 \" transform=\"matrix(1,0,0,-1,375.974,8.631)\"/>\n",
       "<path style=\"fill:none;stroke-width:0.31879;stroke-linecap:round;stroke-linejoin:round;stroke:rgb(0%,0%,0%);stroke-opacity:1;stroke-miterlimit:10;\" d=\"M -1.193957 1.594423 C -1.096301 0.996766 0.001355 0.0983288 0.29823 0.0006725 C 0.001355 -0.10089 -1.096301 -0.995421 -1.193957 -1.593077 \" transform=\"matrix(0,1,1,0,248.41339,141.07677)\"/>\n",
       "<path style=\"fill:none;stroke-width:0.3985;stroke-linecap:butt;stroke-linejoin:miter;stroke:rgb(0%,0%,0%);stroke-opacity:1;stroke-miterlimit:10;\" d=\"M -89.454469 -93.869 L -94.595094 -104.146344 \" transform=\"matrix(1,0,0,-1,375.974,8.631)\"/>\n",
       "<path style=\"fill:none;stroke-width:0.31879;stroke-linecap:round;stroke-linejoin:round;stroke:rgb(0%,0%,0%);stroke-opacity:1;stroke-miterlimit:10;\" d=\"M -1.195359 1.593547 C -1.097529 0.996049 0.00136836 0.0997941 0.300116 0.000208641 C -0.000380476 -0.0976244 -1.097547 -0.995607 -1.195388 -1.59485 \" transform=\"matrix(-0.44717,0.89436,0.89436,0.44717,281.38011,112.77837)\"/>\n",
       "<path style=\"fill:none;stroke-width:0.3985;stroke-linecap:butt;stroke-linejoin:miter;stroke:rgb(0%,0%,0%);stroke-opacity:1;stroke-miterlimit:10;\" d=\"M -92.708375 -87.232281 L -176.145875 -111.068219 \" transform=\"matrix(1,0,0,-1,375.974,8.631)\"/>\n",
       "<path style=\"fill:none;stroke-width:0.31879;stroke-linecap:round;stroke-linejoin:round;stroke:rgb(0%,0%,0%);stroke-opacity:1;stroke-miterlimit:10;\" d=\"M -1.196144 1.595131 C -1.094716 0.997382 0.00154149 0.0991696 0.297737 -0.00170084 C 0.00154614 -0.0999022 -1.095742 -0.997092 -1.197142 -1.593773 \" transform=\"matrix(-0.9615,0.27469,0.27469,0.9615,199.82971,119.7011)\"/>\n",
       "<path style=\"fill:none;stroke-width:0.3985;stroke-linecap:butt;stroke-linejoin:miter;stroke:rgb(0%,0%,0%);stroke-opacity:1;stroke-miterlimit:10;\" d=\"M 248.615844 -146.845562 L 275.416625 -164.71275 \" transform=\"matrix(1,0,0,-1,375.974,8.631)\"/>\n",
       "<path style=\"fill:none;stroke-width:0.31879;stroke-linecap:round;stroke-linejoin:round;stroke:rgb(0%,0%,0%);stroke-opacity:1;stroke-miterlimit:10;\" d=\"M -1.195206 1.594128 C -1.097701 0.99715 -0.00126256 0.0989651 0.299934 -0.000714275 C -0.0012642 -0.0982218 -1.096634 -0.997471 -1.196316 -1.594448 \" transform=\"matrix(0.83202,0.55467,0.55467,-0.83202,651.39147,173.34476)\"/>\n",
       "<path style=\"fill:none;stroke-width:0.3985;stroke-linecap:butt;stroke-linejoin:miter;stroke:rgb(0%,0%,0%);stroke-opacity:1;stroke-miterlimit:10;\" d=\"M 248.615844 -143.068219 L 397.479125 -168.958844 \" transform=\"matrix(1,0,0,-1,375.974,8.631)\"/>\n",
       "<path style=\"fill:none;stroke-width:0.31879;stroke-linecap:round;stroke-linejoin:round;stroke:rgb(0%,0%,0%);stroke-opacity:1;stroke-miterlimit:10;\" d=\"M -1.19405 1.594522 C -1.094161 0.997329 0.00132492 0.101447 0.300673 -0.00112736 C 0.000821113 -0.100852 -1.096187 -0.997383 -1.194748 -1.593404 \" transform=\"matrix(0.9852,0.17133,0.17133,-0.9852,773.45397,177.588)\"/>\n",
       "<path style=\"fill:none;stroke-width:0.3985;stroke-linecap:butt;stroke-linejoin:miter;stroke:rgb(0%,0%,0%);stroke-opacity:1;stroke-miterlimit:10;\" d=\"M -20.677125 -86.744 L 99.2135 -113.388531 L 99.2135 -141.732281 L 77.9635 -162.982281 \" transform=\"matrix(1,0,0,-1,375.974,8.631)\"/>\n",
       "<path style=\"fill:none;stroke-width:0.31879;stroke-linecap:round;stroke-linejoin:round;stroke:rgb(0%,0%,0%);stroke-opacity:1;stroke-miterlimit:10;\" d=\"M -1.194413 1.595074 C -1.097737 0.995685 0.00160338 0.100744 0.299917 0.00130639 C -0.00115878 -0.100894 -1.094975 -0.995834 -1.194413 -1.592461 \" transform=\"matrix(-0.7071,0.7071,0.7071,0.7071,453.93771,171.61513)\"/>\n",
       "<path style=\"fill:none;stroke-width:0.3985;stroke-linecap:butt;stroke-linejoin:miter;stroke:rgb(0%,0%,0%);stroke-opacity:1;stroke-miterlimit:10;\" d=\"M -36.016969 -90.154156 L -62.81775 -108.021344 \" transform=\"matrix(1,0,0,-1,375.974,8.631)\"/>\n",
       "<path style=\"fill:none;stroke-width:0.31879;stroke-linecap:round;stroke-linejoin:round;stroke:rgb(0%,0%,0%);stroke-opacity:1;stroke-miterlimit:10;\" d=\"M -1.195439 1.591806 C -1.095757 0.994829 0.00177915 0.0988295 0.29756 0.00023858 C -0.000386074 -0.101608 -1.094657 -0.996542 -1.19758 -1.594604 \" transform=\"matrix(-0.83202,0.55467,0.55467,0.83202,313.1576,116.65116)\"/>\n",
       "<path style=\"fill:none;stroke-width:0.3985;stroke-linecap:butt;stroke-linejoin:miter;stroke:rgb(0%,0%,0%);stroke-opacity:1;stroke-miterlimit:10;\" d=\"M -91.544312 -113.693219 L 601.330688 -141.408062 \" transform=\"matrix(1,0,0,-1,375.974,8.631)\"/>\n",
       "<path style=\"fill:none;stroke-width:0.31879;stroke-linecap:round;stroke-linejoin:round;stroke:rgb(0%,0%,0%);stroke-opacity:1;stroke-miterlimit:10;\" d=\"M -1.195985 1.595089 C -1.097787 0.996941 0.00153243 0.0986889 0.298652 0.00110085 C 0.00168538 -0.100693 -1.096258 -0.99688 -1.193538 -1.595025 \" transform=\"matrix(0.99915,0.03995,0.03995,-0.99915,977.30312,150.03995)\"/>\n",
       "<path style=\"fill:none;stroke-width:0.3985;stroke-linecap:butt;stroke-linejoin:miter;stroke:rgb(0%,0%,0%);stroke-opacity:1;stroke-miterlimit:10;\" d=\"M -99.212281 -122.216656 L -99.212281 -132.447125 \" transform=\"matrix(1,0,0,-1,375.974,8.631)\"/>\n",
       "<path style=\"fill:none;stroke-width:0.31879;stroke-linecap:round;stroke-linejoin:round;stroke:rgb(0%,0%,0%);stroke-opacity:1;stroke-miterlimit:10;\" d=\"M -1.193957 1.595289 C -1.096301 0.997633 0.001355 0.099195 0.29823 0.00153875 C 0.001355 -0.100024 -1.096301 -0.994555 -1.193957 -1.592211 \" transform=\"matrix(0,1,1,0,276.76018,141.07677)\"/>\n",
       "<path style=\"fill:none;stroke-width:0.3985;stroke-linecap:butt;stroke-linejoin:miter;stroke:rgb(0%,0%,0%);stroke-opacity:1;stroke-miterlimit:10;\" d=\"M -176.583375 -113.865094 L 261.166625 -141.224469 \" transform=\"matrix(1,0,0,-1,375.974,8.631)\"/>\n",
       "<path style=\"fill:none;stroke-width:0.31879;stroke-linecap:round;stroke-linejoin:round;stroke:rgb(0%,0%,0%);stroke-opacity:1;stroke-miterlimit:10;\" d=\"M -1.19693 1.594278 C -1.097029 0.997746 0.000251737 0.0995232 0.299978 0.000828265 C 0.000979915 -0.100051 -1.097789 -0.994587 -1.197219 -1.595746 \" transform=\"matrix(0.99799,0.06236,0.06236,-0.99799,637.14198,149.85712)\"/>\n",
       "<path style=\"fill:none;stroke-width:0.3985;stroke-linecap:butt;stroke-linejoin:miter;stroke:rgb(0%,0%,0%);stroke-opacity:1;stroke-miterlimit:10;\" d=\"M -184.25525 -122.216656 L -184.25525 -132.447125 \" transform=\"matrix(1,0,0,-1,375.974,8.631)\"/>\n",
       "<path style=\"fill:none;stroke-width:0.31879;stroke-linecap:round;stroke-linejoin:round;stroke:rgb(0%,0%,0%);stroke-opacity:1;stroke-miterlimit:10;\" d=\"M -1.193957 1.59273 C -1.096301 0.995074 0.001355 0.100543 0.29823 -0.00102 C 0.001355 -0.0986762 -1.096301 -0.997114 -1.193957 -1.59477 \" transform=\"matrix(0,1,1,0,191.71977,141.07677)\"/>\n",
       "<path style=\"fill:none;stroke-width:0.3985;stroke-linecap:butt;stroke-linejoin:miter;stroke:rgb(0%,0%,0%);stroke-opacity:1;stroke-miterlimit:10;\" d=\"M 273.709594 -150.564312 L 279.787719 -162.724469 \" transform=\"matrix(1,0,0,-1,375.974,8.631)\"/>\n",
       "<path style=\"fill:none;stroke-width:0.31879;stroke-linecap:round;stroke-linejoin:round;stroke:rgb(0%,0%,0%);stroke-opacity:1;stroke-miterlimit:10;\" d=\"M -1.193616 1.594872 C -1.095775 0.995628 -0.00210296 0.0993927 0.298393 0.00155966 C -0.000354127 -0.0980258 -1.095757 -0.996028 -1.193588 -1.593526 \" transform=\"matrix(0.44717,0.89436,0.89436,-0.44717,655.76361,171.35492)\"/>\n",
       "<path style=\"fill:none;stroke-width:0.3985;stroke-linecap:butt;stroke-linejoin:miter;stroke:rgb(0%,0%,0%);stroke-opacity:1;stroke-miterlimit:10;\" d=\"M 276.9635 -145.142437 L 324.986938 -166.486187 \" transform=\"matrix(1,0,0,-1,375.974,8.631)\"/>\n",
       "<path style=\"fill:none;stroke-width:0.31879;stroke-linecap:round;stroke-linejoin:round;stroke:rgb(0%,0%,0%);stroke-opacity:1;stroke-miterlimit:10;\" d=\"M -1.195365 1.593227 C -1.096604 0.995905 -0.000717458 0.0979381 0.299134 0.000367741 C 0.000869256 -0.0979965 -1.096205 -0.995965 -1.193378 -1.594875 \" transform=\"matrix(0.91379,0.40613,0.40613,-0.91379,700.96088,175.11713)\"/>\n",
       "<path style=\"fill:none;stroke-width:0.3985;stroke-linecap:butt;stroke-linejoin:miter;stroke:rgb(0%,0%,0%);stroke-opacity:1;stroke-miterlimit:10;\" d=\"M -176.583375 -142.58775 L 63.639281 -169.279156 \" transform=\"matrix(1,0,0,-1,375.974,8.631)\"/>\n",
       "<path style=\"fill:none;stroke-width:0.31879;stroke-linecap:round;stroke-linejoin:round;stroke:rgb(0%,0%,0%);stroke-opacity:1;stroke-miterlimit:10;\" d=\"M -1.1948 1.595186 C -1.096885 0.996849 0.000982863 0.100835 0.299071 0.000316083 C -0.000314847 -0.0997608 -1.095626 -0.995736 -1.194425 -1.592344 \" transform=\"matrix(0.99385,0.11041,0.11041,-0.99385,439.61289,177.9087)\"/>\n",
       "<path style=\"fill:none;stroke-width:0.3985;stroke-linecap:butt;stroke-linejoin:miter;stroke:rgb(0%,0%,0%);stroke-opacity:1;stroke-miterlimit:10;\" d=\"M -176.583375 -142.130719 L 354.951781 -169.744 \" transform=\"matrix(1,0,0,-1,375.974,8.631)\"/>\n",
       "<path style=\"fill:none;stroke-width:0.31879;stroke-linecap:round;stroke-linejoin:round;stroke:rgb(0%,0%,0%);stroke-opacity:1;stroke-miterlimit:10;\" d=\"M -1.195463 1.59336 C -1.094045 0.996239 0.000878084 0.098667 0.299335 0.0007295 C -0.000493193 -0.100896 -1.096257 -0.994885 -1.1942 -1.594536 \" transform=\"matrix(0.99863,0.05186,0.05186,-0.99863,730.9276,178.37583)\"/>\n",
       "<path style=\"fill:none;stroke-width:0.3985;stroke-linecap:butt;stroke-linejoin:miter;stroke:rgb(0%,0%,0%);stroke-opacity:1;stroke-miterlimit:10;\" d=\"M -63.196656 -113.693219 L 629.674438 -141.408062 \" transform=\"matrix(1,0,0,-1,375.974,8.631)\"/>\n",
       "<path style=\"fill:none;stroke-width:0.31879;stroke-linecap:round;stroke-linejoin:round;stroke:rgb(0%,0%,0%);stroke-opacity:1;stroke-miterlimit:10;\" d=\"M -1.19513 1.595123 C -1.096932 0.996975 -0.00151529 0.098567 0.299508 0.00113506 C -0.00136234 -0.100815 -1.095402 -0.996846 -1.196586 -1.595147 \" transform=\"matrix(0.99915,0.03995,0.03995,-0.99915,1005.64992,150.03995)\"/>\n",
       "<path style=\"fill:none;stroke-width:0.3985;stroke-linecap:butt;stroke-linejoin:miter;stroke:rgb(0%,0%,0%);stroke-opacity:1;stroke-miterlimit:10;\" d=\"M -70.868531 -122.216656 L -70.868531 -132.447125 \" transform=\"matrix(1,0,0,-1,375.974,8.631)\"/>\n",
       "<path style=\"fill:none;stroke-width:0.31879;stroke-linecap:round;stroke-linejoin:round;stroke:rgb(0%,0%,0%);stroke-opacity:1;stroke-miterlimit:10;\" d=\"M -1.193957 1.592219 C -1.096301 0.994563 0.001355 0.100031 0.29823 -0.00153125 C 0.001355 -0.0991875 -1.096301 -0.997625 -1.193957 -1.595281 \" transform=\"matrix(0,1,1,0,305.107,141.07677)\"/>\n",
       "<path style=\"fill:none;stroke-width:0.3985;stroke-linecap:butt;stroke-linejoin:miter;stroke:rgb(0%,0%,0%);stroke-opacity:1;stroke-miterlimit:10;\" d=\"M -198.427125 -65.52525 L -198.427125 -75.751812 \" transform=\"matrix(1,0,0,-1,375.974,8.631)\"/>\n",
       "<path style=\"fill:none;stroke-width:0.31879;stroke-linecap:round;stroke-linejoin:round;stroke:rgb(0%,0%,0%);stroke-opacity:1;stroke-miterlimit:10;\" d=\"M -1.19565 1.594255 C -1.094088 0.996599 -0.0003375 0.0981613 0.300444 0.000505 C -0.0003375 -0.101057 -1.094088 -0.995589 -1.19565 -1.593245 \" transform=\"matrix(0,1,1,0,177.54637,84.38315)\"/>\n",
       "<path style=\"fill:none;stroke-width:0.3985;stroke-linecap:butt;stroke-linejoin:miter;stroke:rgb(0%,0%,0%);stroke-opacity:1;stroke-miterlimit:10;\" d=\"M -206.095094 -58.228375 L -332.044312 -83.415875 \" transform=\"matrix(1,0,0,-1,375.974,8.631)\"/>\n",
       "<path style=\"fill:none;stroke-width:0.31879;stroke-linecap:round;stroke-linejoin:round;stroke:rgb(0%,0%,0%);stroke-opacity:1;stroke-miterlimit:10;\" d=\"M -1.194007 1.592448 C -1.094408 0.994888 0.00113017 0.0985565 0.299912 -0.00103406 C 0.00113212 -0.100631 -1.094388 -0.996983 -1.193976 -1.594545 \" transform=\"matrix(-0.98055,0.1961,0.1961,0.98055,43.931,92.04767)\"/>\n",
       "<path style=\"fill:none;stroke-width:0.3985;stroke-linecap:butt;stroke-linejoin:miter;stroke:rgb(0%,0%,0%);stroke-opacity:1;stroke-miterlimit:10;\" d=\"M -202.841187 -93.869 L -208.977906 -106.138531 \" transform=\"matrix(1,0,0,-1,375.974,8.631)\"/>\n",
       "<path style=\"fill:none;stroke-width:0.31879;stroke-linecap:round;stroke-linejoin:round;stroke:rgb(0%,0%,0%);stroke-opacity:1;stroke-miterlimit:10;\" d=\"M -1.195991 1.594 C -1.098161 0.996502 0.000736622 0.100247 0.299484 0.000661486 C 0.000734824 -0.100666 -1.096431 -0.998648 -1.19602 -1.594397 \" transform=\"matrix(-0.44717,0.89436,0.89436,0.44717,166.99661,114.77092)\"/>\n",
       "<path style=\"fill:none;stroke-width:0.3985;stroke-linecap:butt;stroke-linejoin:miter;stroke:rgb(0%,0%,0%);stroke-opacity:1;stroke-miterlimit:10;\" d=\"M -190.759156 -90.154156 L -163.958375 -108.021344 \" transform=\"matrix(1,0,0,-1,375.974,8.631)\"/>\n",
       "<path style=\"fill:none;stroke-width:0.31879;stroke-linecap:round;stroke-linejoin:round;stroke:rgb(0%,0%,0%);stroke-opacity:1;stroke-miterlimit:10;\" d=\"M -1.195748 1.595825 C -1.096076 0.995596 -0.00180479 0.100662 0.299392 0.00098249 C 0.000360433 -0.0997753 -1.097176 -0.995775 -1.196858 -1.592752 \" transform=\"matrix(0.83202,0.55467,0.55467,-0.83202,212.01598,116.65116)\"/>\n",
       "<path style=\"fill:none;stroke-width:0.3985;stroke-linecap:butt;stroke-linejoin:miter;stroke:rgb(0%,0%,0%);stroke-opacity:1;stroke-miterlimit:10;\" d=\"M -332.493531 -92.708844 L -318.977906 -106.224469 \" transform=\"matrix(1,0,0,-1,375.974,8.631)\"/>\n",
       "<path style=\"fill:none;stroke-width:0.31879;stroke-linecap:round;stroke-linejoin:round;stroke:rgb(0%,0%,0%);stroke-opacity:1;stroke-miterlimit:10;\" d=\"M -1.195275 1.596321 C -1.095837 0.99417 -0.00202058 0.0992292 0.299055 0.00255356 C -0.00202058 -0.0996464 -1.095837 -0.994587 -1.198037 -1.593976 \" transform=\"matrix(0.7071,0.7071,0.7071,-0.7071,56.99767,114.85675)\"/>\n",
       "<path style=\"fill:none;stroke-width:0.3985;stroke-linecap:butt;stroke-linejoin:miter;stroke:rgb(0%,0%,0%);stroke-opacity:1;stroke-miterlimit:10;\" d=\"M -332.493531 -85.27525 L 581.108031 -113.388531 L 581.108031 -141.732281 L 530.834594 -166.869 \" transform=\"matrix(1,0,0,-1,375.974,8.631)\"/>\n",
       "<path style=\"fill:none;stroke-width:0.31879;stroke-linecap:round;stroke-linejoin:round;stroke:rgb(0%,0%,0%);stroke-opacity:1;stroke-miterlimit:10;\" d=\"M -1.195971 1.59633 C -1.094636 0.99534 -0.000964149 0.0991043 0.299532 0.00127119 C 0.000784684 -0.0983143 -1.094618 -0.996317 -1.195943 -1.592067 \" transform=\"matrix(-0.89436,0.44717,0.44717,0.89436,906.81029,175.50164)\"/>\n",
       "<path style=\"fill:none;stroke-width:0.3985;stroke-linecap:butt;stroke-linejoin:miter;stroke:rgb(0%,0%,0%);stroke-opacity:1;stroke-miterlimit:10;\" d=\"M -155.907594 -122.216656 L -155.907594 -132.447125 \" transform=\"matrix(1,0,0,-1,375.974,8.631)\"/>\n",
       "<path style=\"fill:none;stroke-width:0.31879;stroke-linecap:round;stroke-linejoin:round;stroke:rgb(0%,0%,0%);stroke-opacity:1;stroke-miterlimit:10;\" d=\"M -1.193957 1.593576 C -1.096301 0.99592 0.001355 0.101389 0.29823 -0.00017375 C 0.001355 -0.09783 -1.096301 -0.996267 -1.193957 -1.593924 \" transform=\"matrix(0,1,1,0,220.06658,141.07677)\"/>\n",
       "<path style=\"fill:none;stroke-width:0.3985;stroke-linecap:butt;stroke-linejoin:miter;stroke:rgb(0%,0%,0%);stroke-opacity:1;stroke-miterlimit:10;\" d=\"M -148.239625 -113.704937 L 516.287719 -141.396344 \" transform=\"matrix(1,0,0,-1,375.974,8.631)\"/>\n",
       "<path style=\"fill:none;stroke-width:0.31879;stroke-linecap:round;stroke-linejoin:round;stroke:rgb(0%,0%,0%);stroke-opacity:1;stroke-miterlimit:10;\" d=\"M -1.197406 1.595221 C -1.094311 0.997398 -0.00130412 0.100647 0.300044 -0.000187848 C -0.000819893 -0.098735 -1.097275 -0.996747 -1.193562 -1.595054 \" transform=\"matrix(0.99908,0.04161,0.04161,-0.99908,892.26274,150.02639)\"/>\n",
       "<path style=\"fill:none;stroke-width:0.3985;stroke-linecap:butt;stroke-linejoin:miter;stroke:rgb(0%,0%,0%);stroke-opacity:1;stroke-miterlimit:10;\" d=\"M -148.239625 -142.693219 L 63.639281 -169.177594 \" transform=\"matrix(1,0,0,-1,375.974,8.631)\"/>\n",
       "<path style=\"fill:none;stroke-width:0.31879;stroke-linecap:round;stroke-linejoin:round;stroke:rgb(0%,0%,0%);stroke-opacity:1;stroke-miterlimit:10;\" d=\"M -1.195585 1.594349 C -1.097235 0.99645 -0.000776806 0.0981357 0.298655 0.0017125 C 0.000189794 -0.0985795 -1.09629 -0.995413 -1.194655 -1.594278 \" transform=\"matrix(0.99226,0.12402,0.12402,-0.99226,439.6136,177.80841)\"/>\n",
       "<path style=\"fill:none;stroke-width:0.3985;stroke-linecap:butt;stroke-linejoin:miter;stroke:rgb(0%,0%,0%);stroke-opacity:1;stroke-miterlimit:10;\" d=\"M -148.239625 -142.083844 L 461.252563 -169.786969 \" transform=\"matrix(1,0,0,-1,375.974,8.631)\"/>\n",
       "<path style=\"fill:none;stroke-width:0.31879;stroke-linecap:round;stroke-linejoin:round;stroke:rgb(0%,0%,0%);stroke-opacity:1;stroke-miterlimit:10;\" d=\"M -1.196268 1.595702 C -1.094809 0.9981 0.0017641 0.101604 0.299589 0.00173569 C -0.000897719 -0.0979515 -1.09411 -0.99621 -1.195931 -1.595229 \" transform=\"matrix(0.99892,0.0454,0.0454,-0.99892,837.228,178.41782)\"/>\n",
       "<path style=\"fill:none;stroke-width:0.3985;stroke-linecap:butt;stroke-linejoin:miter;stroke:rgb(0%,0%,0%);stroke-opacity:1;stroke-miterlimit:10;\" d=\"M 516.74475 -149.404156 L 503.229125 -162.919781 \" transform=\"matrix(1,0,0,-1,375.974,8.631)\"/>\n",
       "<path style=\"fill:none;stroke-width:0.31879;stroke-linecap:round;stroke-linejoin:round;stroke:rgb(0%,0%,0%);stroke-opacity:1;stroke-miterlimit:10;\" d=\"M -1.19469 1.593037 C -1.095252 0.99641 0.00132672 0.0987069 0.29964 -0.000730979 C 0.00132672 -0.100169 -1.095252 -0.997872 -1.19469 -1.594499 \" transform=\"matrix(-0.7071,0.7071,0.7071,0.7071,879.20458,171.55036)\"/>\n",
       "<path style=\"fill:none;stroke-width:0.3985;stroke-linecap:butt;stroke-linejoin:miter;stroke:rgb(0%,0%,0%);stroke-opacity:1;stroke-miterlimit:10;\" d=\"M 524.416625 -150.564312 L 524.416625 -162.673687 \" transform=\"matrix(1,0,0,-1,375.974,8.631)\"/>\n",
       "<path style=\"fill:none;stroke-width:0.31879;stroke-linecap:round;stroke-linejoin:round;stroke:rgb(0%,0%,0%);stroke-opacity:1;stroke-miterlimit:10;\" d=\"M -1.197145 1.594465 C -1.095582 0.996809 -0.0018325 0.0983713 0.298949 0.000715 C -0.0018325 -0.100847 -1.095582 -0.995379 -1.197145 -1.593035 \" transform=\"matrix(0,1,1,0,900.38991,171.30652)\"/>\n",
       "<path style=\"fill:none;stroke-width:0.3985;stroke-linecap:butt;stroke-linejoin:miter;stroke:rgb(0%,0%,0%);stroke-opacity:1;stroke-miterlimit:10;\" d=\"M -170.079469 -65.52525 L -170.079469 -75.751812 \" transform=\"matrix(1,0,0,-1,375.974,8.631)\"/>\n",
       "<path style=\"fill:none;stroke-width:0.31879;stroke-linecap:round;stroke-linejoin:round;stroke:rgb(0%,0%,0%);stroke-opacity:1;stroke-miterlimit:10;\" d=\"M -1.19565 1.595121 C -1.094088 0.997465 -0.0003375 0.0990275 0.300444 0.00137125 C -0.0003375 -0.100191 -1.094088 -0.994722 -1.19565 -1.592379 \" transform=\"matrix(0,1,1,0,205.89316,84.38315)\"/>\n",
       "<path style=\"fill:none;stroke-width:0.3985;stroke-linecap:butt;stroke-linejoin:miter;stroke:rgb(0%,0%,0%);stroke-opacity:1;stroke-miterlimit:10;\" d=\"M -177.751344 -58.228375 L -303.696656 -83.415875 \" transform=\"matrix(1,0,0,-1,375.974,8.631)\"/>\n",
       "<path style=\"fill:none;stroke-width:0.31879;stroke-linecap:round;stroke-linejoin:round;stroke:rgb(0%,0%,0%);stroke-opacity:1;stroke-miterlimit:10;\" d=\"M -1.194847 1.592616 C -1.095247 0.995056 0.000290519 0.0987245 0.299072 -0.000866136 C 0.000292472 -0.100463 -1.095228 -0.996815 -1.194815 -1.594377 \" transform=\"matrix(-0.98055,0.1961,0.1961,0.98055,72.2778,92.04767)\"/>\n",
       "<path style=\"fill:none;stroke-width:0.3985;stroke-linecap:butt;stroke-linejoin:miter;stroke:rgb(0%,0%,0%);stroke-opacity:1;stroke-miterlimit:10;\" d=\"M -7.669312 -60.529156 L -48.614625 -81.001812 \" transform=\"matrix(1,0,0,-1,375.974,8.631)\"/>\n",
       "<path style=\"fill:none;stroke-width:0.31879;stroke-linecap:round;stroke-linejoin:round;stroke:rgb(0%,0%,0%);stroke-opacity:1;stroke-miterlimit:10;\" d=\"M -1.194368 1.594115 C -1.096526 0.994872 0.00238685 0.100383 0.297642 0.000803238 C -0.0011055 -0.0987823 -1.096509 -0.996785 -1.194339 -1.594282 \" transform=\"matrix(-0.89436,0.44717,0.44717,0.89436,327.35959,89.63181)\"/>\n",
       "<path style=\"fill:none;stroke-width:0.3985;stroke-linecap:butt;stroke-linejoin:miter;stroke:rgb(0%,0%,0%);stroke-opacity:1;stroke-miterlimit:10;\" d=\"M 7.670531 -57.283062 L 360.381469 -84.415875 \" transform=\"matrix(1,0,0,-1,375.974,8.631)\"/>\n",
       "<path style=\"fill:none;stroke-width:0.31879;stroke-linecap:round;stroke-linejoin:round;stroke:rgb(0%,0%,0%);stroke-opacity:1;stroke-miterlimit:10;\" d=\"M -1.196799 1.592128 C -1.096136 0.996498 -0.000764327 0.101243 0.297049 -0.00122846 C -0.00106639 -0.0985988 -1.095561 -0.997722 -1.19474 -1.593051 \" transform=\"matrix(0.997,0.07668,0.07668,-0.997,736.35628,93.04631)\"/>\n",
       "<path style=\"fill:none;stroke-width:0.3985;stroke-linecap:butt;stroke-linejoin:miter;stroke:rgb(0%,0%,0%);stroke-opacity:1;stroke-miterlimit:10;\" d=\"M -0.00134375 -65.52525 L -0.00134375 -75.751812 \" transform=\"matrix(1,0,0,-1,375.974,8.631)\"/>\n",
       "<path style=\"fill:none;stroke-width:0.31879;stroke-linecap:round;stroke-linejoin:round;stroke:rgb(0%,0%,0%);stroke-opacity:1;stroke-miterlimit:10;\" d=\"M -1.19565 1.592406 C -1.094088 0.99475 -0.0003375 0.100219 0.300444 -0.00134375 C -0.0003375 -0.099 -1.094088 -0.997437 -1.19565 -1.595094 \" transform=\"matrix(0,1,1,0,375.974,84.38315)\"/>\n",
       "<path style=\"fill:none;stroke-width:0.3985;stroke-linecap:butt;stroke-linejoin:miter;stroke:rgb(0%,0%,0%);stroke-opacity:1;stroke-miterlimit:10;\" d=\"M -162.4115 -90.154156 L -135.610719 -108.021344 \" transform=\"matrix(1,0,0,-1,375.974,8.631)\"/>\n",
       "<path style=\"fill:none;stroke-width:0.31879;stroke-linecap:round;stroke-linejoin:round;stroke:rgb(0%,0%,0%);stroke-opacity:1;stroke-miterlimit:10;\" d=\"M -1.195019 1.596311 C -1.095347 0.996082 -0.00107567 0.101148 0.300121 0.00146856 C 0.00108955 -0.0992893 -1.096447 -0.995289 -1.196129 -1.592266 \" transform=\"matrix(0.83202,0.55467,0.55467,-0.83202,240.36276,116.65116)\"/>\n",
       "<path style=\"fill:none;stroke-width:0.3985;stroke-linecap:butt;stroke-linejoin:miter;stroke:rgb(0%,0%,0%);stroke-opacity:1;stroke-miterlimit:10;\" d=\"M -177.751344 -90.154156 L -206.208375 -109.126812 \" transform=\"matrix(1,0,0,-1,375.974,8.631)\"/>\n",
       "<path style=\"fill:none;stroke-width:0.31879;stroke-linecap:round;stroke-linejoin:round;stroke:rgb(0%,0%,0%);stroke-opacity:1;stroke-miterlimit:10;\" d=\"M -1.195324 1.595954 C -1.097809 0.995726 -0.000272644 0.0997271 0.298759 -0.00103069 C -0.000271004 -0.0974597 -1.096709 -0.995644 -1.194214 -1.592623 \" transform=\"matrix(-0.83202,0.55467,0.55467,0.83202,169.76477,117.75702)\"/>\n",
       "<path style=\"fill:none;stroke-width:0.3985;stroke-linecap:butt;stroke-linejoin:miter;stroke:rgb(0%,0%,0%);stroke-opacity:1;stroke-miterlimit:10;\" d=\"M -311.813844 -93.869 L -311.813844 -106.091656 \" transform=\"matrix(1,0,0,-1,375.974,8.631)\"/>\n",
       "<path style=\"fill:none;stroke-width:0.31879;stroke-linecap:round;stroke-linejoin:round;stroke:rgb(0%,0%,0%);stroke-opacity:1;stroke-miterlimit:10;\" d=\"M -1.195156 1.594756 C -1.0975 0.9971 0.00015625 0.0986625 0.297031 0.00100625 C 0.00015625 -0.100556 -1.0975 -0.995087 -1.195156 -1.592744 \" transform=\"matrix(0,1,1,0,64.15915,114.7225)\"/>\n",
       "<path style=\"fill:none;stroke-width:0.3985;stroke-linecap:butt;stroke-linejoin:miter;stroke:rgb(0%,0%,0%);stroke-opacity:1;stroke-miterlimit:10;\" d=\"M -304.145875 -85.536969 L 127.561156 -113.388531 L 127.561156 -141.732281 L 78.049438 -166.490094 \" transform=\"matrix(1,0,0,-1,375.974,8.631)\"/>\n",
       "<path style=\"fill:none;stroke-width:0.31879;stroke-linecap:round;stroke-linejoin:round;stroke:rgb(0%,0%,0%);stroke-opacity:1;stroke-miterlimit:10;\" d=\"M -1.194669 1.593742 C -1.095081 0.997993 0.00208552 0.10001 0.297341 0.000429783 C -0.00140683 -0.0991557 -1.09681 -0.997158 -1.19464 -1.594656 \" transform=\"matrix(-0.89436,0.44717,0.44717,0.89436,454.02355,175.12056)\"/>\n",
       "<path style=\"fill:none;stroke-width:0.3985;stroke-linecap:butt;stroke-linejoin:miter;stroke:rgb(0%,0%,0%);stroke-opacity:1;stroke-miterlimit:10;\" d=\"M 545.092406 -145.568219 L 504.147094 -166.040875 \" transform=\"matrix(1,0,0,-1,375.974,8.631)\"/>\n",
       "<path style=\"fill:none;stroke-width:0.31879;stroke-linecap:round;stroke-linejoin:round;stroke:rgb(0%,0%,0%);stroke-opacity:1;stroke-miterlimit:10;\" d=\"M -1.197587 1.594196 C -1.094504 0.9967 -0.000832223 0.100464 0.297917 -0.000863321 C -0.000830426 -0.100449 -1.094486 -0.994957 -1.197558 -1.594202 \" transform=\"matrix(-0.89436,0.44717,0.44717,0.89436,880.1223,174.67224)\"/>\n",
       "<path style=\"fill:none;stroke-width:0.3985;stroke-linecap:butt;stroke-linejoin:miter;stroke:rgb(0%,0%,0%);stroke-opacity:1;stroke-miterlimit:10;\" d=\"M 552.764281 -150.564312 L 552.764281 -162.673687 \" transform=\"matrix(1,0,0,-1,375.974,8.631)\"/>\n",
       "<path style=\"fill:none;stroke-width:0.31879;stroke-linecap:round;stroke-linejoin:round;stroke:rgb(0%,0%,0%);stroke-opacity:1;stroke-miterlimit:10;\" d=\"M -1.197145 1.595321 C -1.095582 0.997665 -0.0018325 0.0992275 0.298949 0.00157125 C -0.0018325 -0.0999912 -1.095582 -0.994522 -1.197145 -1.592179 \" transform=\"matrix(0,1,1,0,928.73671,171.30652)\"/>\n",
       "<path style=\"fill:none;stroke-width:0.3985;stroke-linecap:butt;stroke-linejoin:miter;stroke:rgb(0%,0%,0%);stroke-opacity:1;stroke-miterlimit:10;\" d=\"M -119.891969 -142.829937 L 63.639281 -169.048687 \" transform=\"matrix(1,0,0,-1,375.974,8.631)\"/>\n",
       "<path style=\"fill:none;stroke-width:0.31879;stroke-linecap:round;stroke-linejoin:round;stroke:rgb(0%,0%,0%);stroke-opacity:1;stroke-miterlimit:10;\" d=\"M -1.195753 1.592909 C -1.094663 0.995709 0.000279437 0.0985123 0.298601 -0.000933469 C 0.000828819 -0.0987126 -1.094142 -0.99698 -1.194145 -1.595282 \" transform=\"matrix(0.98991,0.1414,0.1414,-0.98991,439.6147,177.67951)\"/>\n",
       "<path style=\"fill:none;stroke-width:0.3985;stroke-linecap:butt;stroke-linejoin:miter;stroke:rgb(0%,0%,0%);stroke-opacity:1;stroke-miterlimit:10;\" d=\"M -119.891969 -142.099469 L 461.252563 -169.771344 \" transform=\"matrix(1,0,0,-1,375.974,8.631)\"/>\n",
       "<path style=\"fill:none;stroke-width:0.31879;stroke-linecap:round;stroke-linejoin:round;stroke:rgb(0%,0%,0%);stroke-opacity:1;stroke-miterlimit:10;\" d=\"M -1.195902 1.594905 C -1.09706 0.997343 0.00161444 0.0993155 0.29965 0.000089716 C -0.000617922 -0.100243 -1.095971 -0.997126 -1.196688 -1.592456 \" transform=\"matrix(0.99883,0.04755,0.04755,-0.99883,837.22804,178.40381)\"/>\n",
       "<path style=\"fill:none;stroke-width:0.3985;stroke-linecap:butt;stroke-linejoin:miter;stroke:rgb(0%,0%,0%);stroke-opacity:1;stroke-miterlimit:10;\" d=\"M -64.364625 -90.154156 L -91.1615 -108.021344 \" transform=\"matrix(1,0,0,-1,375.974,8.631)\"/>\n",
       "<path style=\"fill:none;stroke-width:0.31879;stroke-linecap:round;stroke-linejoin:round;stroke:rgb(0%,0%,0%);stroke-opacity:1;stroke-miterlimit:10;\" d=\"M -1.197994 1.593509 C -1.095062 0.994365 -0.000775369 0.100533 0.298256 -0.000225302 C 0.000309761 -0.102072 -1.097212 -0.994839 -1.196884 -1.595068 \" transform=\"matrix(-0.83202,0.55467,0.55467,0.83202,284.81078,116.65116)\"/>\n",
       "<path style=\"fill:none;stroke-width:0.3985;stroke-linecap:butt;stroke-linejoin:miter;stroke:rgb(0%,0%,0%);stroke-opacity:1;stroke-miterlimit:10;\" d=\"M -49.024781 -85.536969 L 382.68225 -113.388531 L 382.68225 -141.732281 L 341.143188 -165.470562 \" transform=\"matrix(1,0,0,-1,375.974,8.631)\"/>\n",
       "<path style=\"fill:none;stroke-width:0.31879;stroke-linecap:round;stroke-linejoin:round;stroke:rgb(0%,0%,0%);stroke-opacity:1;stroke-miterlimit:10;\" d=\"M -1.195013 1.59568 C -1.097134 0.99534 0.0008273 0.0979838 0.299786 -0.00086035 C 0.0003435 -0.0997068 -1.095673 -0.994164 -1.195485 -1.59402 \" transform=\"matrix(-0.8682,0.49611,0.49611,0.8682,717.11617,174.10202)\"/>\n",
       "<path style=\"fill:none;stroke-width:0.3985;stroke-linecap:butt;stroke-linejoin:miter;stroke:rgb(0%,0%,0%);stroke-opacity:1;stroke-miterlimit:10;\" d=\"M 376.178344 -90.154156 L 411.029906 -113.388531 L 411.029906 -141.732281 L 405.776 -162.744 \" transform=\"matrix(1,0,0,-1,375.974,8.631)\"/>\n",
       "<path style=\"fill:none;stroke-width:0.31879;stroke-linecap:round;stroke-linejoin:round;stroke:rgb(0%,0%,0%);stroke-opacity:1;stroke-miterlimit:10;\" d=\"M -1.195589 1.593425 C -1.094231 0.994657 -0.000937705 0.100273 0.298442 -0.00205486 C 0.00095225 -0.100579 -1.096174 -0.99491 -1.195667 -1.595567 \" transform=\"matrix(-0.24251,0.97014,0.97014,0.24251,781.75015,171.37503)\"/>\n",
       "<path style=\"fill:none;stroke-width:0.3985;stroke-linecap:butt;stroke-linejoin:miter;stroke:rgb(0%,0%,0%);stroke-opacity:1;stroke-miterlimit:10;\" d=\"M 364.092406 -93.869 L 358.955688 -104.146344 \" transform=\"matrix(1,0,0,-1,375.974,8.631)\"/>\n",
       "<path style=\"fill:none;stroke-width:0.31879;stroke-linecap:round;stroke-linejoin:round;stroke:rgb(0%,0%,0%);stroke-opacity:1;stroke-miterlimit:10;\" d=\"M -1.196205 1.595239 C -1.096628 0.994247 0.000522512 0.101486 0.29927 0.00190037 C 0.000520715 -0.0994269 -1.096645 -0.99741 -1.196234 -1.593159 \" transform=\"matrix(-0.44717,0.89436,0.89436,0.44717,734.929,112.77837)\"/>\n",
       "<path style=\"fill:none;stroke-width:0.3985;stroke-linecap:butt;stroke-linejoin:miter;stroke:rgb(0%,0%,0%);stroke-opacity:1;stroke-miterlimit:10;\" d=\"M 7.670531 -86.435406 L 155.908813 -113.388531 L 155.908813 -141.732281 L 78.072875 -167.677594 \" transform=\"matrix(1,0,0,-1,375.974,8.631)\"/>\n",
       "<path style=\"fill:none;stroke-width:0.31879;stroke-linecap:round;stroke-linejoin:round;stroke:rgb(0%,0%,0%);stroke-opacity:1;stroke-miterlimit:10;\" d=\"M -1.195828 1.596059 C -1.095765 0.994457 0.00120418 0.0976166 0.297682 -0.00120829 C 0.00120481 -0.100035 -1.095759 -0.994412 -1.197053 -1.594779 \" transform=\"matrix(-0.94864,0.31621,0.31621,0.94864,454.0484,176.30936)\"/>\n",
       "<path style=\"fill:none;stroke-width:0.3985;stroke-linecap:butt;stroke-linejoin:miter;stroke:rgb(0%,0%,0%);stroke-opacity:1;stroke-miterlimit:10;\" d=\"M -7.669312 -88.107281 L -62.770875 -110.15025 \" transform=\"matrix(1,0,0,-1,375.974,8.631)\"/>\n",
       "<path style=\"fill:none;stroke-width:0.31879;stroke-linecap:round;stroke-linejoin:round;stroke:rgb(0%,0%,0%);stroke-opacity:1;stroke-miterlimit:10;\" d=\"M -1.194192 1.593634 C -1.096985 0.995177 -0.00017116 0.0978602 0.297244 -0.0000675184 C 0.000555346 -0.100175 -1.094072 -0.996053 -1.1949 -1.595236 \" transform=\"matrix(-0.92844,0.37137,0.37137,0.92844,313.20178,118.7803)\"/>\n",
       "<path style=\"fill:none;stroke-width:0.3985;stroke-linecap:butt;stroke-linejoin:miter;stroke:rgb(0%,0%,0%);stroke-opacity:1;stroke-miterlimit:10;\" d=\"M 601.787719 -149.404156 L 588.326781 -162.865094 \" transform=\"matrix(1,0,0,-1,375.974,8.631)\"/>\n",
       "<path style=\"fill:none;stroke-width:0.31879;stroke-linecap:round;stroke-linejoin:round;stroke:rgb(0%,0%,0%);stroke-opacity:1;stroke-miterlimit:10;\" d=\"M -1.196351 1.594852 C -1.094155 0.995457 -0.000336938 0.100503 0.297978 0.00106211 C -0.000338345 -0.0983743 -1.096931 -0.996076 -1.196374 -1.592706 \" transform=\"matrix(-0.70709,0.7071,0.7071,0.70709,964.29979,171.49558)\"/>\n",
       "<path style=\"fill:none;stroke-width:0.3985;stroke-linecap:butt;stroke-linejoin:miter;stroke:rgb(0%,0%,0%);stroke-opacity:1;stroke-miterlimit:10;\" d=\"M 609.455688 -150.564312 L 609.455688 -162.673687 \" transform=\"matrix(1,0,0,-1,375.974,8.631)\"/>\n",
       "<path style=\"fill:none;stroke-width:0.31879;stroke-linecap:round;stroke-linejoin:round;stroke:rgb(0%,0%,0%);stroke-opacity:1;stroke-miterlimit:10;\" d=\"M -1.197145 1.593108 C -1.095582 0.995451 -0.0018325 0.10092 0.298949 -0.0006425 C -0.0018325 -0.0982987 -1.095582 -0.996736 -1.197145 -1.594392 \" transform=\"matrix(0,1,1,0,985.43033,171.30652)\"/>\n",
       "<path style=\"fill:none;stroke-width:0.3985;stroke-linecap:butt;stroke-linejoin:miter;stroke:rgb(0%,0%,0%);stroke-opacity:1;stroke-miterlimit:10;\" d=\"M -91.544312 -143.013531 L 63.643188 -168.876812 \" transform=\"matrix(1,0,0,-1,375.974,8.631)\"/>\n",
       "<path style=\"fill:none;stroke-width:0.31879;stroke-linecap:round;stroke-linejoin:round;stroke:rgb(0%,0%,0%);stroke-opacity:1;stroke-miterlimit:10;\" d=\"M -1.195572 1.594714 C -1.096034 0.997449 0.000226421 0.0989729 0.298215 -0.00185849 C 0.00150891 -0.0988307 -1.096696 -0.994716 -1.194961 -1.593264 \" transform=\"matrix(0.98634,0.16438,0.16438,-0.98634,439.61632,177.50774)\"/>\n",
       "<path style=\"fill:none;stroke-width:0.3985;stroke-linecap:butt;stroke-linejoin:miter;stroke:rgb(0%,0%,0%);stroke-opacity:1;stroke-miterlimit:10;\" d=\"M -91.544312 -142.165875 L 397.475219 -169.716656 \" transform=\"matrix(1,0,0,-1,375.974,8.631)\"/>\n",
       "<path style=\"fill:none;stroke-width:0.31879;stroke-linecap:round;stroke-linejoin:round;stroke:rgb(0%,0%,0%);stroke-opacity:1;stroke-miterlimit:10;\" d=\"M -1.195791 1.595295 C -1.095439 0.994496 -0.000482763 0.101494 0.298623 0.000961904 C -0.000980496 -0.0980765 -1.096736 -0.997085 -1.196174 -1.593486 \" transform=\"matrix(0.99838,0.05623,0.05623,-0.99838,773.4479,178.34745)\"/>\n",
       "<path style=\"fill:none;stroke-width:0.3985;stroke-linecap:butt;stroke-linejoin:miter;stroke:rgb(0%,0%,0%);stroke-opacity:1;stroke-miterlimit:10;\" d=\"M 354.334594 -122.216656 L 354.334594 -132.447125 \" transform=\"matrix(1,0,0,-1,375.974,8.631)\"/>\n",
       "<path style=\"fill:none;stroke-width:0.31879;stroke-linecap:round;stroke-linejoin:round;stroke:rgb(0%,0%,0%);stroke-opacity:1;stroke-miterlimit:10;\" d=\"M -1.193957 1.593264 C -1.096301 0.995608 0.001355 0.101076 0.29823 -0.00048625 C 0.001355 -0.0981425 -1.096301 -0.99658 -1.193957 -1.594236 \" transform=\"matrix(0,1,1,0,730.30908,141.07677)\"/>\n",
       "<path style=\"fill:none;stroke-width:0.3985;stroke-linecap:butt;stroke-linejoin:miter;stroke:rgb(0%,0%,0%);stroke-opacity:1;stroke-miterlimit:10;\" d=\"M 346.666625 -121.0565 L 333.983031 -133.740094 \" transform=\"matrix(1,0,0,-1,375.974,8.631)\"/>\n",
       "<path style=\"fill:none;stroke-width:0.31879;stroke-linecap:round;stroke-linejoin:round;stroke:rgb(0%,0%,0%);stroke-opacity:1;stroke-miterlimit:10;\" d=\"M -1.197436 1.594358 C -1.095236 0.994969 -0.00141953 0.100028 0.296894 0.00059044 C -0.00141953 -0.0988474 -1.097998 -0.99655 -1.197436 -1.593177 \" transform=\"matrix(-0.7071,0.7071,0.7071,0.7071,709.95561,142.37168)\"/>\n",
       "<path style=\"fill:none;stroke-width:0.3985;stroke-linecap:butt;stroke-linejoin:miter;stroke:rgb(0%,0%,0%);stroke-opacity:1;stroke-miterlimit:10;\" d=\"M 630.135375 -145.568219 L 589.190063 -166.040875 \" transform=\"matrix(1,0,0,-1,375.974,8.631)\"/>\n",
       "<path style=\"fill:none;stroke-width:0.31879;stroke-linecap:round;stroke-linejoin:round;stroke:rgb(0%,0%,0%);stroke-opacity:1;stroke-miterlimit:10;\" d=\"M -1.19639 1.593597 C -1.096802 0.997848 0.000364174 0.0998657 0.299114 -0.00146151 C 0.000365971 -0.101047 -1.096784 -0.993808 -1.196362 -1.5948 \" transform=\"matrix(-0.89436,0.44717,0.44717,0.89436,965.1627,174.67224)\"/>\n",
       "<path style=\"fill:none;stroke-width:0.3985;stroke-linecap:butt;stroke-linejoin:miter;stroke:rgb(0%,0%,0%);stroke-opacity:1;stroke-miterlimit:10;\" d=\"M 637.803344 -150.564312 L 637.803344 -162.673687 \" transform=\"matrix(1,0,0,-1,375.974,8.631)\"/>\n",
       "<path style=\"fill:none;stroke-width:0.31879;stroke-linecap:round;stroke-linejoin:round;stroke:rgb(0%,0%,0%);stroke-opacity:1;stroke-miterlimit:10;\" d=\"M -1.197145 1.593964 C -1.095582 0.996308 -0.0018325 0.09787 0.298949 0.00021375 C -0.0018325 -0.101349 -1.095582 -0.99588 -1.197145 -1.593536 \" transform=\"matrix(0,1,1,0,1013.77713,171.30652)\"/>\n",
       "<path style=\"fill:none;stroke-width:0.3985;stroke-linecap:butt;stroke-linejoin:miter;stroke:rgb(0%,0%,0%);stroke-opacity:1;stroke-miterlimit:10;\" d=\"M -63.196656 -143.267437 L 63.643188 -168.634625 \" transform=\"matrix(1,0,0,-1,375.974,8.631)\"/>\n",
       "<path style=\"fill:none;stroke-width:0.31879;stroke-linecap:round;stroke-linejoin:round;stroke:rgb(0%,0%,0%);stroke-opacity:1;stroke-miterlimit:10;\" d=\"M -1.197224 1.594905 C -1.097637 0.997343 -0.00211664 0.10099 0.296663 0.00139397 C -0.0021186 -0.0981966 -1.09689 -0.998358 -1.19649 -1.595918 \" transform=\"matrix(0.98055,0.1961,0.1961,-0.98055,439.61899,177.26741)\"/>\n",
       "<path style=\"fill:none;stroke-width:0.3985;stroke-linecap:butt;stroke-linejoin:miter;stroke:rgb(0%,0%,0%);stroke-opacity:1;stroke-miterlimit:10;\" d=\"M -63.196656 -142.193219 L 397.475219 -169.693219 \" transform=\"matrix(1,0,0,-1,375.974,8.631)\"/>\n",
       "<path style=\"fill:none;stroke-width:0.31879;stroke-linecap:round;stroke-linejoin:round;stroke:rgb(0%,0%,0%);stroke-opacity:1;stroke-miterlimit:10;\" d=\"M -1.193582 1.593398 C -1.095339 0.996598 -0.000800261 0.0992414 0.298647 -0.000284133 C -0.000626102 -0.100332 -1.09773 -0.995472 -1.195161 -1.592213 \" transform=\"matrix(0.99817,0.05959,0.05959,-0.99817,773.44801,178.32567)\"/>\n",
       "<path style=\"fill:none;stroke-width:0.3985;stroke-linecap:butt;stroke-linejoin:miter;stroke:rgb(0%,0%,0%);stroke-opacity:1;stroke-miterlimit:10;\" d=\"M -149.403687 -58.228375 L -275.349 -83.415875 \" transform=\"matrix(1,0,0,-1,375.974,8.631)\"/>\n",
       "<path style=\"fill:none;stroke-width:0.31879;stroke-linecap:round;stroke-linejoin:round;stroke:rgb(0%,0%,0%);stroke-opacity:1;stroke-miterlimit:10;\" d=\"M -1.195703 1.59282 C -1.096104 0.995247 -0.000548755 0.0988943 0.298238 -0.000699397 C -0.000547583 -0.100297 -1.096093 -0.996662 -1.195685 -1.594236 \" transform=\"matrix(-0.98053,0.1961,0.1961,0.98053,100.6246,92.04767)\"/>\n",
       "<path style=\"fill:none;stroke-width:0.3985;stroke-linecap:butt;stroke-linejoin:miter;stroke:rgb(0%,0%,0%);stroke-opacity:1;stroke-miterlimit:10;\" d=\"M -141.735719 -65.52525 L -141.735719 -75.751812 \" transform=\"matrix(1,0,0,-1,375.974,8.631)\"/>\n",
       "<path style=\"fill:none;stroke-width:0.31879;stroke-linecap:round;stroke-linejoin:round;stroke:rgb(0%,0%,0%);stroke-opacity:1;stroke-miterlimit:10;\" d=\"M -1.19565 1.595957 C -1.094088 0.994395 -0.0003375 0.0998637 0.300444 -0.00169875 C -0.0003375 -0.099355 -1.094088 -0.997793 -1.19565 -1.595449 \" transform=\"matrix(0,1,1,0,234.23998,84.38315)\"/>\n",
       "<path style=\"fill:none;stroke-width:0.3985;stroke-linecap:butt;stroke-linejoin:miter;stroke:rgb(0%,0%,0%);stroke-opacity:1;stroke-miterlimit:10;\" d=\"M -6.50525 -114.083844 L 289.514281 -140.994 \" transform=\"matrix(1,0,0,-1,375.974,8.631)\"/>\n",
       "<path style=\"fill:none;stroke-width:0.31879;stroke-linecap:round;stroke-linejoin:round;stroke:rgb(0%,0%,0%);stroke-opacity:1;stroke-miterlimit:10;\" d=\"M -1.193854 1.595183 C -1.096242 0.996065 0.00119655 0.0995075 0.300402 0.00118654 C -0.000218496 -0.10067 -1.095538 -0.996516 -1.194213 -1.593865 \" transform=\"matrix(0.99585,0.09053,0.09053,-0.99585,665.4898,149.62633)\"/>\n",
       "<path style=\"fill:none;stroke-width:0.3985;stroke-linecap:butt;stroke-linejoin:miter;stroke:rgb(0%,0%,0%);stroke-opacity:1;stroke-miterlimit:10;\" d=\"M -14.173219 -122.216656 L -14.173219 -132.447125 \" transform=\"matrix(1,0,0,-1,375.974,8.631)\"/>\n",
       "<path style=\"fill:none;stroke-width:0.31879;stroke-linecap:round;stroke-linejoin:round;stroke:rgb(0%,0%,0%);stroke-opacity:1;stroke-miterlimit:10;\" d=\"M -1.193957 1.593921 C -1.096301 0.996265 0.001355 0.0978275 0.29823 0.00017125 C 0.001355 -0.101391 -1.096301 -0.995923 -1.193957 -1.593579 \" transform=\"matrix(0,1,1,0,361.80061,141.07677)\"/>\n",
       "<path style=\"fill:none;stroke-width:0.3985;stroke-linecap:butt;stroke-linejoin:miter;stroke:rgb(0%,0%,0%);stroke-opacity:1;stroke-miterlimit:10;\" d=\"M -291.138062 -92.708844 L -304.653687 -106.224469 \" transform=\"matrix(1,0,0,-1,375.974,8.631)\"/>\n",
       "<path style=\"fill:none;stroke-width:0.31879;stroke-linecap:round;stroke-linejoin:round;stroke:rgb(0%,0%,0%);stroke-opacity:1;stroke-miterlimit:10;\" d=\"M -1.196705 1.592644 C -1.097267 0.996017 -0.000688552 0.0983144 0.297625 -0.00112343 C -0.000688552 -0.100561 -1.094505 -0.995502 -1.196705 -1.594891 \" transform=\"matrix(-0.7071,0.7071,0.7071,0.7071,71.32062,114.85675)\"/>\n",
       "<path style=\"fill:none;stroke-width:0.3985;stroke-linecap:butt;stroke-linejoin:miter;stroke:rgb(0%,0%,0%);stroke-opacity:1;stroke-miterlimit:10;\" d=\"M -275.798219 -85.943219 L -50.645875 -112.4315 \" transform=\"matrix(1,0,0,-1,375.974,8.631)\"/>\n",
       "<path style=\"fill:none;stroke-width:0.31879;stroke-linecap:round;stroke-linejoin:round;stroke:rgb(0%,0%,0%);stroke-opacity:1;stroke-miterlimit:10;\" d=\"M -1.195705 1.593902 C -1.093929 0.996198 -0.00100858 0.0981456 0.297727 -0.000448908 C -0.00146801 -0.0985779 -1.095785 -0.994315 -1.194612 -1.592016 \" transform=\"matrix(0.9931,0.11682,0.11682,-0.9931,325.32938,121.06243)\"/>\n",
       "<path style=\"fill:none;stroke-width:0.3985;stroke-linecap:butt;stroke-linejoin:miter;stroke:rgb(0%,0%,0%);stroke-opacity:1;stroke-miterlimit:10;\" d=\"M -149.403687 -88.107281 L -206.165406 -110.814312 \" transform=\"matrix(1,0,0,-1,375.974,8.631)\"/>\n",
       "<path style=\"fill:none;stroke-width:0.31879;stroke-linecap:round;stroke-linejoin:round;stroke:rgb(0%,0%,0%);stroke-opacity:1;stroke-miterlimit:10;\" d=\"M -1.196029 1.594953 C -1.095195 0.995045 -0.00200777 0.0991791 0.299035 -0.000199358 C -0.00128126 -0.0988558 -1.095909 -0.994734 -1.196737 -1.593917 \" transform=\"matrix(-0.92844,0.37137,0.37137,0.92844,169.80896,119.44382)\"/>\n",
       "<path style=\"fill:none;stroke-width:0.3985;stroke-linecap:butt;stroke-linejoin:miter;stroke:rgb(0%,0%,0%);stroke-opacity:1;stroke-miterlimit:10;\" d=\"M -134.063844 -85.708844 L 184.252563 -113.388531 L 184.252563 -141.732281 L 78.084594 -168.27525 \" transform=\"matrix(1,0,0,-1,375.974,8.631)\"/>\n",
       "<path style=\"fill:none;stroke-width:0.31879;stroke-linecap:round;stroke-linejoin:round;stroke:rgb(0%,0%,0%);stroke-opacity:1;stroke-miterlimit:10;\" d=\"M -1.196303 1.594232 C -1.095863 0.997364 0.000315621 0.0992431 0.297806 0.000719374 C -0.000627013 -0.0978188 -1.094867 -0.995993 -1.196226 -1.59476 \" transform=\"matrix(-0.97014,0.24251,0.24251,0.97014,454.05827,176.90755)\"/>\n",
       "<path style=\"fill:none;stroke-width:0.3985;stroke-linecap:butt;stroke-linejoin:miter;stroke:rgb(0%,0%,0%);stroke-opacity:1;stroke-miterlimit:10;\" d=\"M -34.849 -113.814312 L 459.596313 -141.283062 \" transform=\"matrix(1,0,0,-1,375.974,8.631)\"/>\n",
       "<path style=\"fill:none;stroke-width:0.31879;stroke-linecap:round;stroke-linejoin:round;stroke:rgb(0%,0%,0%);stroke-opacity:1;stroke-miterlimit:10;\" d=\"M -1.194984 1.595843 C -1.09509 0.994972 -0.000822952 0.101143 0.298204 0.000384499 C -0.00147268 -0.098425 -1.094004 -0.996375 -1.193895 -1.592696 \" transform=\"matrix(0.99843,0.05547,0.05547,-0.99843,835.56943,149.91353)\"/>\n",
       "<path style=\"fill:none;stroke-width:0.3985;stroke-linecap:butt;stroke-linejoin:miter;stroke:rgb(0%,0%,0%);stroke-opacity:1;stroke-miterlimit:10;\" d=\"M -42.520875 -122.216656 L -42.520875 -132.447125 \" transform=\"matrix(1,0,0,-1,375.974,8.631)\"/>\n",
       "<path style=\"fill:none;stroke-width:0.31879;stroke-linecap:round;stroke-linejoin:round;stroke:rgb(0%,0%,0%);stroke-opacity:1;stroke-miterlimit:10;\" d=\"M -1.193957 1.593075 C -1.096301 0.995419 0.001355 0.100887 0.29823 -0.000675 C 0.001355 -0.0983313 -1.096301 -0.996769 -1.193957 -1.594425 \" transform=\"matrix(0,1,1,0,333.4538,141.07677)\"/>\n",
       "<path style=\"fill:none;stroke-width:0.3985;stroke-linecap:butt;stroke-linejoin:miter;stroke:rgb(0%,0%,0%);stroke-opacity:1;stroke-miterlimit:10;\" d=\"M 467.721313 -150.564312 L 467.721313 -162.786969 \" transform=\"matrix(1,0,0,-1,375.974,8.631)\"/>\n",
       "<path style=\"fill:none;stroke-width:0.31879;stroke-linecap:round;stroke-linejoin:round;stroke:rgb(0%,0%,0%);stroke-opacity:1;stroke-miterlimit:10;\" d=\"M -1.19736 1.592763 C -1.095798 0.995106 0.00185875 0.100575 0.298734 -0.0009875 C 0.00185875 -0.0986437 -1.095798 -0.997081 -1.19736 -1.594737 \" transform=\"matrix(0,1,1,0,843.6963,171.41611)\"/>\n",
       "<path style=\"fill:none;stroke-width:0.3985;stroke-linecap:butt;stroke-linejoin:miter;stroke:rgb(0%,0%,0%);stroke-opacity:1;stroke-miterlimit:10;\" d=\"M 475.393188 -144.290875 L 544.658813 -167.380719 \" transform=\"matrix(1,0,0,-1,375.974,8.631)\"/>\n",
       "<path style=\"fill:none;stroke-width:0.31879;stroke-linecap:round;stroke-linejoin:round;stroke:rgb(0%,0%,0%);stroke-opacity:1;stroke-miterlimit:10;\" d=\"M -1.194031 1.593662 C -1.097678 0.995766 -0.000714387 0.101389 0.300704 0.00009155 C 0.000520298 -0.0999686 -1.096449 -0.996809 -1.194041 -1.59347 \" transform=\"matrix(0.94864,0.31621,0.31621,-0.94864,920.63268,176.01047)\"/>\n",
       "<path style=\"fill:none;stroke-width:0.3985;stroke-linecap:butt;stroke-linejoin:miter;stroke:rgb(0%,0%,0%);stroke-opacity:1;stroke-miterlimit:10;\" d=\"M -34.849 -143.65025 L 63.651 -168.27525 \" transform=\"matrix(1,0,0,-1,375.974,8.631)\"/>\n",
       "<path style=\"fill:none;stroke-width:0.31879;stroke-linecap:round;stroke-linejoin:round;stroke:rgb(0%,0%,0%);stroke-opacity:1;stroke-miterlimit:10;\" d=\"M -1.194699 1.595142 C -1.09713 0.995427 0.000899771 0.0982005 0.299332 -0.000337718 C -0.00194727 -0.0998088 -1.094336 -0.996982 -1.194776 -1.59385 \" transform=\"matrix(0.97014,0.24251,0.24251,-0.97014,439.62375,176.90755)\"/>\n",
       "<path style=\"fill:none;stroke-width:0.3985;stroke-linecap:butt;stroke-linejoin:miter;stroke:rgb(0%,0%,0%);stroke-opacity:1;stroke-miterlimit:10;\" d=\"M -34.849 -142.138531 L 487.943969 -169.654156 \" transform=\"matrix(1,0,0,-1,375.974,8.631)\"/>\n",
       "<path style=\"fill:none;stroke-width:0.31879;stroke-linecap:round;stroke-linejoin:round;stroke:rgb(0%,0%,0%);stroke-opacity:1;stroke-miterlimit:10;\" d=\"M -1.196915 1.59453 C -1.095091 0.997482 0.000436928 0.10066 0.299164 -0.000974549 C -0.000798509 -0.0989029 -1.095742 -0.997533 -1.197382 -1.593551 \" transform=\"matrix(0.9986,0.05254,0.05254,-0.9986,863.91615,178.28409)\"/>\n",
       "<path style=\"fill:none;stroke-width:0.3985;stroke-linecap:butt;stroke-linejoin:miter;stroke:rgb(0%,0%,0%);stroke-opacity:1;stroke-miterlimit:10;\" d=\"M 293.225219 -150.564312 L 287.147094 -162.724469 \" transform=\"matrix(1,0,0,-1,375.974,8.631)\"/>\n",
       "<path style=\"fill:none;stroke-width:0.31879;stroke-linecap:round;stroke-linejoin:round;stroke:rgb(0%,0%,0%);stroke-opacity:1;stroke-miterlimit:10;\" d=\"M -1.194754 1.59586 C -1.095177 0.994868 -0.00152087 0.100359 0.297227 0.000773878 C -0.00152266 -0.100553 -1.095195 -0.996789 -1.194783 -1.592538 \" transform=\"matrix(-0.44717,0.89436,0.89436,0.44717,663.1205,171.35492)\"/>\n",
       "<path style=\"fill:none;stroke-width:0.3985;stroke-linecap:butt;stroke-linejoin:miter;stroke:rgb(0%,0%,0%);stroke-opacity:1;stroke-miterlimit:10;\" d=\"M 305.311156 -143.779156 L 397.486938 -168.361187 \" transform=\"matrix(1,0,0,-1,375.974,8.631)\"/>\n",
       "<path style=\"fill:none;stroke-width:0.31879;stroke-linecap:round;stroke-linejoin:round;stroke:rgb(0%,0%,0%);stroke-opacity:1;stroke-miterlimit:10;\" d=\"M -1.194591 1.59247 C -1.09621 0.996097 -0.000105407 0.0997636 0.297073 0.00111938 C 0.000143675 -0.0982721 -1.094474 -0.99659 -1.194129 -1.593212 \" transform=\"matrix(0.9662,0.25764,0.25764,-0.9662,773.46268,176.99095)\"/>\n",
       "<path style=\"fill:none;stroke-width:0.3985;stroke-linecap:butt;stroke-linejoin:miter;stroke:rgb(0%,0%,0%);stroke-opacity:1;stroke-miterlimit:10;\" d=\"M -6.50525 -144.290875 L 63.658813 -167.677594 \" transform=\"matrix(1,0,0,-1,375.974,8.631)\"/>\n",
       "<path style=\"fill:none;stroke-width:0.31879;stroke-linecap:round;stroke-linejoin:round;stroke:rgb(0%,0%,0%);stroke-opacity:1;stroke-miterlimit:10;\" d=\"M -1.195554 1.595258 C -1.094259 0.994891 -0.00100178 0.0992784 0.299181 0.001687 C -0.0010024 -0.0983732 -1.097972 -0.995214 -1.194329 -1.59558 \" transform=\"matrix(0.94864,0.31621,0.31621,-0.94864,439.63362,176.30934)\"/>\n",
       "<path style=\"fill:none;stroke-width:0.3985;stroke-linecap:butt;stroke-linejoin:miter;stroke:rgb(0%,0%,0%);stroke-opacity:1;stroke-miterlimit:10;\" d=\"M -6.50525 -142.099469 L 572.983031 -169.693219 \" transform=\"matrix(1,0,0,-1,375.974,8.631)\"/>\n",
       "<path style=\"fill:none;stroke-width:0.31879;stroke-linecap:round;stroke-linejoin:round;stroke:rgb(0%,0%,0%);stroke-opacity:1;stroke-miterlimit:10;\" d=\"M -1.193834 1.594137 C -1.094992 0.996575 -0.000219876 0.0983621 0.297816 -0.000863621 C 0.00144975 -0.10101 -1.093904 -0.997894 -1.19462 -1.593223 \" transform=\"matrix(0.99883,0.04755,0.04755,-0.99883,948.95648,178.32482)\"/>\n",
       "<path style=\"fill:none;stroke-width:0.3985;stroke-linecap:butt;stroke-linejoin:miter;stroke:rgb(0%,0%,0%);stroke-opacity:1;stroke-miterlimit:10;\" d=\"M -113.388062 -65.52525 L -113.388062 -75.751812 \" transform=\"matrix(1,0,0,-1,375.974,8.631)\"/>\n",
       "<path style=\"fill:none;stroke-width:0.31879;stroke-linecap:round;stroke-linejoin:round;stroke:rgb(0%,0%,0%);stroke-opacity:1;stroke-miterlimit:10;\" d=\"M -1.19565 1.592908 C -1.094088 0.995251 -0.0003375 0.10072 0.300444 -0.0008425 C -0.0003375 -0.0984987 -1.094088 -0.996936 -1.19565 -1.594592 \" transform=\"matrix(0,1,1,0,262.58678,84.38315)\"/>\n",
       "<path style=\"fill:none;stroke-width:0.3985;stroke-linecap:butt;stroke-linejoin:miter;stroke:rgb(0%,0%,0%);stroke-opacity:1;stroke-miterlimit:10;\" d=\"M -121.056031 -58.228375 L -247.001344 -83.415875 \" transform=\"matrix(1,0,0,-1,375.974,8.631)\"/>\n",
       "<path style=\"fill:none;stroke-width:0.31879;stroke-linecap:round;stroke-linejoin:round;stroke:rgb(0%,0%,0%);stroke-opacity:1;stroke-miterlimit:10;\" d=\"M -1.196543 1.592988 C -1.096944 0.995415 -0.00138842 0.0990623 0.297399 -0.000531469 C -0.00138725 -0.100129 -1.096932 -0.996495 -1.196524 -1.594068 \" transform=\"matrix(-0.98053,0.1961,0.1961,0.98053,128.9714,92.04767)\"/>\n",
       "<path style=\"fill:none;stroke-width:0.3985;stroke-linecap:butt;stroke-linejoin:miter;stroke:rgb(0%,0%,0%);stroke-opacity:1;stroke-miterlimit:10;\" d=\"M 64.361938 -57.283062 L 417.076781 -84.415875 \" transform=\"matrix(1,0,0,-1,375.974,8.631)\"/>\n",
       "<path style=\"fill:none;stroke-width:0.31879;stroke-linecap:round;stroke-linejoin:round;stroke:rgb(0%,0%,0%);stroke-opacity:1;stroke-miterlimit:10;\" d=\"M -1.195091 1.59226 C -1.094429 0.996629 0.000943225 0.101374 0.298757 -0.00109713 C 0.00064116 -0.0984675 -1.093854 -0.997591 -1.196928 -1.593219 \" transform=\"matrix(0.997,0.07668,0.07668,-0.997,793.04988,93.04631)\"/>\n",
       "<path style=\"fill:none;stroke-width:0.3985;stroke-linecap:butt;stroke-linejoin:miter;stroke:rgb(0%,0%,0%);stroke-opacity:1;stroke-miterlimit:10;\" d=\"M 56.693969 -65.52525 L 56.693969 -85.040875 L 14.174438 -113.388531 L 14.174438 -132.447125 \" transform=\"matrix(1,0,0,-1,375.974,8.631)\"/>\n",
       "<path style=\"fill:none;stroke-width:0.31879;stroke-linecap:round;stroke-linejoin:round;stroke:rgb(0%,0%,0%);stroke-opacity:1;stroke-miterlimit:10;\" d=\"M -1.193957 1.594798 C -1.096301 0.997141 0.001355 0.0987038 0.29823 0.0010475 C 0.001355 -0.100515 -1.096301 -0.995046 -1.193957 -1.592702 \" transform=\"matrix(0,1,1,0,390.14739,141.07677)\"/>\n",
       "<path style=\"fill:none;stroke-width:0.3985;stroke-linecap:butt;stroke-linejoin:miter;stroke:rgb(0%,0%,0%);stroke-opacity:1;stroke-miterlimit:10;\" d=\"M -121.056031 -87.232281 L -206.149781 -111.544781 \" transform=\"matrix(1,0,0,-1,375.974,8.631)\"/>\n",
       "<path style=\"fill:none;stroke-width:0.31879;stroke-linecap:round;stroke-linejoin:round;stroke:rgb(0%,0%,0%);stroke-opacity:1;stroke-miterlimit:10;\" d=\"M -1.194369 1.593289 C -1.096697 0.996613 -0.000439805 0.0984005 0.300585 0.000213067 C -0.000435156 -0.100671 -1.096651 -0.994105 -1.195368 -1.595616 \" transform=\"matrix(-0.9615,0.27469,0.27469,0.9615,169.82411,120.17504)\"/>\n",
       "<path style=\"fill:none;stroke-width:0.3985;stroke-linecap:butt;stroke-linejoin:miter;stroke:rgb(0%,0%,0%);stroke-opacity:1;stroke-miterlimit:10;\" d=\"M -105.716187 -85.396344 L 496.068969 -113.388531 L 496.068969 -141.732281 L 474.05725 -163.747906 \" transform=\"matrix(1,0,0,-1,375.974,8.631)\"/>\n",
       "<path style=\"fill:none;stroke-width:0.31879;stroke-linecap:round;stroke-linejoin:round;stroke:rgb(0%,0%,0%);stroke-opacity:1;stroke-miterlimit:10;\" d=\"M -1.195156 1.595208 C -1.095718 0.99858 0.000860027 0.100878 0.299174 0.00143986 C 0.000860027 -0.097998 -1.095718 -0.995701 -1.195156 -1.592328 \" transform=\"matrix(-0.7071,0.7071,0.7071,0.7071,850.03084,172.37728)\"/>\n",
       "<path style=\"fill:none;stroke-width:0.3985;stroke-linecap:butt;stroke-linejoin:miter;stroke:rgb(0%,0%,0%);stroke-opacity:1;stroke-miterlimit:10;\" d=\"M -262.790406 -88.876812 L -303.735719 -109.349469 \" transform=\"matrix(1,0,0,-1,375.974,8.631)\"/>\n",
       "<path style=\"fill:none;stroke-width:0.31879;stroke-linecap:round;stroke-linejoin:round;stroke:rgb(0%,0%,0%);stroke-opacity:1;stroke-miterlimit:10;\" d=\"M -1.194142 1.594938 C -1.096301 0.995694 0.000865112 0.0977117 0.297867 0.00162562 C -0.000880205 -0.0979599 -1.096283 -0.995962 -1.194114 -1.59346 \" transform=\"matrix(-0.89436,0.44717,0.44717,0.89436,72.23833,117.97863)\"/>\n",
       "<path style=\"fill:none;stroke-width:0.3985;stroke-linecap:butt;stroke-linejoin:miter;stroke:rgb(0%,0%,0%);stroke-opacity:1;stroke-miterlimit:10;\" d=\"M -247.450562 -85.505719 L 212.600219 -113.388531 L 212.600219 -141.732281 L 78.0885 -168.634625 \" transform=\"matrix(1,0,0,-1,375.974,8.631)\"/>\n",
       "<path style=\"fill:none;stroke-width:0.31879;stroke-linecap:round;stroke-linejoin:round;stroke:rgb(0%,0%,0%);stroke-opacity:1;stroke-miterlimit:10;\" d=\"M -1.194193 1.595459 C -1.094593 0.997899 0.000178494 0.0977372 0.29896 -0.00185337 C 0.000180447 -0.10145 -1.09534 -0.997802 -1.194927 -1.595365 \" transform=\"matrix(-0.98055,0.1961,0.1961,0.98055,454.06304,177.26741)\"/>\n",
       "<path style=\"fill:none;stroke-width:0.3985;stroke-linecap:butt;stroke-linejoin:miter;stroke:rgb(0%,0%,0%);stroke-opacity:1;stroke-miterlimit:10;\" d=\"M 429.615844 -93.869 L 439.373656 -113.388531 L 439.373656 -141.732281 L 410.311156 -164.986187 \" transform=\"matrix(1,0,0,-1,375.974,8.631)\"/>\n",
       "<path style=\"fill:none;stroke-width:0.31879;stroke-linecap:round;stroke-linejoin:round;stroke:rgb(0%,0%,0%);stroke-opacity:1;stroke-miterlimit:10;\" d=\"M -1.197622 1.593501 C -1.095129 0.996223 -0.000629299 0.100607 0.299535 0.000550781 C -0.000629924 -0.0995031 -1.096355 -0.993892 -1.196412 -1.594221 \" transform=\"matrix(-0.78082,0.62466,0.62466,0.78082,786.28432,173.61715)\"/>\n",
       "<path style=\"fill:none;stroke-width:0.3985;stroke-linecap:butt;stroke-linejoin:miter;stroke:rgb(0%,0%,0%);stroke-opacity:1;stroke-miterlimit:10;\" d=\"M 417.533813 -88.107281 L 362.428344 -110.15025 \" transform=\"matrix(1,0,0,-1,375.974,8.631)\"/>\n",
       "<path style=\"fill:none;stroke-width:0.31879;stroke-linecap:round;stroke-linejoin:round;stroke:rgb(0%,0%,0%);stroke-opacity:1;stroke-miterlimit:10;\" d=\"M -1.195153 1.594018 C -1.097946 0.995562 -0.00113218 0.0982446 0.29991 -0.0011339 C -0.00040567 -0.0997903 -1.095033 -0.995669 -1.195861 -1.594852 \" transform=\"matrix(-0.92844,0.37137,0.37137,0.92844,738.40387,118.7803)\"/>\n",
       "<path style=\"fill:none;stroke-width:0.3985;stroke-linecap:butt;stroke-linejoin:miter;stroke:rgb(0%,0%,0%);stroke-opacity:1;stroke-miterlimit:10;\" d=\"M 21.842406 -145.568219 L 63.686156 -166.490094 \" transform=\"matrix(1,0,0,-1,375.974,8.631)\"/>\n",
       "<path style=\"fill:none;stroke-width:0.31879;stroke-linecap:round;stroke-linejoin:round;stroke:rgb(0%,0%,0%);stroke-opacity:1;stroke-miterlimit:10;\" d=\"M -1.196713 1.593608 C -1.095389 0.997857 0.0000143107 0.0998551 0.298762 0.000269591 C 0.0000125135 -0.101058 -1.09366 -0.997293 -1.196742 -1.594789 \" transform=\"matrix(0.89436,0.44717,0.44717,-0.89436,439.65846,175.12055)\"/>\n",
       "<path style=\"fill:none;stroke-width:0.3985;stroke-linecap:butt;stroke-linejoin:miter;stroke:rgb(0%,0%,0%);stroke-opacity:1;stroke-miterlimit:10;\" d=\"M 21.842406 -142.119 L 572.983031 -169.673687 \" transform=\"matrix(1,0,0,-1,375.974,8.631)\"/>\n",
       "<path style=\"fill:none;stroke-width:0.31879;stroke-linecap:round;stroke-linejoin:round;stroke:rgb(0%,0%,0%);stroke-opacity:1;stroke-miterlimit:10;\" d=\"M -1.193955 1.595564 C -1.097591 0.998049 -0.000493746 0.0985502 0.297776 0.0000354827 C 0.00165089 -0.100817 -1.095652 -0.996595 -1.194949 -1.592159 \" transform=\"matrix(0.99872,0.04993,0.04993,-0.99872,948.95651,178.30548)\"/>\n",
       "<path style=\"fill:none;stroke-width:0.3985;stroke-linecap:butt;stroke-linejoin:miter;stroke:rgb(0%,0%,0%);stroke-opacity:1;stroke-miterlimit:10;\" d=\"M 347.7135 -150.564312 L 338.596313 -162.716656 \" transform=\"matrix(1,0,0,-1,375.974,8.631)\"/>\n",
       "<path style=\"fill:none;stroke-width:0.31879;stroke-linecap:round;stroke-linejoin:round;stroke:rgb(0%,0%,0%);stroke-opacity:1;stroke-miterlimit:10;\" d=\"M -1.195166 1.592418 C -1.095959 0.997865 -0.00219774 0.0993702 0.29859 -0.00220333 C 0.000140929 -0.0990737 -1.096011 -0.994386 -1.192905 -1.594403 \" transform=\"matrix(-0.59996,0.79999,0.79999,0.59996,714.57153,171.34839)\"/>\n",
       "<path style=\"fill:none;stroke-width:0.3985;stroke-linecap:butt;stroke-linejoin:miter;stroke:rgb(0%,0%,0%);stroke-opacity:1;stroke-miterlimit:10;\" d=\"M 356.541625 -150.564312 L 359.572875 -162.689312 \" transform=\"matrix(1,0,0,-1,375.974,8.631)\"/>\n",
       "<path style=\"fill:none;stroke-width:0.31879;stroke-linecap:round;stroke-linejoin:round;stroke:rgb(0%,0%,0%);stroke-opacity:1;stroke-miterlimit:10;\" d=\"M -1.195823 1.594395 C -1.095383 0.997527 0.000795841 0.0994065 0.298286 0.000882796 C -0.000146792 -0.0976554 -1.094387 -0.995829 -1.195746 -1.594597 \" transform=\"matrix(0.24251,0.97014,0.97014,-0.24251,735.5479,171.32021)\"/>\n",
       "<path style=\"fill:none;stroke-width:0.3985;stroke-linecap:butt;stroke-linejoin:miter;stroke:rgb(0%,0%,0%);stroke-opacity:1;stroke-miterlimit:10;\" d=\"M 318.318969 -146.845562 L 291.518188 -164.71275 \" transform=\"matrix(1,0,0,-1,375.974,8.631)\"/>\n",
       "<path style=\"fill:none;stroke-width:0.31879;stroke-linecap:round;stroke-linejoin:round;stroke:rgb(0%,0%,0%);stroke-opacity:1;stroke-miterlimit:10;\" d=\"M -1.195219 1.593718 C -1.095538 0.996741 -0.000167922 0.0974909 0.30103 -0.0000165638 C -0.000166281 -0.0996959 -1.096604 -0.99788 -1.194109 -1.594859 \" transform=\"matrix(-0.83202,0.55467,0.55467,0.83202,667.49266,173.34476)\"/>\n",
       "<path style=\"fill:none;stroke-width:0.3985;stroke-linecap:butt;stroke-linejoin:miter;stroke:rgb(0%,0%,0%);stroke-opacity:1;stroke-miterlimit:10;\" d=\"M 333.658813 -142.372906 L 658.576781 -169.451031 \" transform=\"matrix(1,0,0,-1,375.974,8.631)\"/>\n",
       "<path style=\"fill:none;stroke-width:0.31879;stroke-linecap:round;stroke-linejoin:round;stroke:rgb(0%,0%,0%);stroke-opacity:1;stroke-miterlimit:10;\" d=\"M -1.19508 1.592567 C -1.094525 0.997269 -0.000627862 0.100571 0.297829 -0.00000300519 C 0.000341058 -0.0992666 -1.096839 -0.998188 -1.196122 -1.594455 \" transform=\"matrix(0.9965,0.08302,0.08302,-0.9965,1034.55087,178.08074)\"/>\n",
       "<g style=\"fill:rgb(0%,0%,0%);fill-opacity:1;\">\n",
       "  <use xlink:href=\"#glyph-1615619521368237-0-1\" x=\"371.824\" y=\"11.102\"/>\n",
       "</g>\n",
       "<g style=\"fill:rgb(0%,0%,0%);fill-opacity:1;\">\n",
       "  <use xlink:href=\"#glyph-1615619521368237-0-2\" x=\"315.131\" y=\"39.488\"/>\n",
       "</g>\n",
       "<g style=\"fill:rgb(0%,0%,0%);fill-opacity:1;\">\n",
       "  <use xlink:href=\"#glyph-1615619521368237-0-2\" x=\"343.478\" y=\"39.488\"/>\n",
       "</g>\n",
       "<g style=\"fill:rgb(0%,0%,0%);fill-opacity:1;\">\n",
       "  <use xlink:href=\"#glyph-1615619521368237-0-2\" x=\"371.824\" y=\"39.488\"/>\n",
       "</g>\n",
       "<g style=\"fill:rgb(0%,0%,0%);fill-opacity:1;\">\n",
       "  <use xlink:href=\"#glyph-1615619521368237-0-2\" x=\"400.171\" y=\"39.488\"/>\n",
       "</g>\n",
       "<g style=\"fill:rgb(0%,0%,0%);fill-opacity:1;\">\n",
       "  <use xlink:href=\"#glyph-1615619521368237-0-2\" x=\"428.517\" y=\"39.488\"/>\n",
       "</g>\n",
       "<g style=\"fill:rgb(0%,0%,0%);fill-opacity:1;\">\n",
       "  <use xlink:href=\"#glyph-1615619521368237-0-1\" x=\"145.053\" y=\"67.794\"/>\n",
       "</g>\n",
       "<g style=\"fill:rgb(0%,0%,0%);fill-opacity:1;\">\n",
       "  <use xlink:href=\"#glyph-1615619521368237-0-1\" x=\"343.478\" y=\"67.794\"/>\n",
       "</g>\n",
       "<g style=\"fill:rgb(0%,0%,0%);fill-opacity:1;\">\n",
       "  <use xlink:href=\"#glyph-1615619521368237-0-2\" x=\"3.321\" y=\"96.181\"/>\n",
       "</g>\n",
       "<g style=\"fill:rgb(0%,0%,0%);fill-opacity:1;\">\n",
       "  <use xlink:href=\"#glyph-1615619521368237-0-2\" x=\"145.053\" y=\"96.181\"/>\n",
       "</g>\n",
       "<g style=\"fill:rgb(0%,0%,0%);fill-opacity:1;\">\n",
       "  <use xlink:href=\"#glyph-1615619521368237-0-3\" x=\"60.013\" y=\"125.334\"/>\n",
       "  <use xlink:href=\"#glyph-1615619521368237-0-4\" x=\"63.330559\" y=\"125.334\"/>\n",
       "</g>\n",
       "<g style=\"fill:rgb(0%,0%,0%);fill-opacity:1;\">\n",
       "  <use xlink:href=\"#glyph-1615619521368237-0-1\" x=\"244.265\" y=\"124.487\"/>\n",
       "</g>\n",
       "<g style=\"fill:rgb(0%,0%,0%);fill-opacity:1;\">\n",
       "  <use xlink:href=\"#glyph-1615619521368237-0-4\" x=\"160.885\" y=\"125.334\"/>\n",
       "</g>\n",
       "<g style=\"fill:rgb(0%,0%,0%);fill-opacity:1;\">\n",
       "  <use xlink:href=\"#glyph-1615619521368237-0-5\" x=\"443.587\" y=\"182.097\"/>\n",
       "</g>\n",
       "<g style=\"fill:rgb(0%,0%,0%);fill-opacity:1;\">\n",
       "  <use xlink:href=\"#glyph-1615619521368237-0-2\" x=\"286.785\" y=\"96.181\"/>\n",
       "</g>\n",
       "<g style=\"fill:rgb(0%,0%,0%);fill-opacity:1;\">\n",
       "  <use xlink:href=\"#glyph-1615619521368237-0-2\" x=\"612.769\" y=\"152.874\"/>\n",
       "</g>\n",
       "<g style=\"fill:rgb(0%,0%,0%);fill-opacity:1;\">\n",
       "  <use xlink:href=\"#glyph-1615619521368237-0-2\" x=\"343.478\" y=\"96.181\"/>\n",
       "</g>\n",
       "<g style=\"fill:rgb(0%,0%,0%);fill-opacity:1;\">\n",
       "  <use xlink:href=\"#glyph-1615619521368237-0-1\" x=\"272.612\" y=\"124.487\"/>\n",
       "</g>\n",
       "<g style=\"fill:rgb(0%,0%,0%);fill-opacity:1;\">\n",
       "  <use xlink:href=\"#glyph-1615619521368237-0-1\" x=\"187.572\" y=\"124.487\"/>\n",
       "</g>\n",
       "<g style=\"fill:rgb(0%,0%,0%);fill-opacity:1;\">\n",
       "  <use xlink:href=\"#glyph-1615619521368237-0-2\" x=\"641.115\" y=\"152.874\"/>\n",
       "</g>\n",
       "<g style=\"fill:rgb(0%,0%,0%);fill-opacity:1;\">\n",
       "  <use xlink:href=\"#glyph-1615619521368237-0-2\" x=\"187.572\" y=\"152.874\"/>\n",
       "</g>\n",
       "<g style=\"fill:rgb(0%,0%,0%);fill-opacity:1;\">\n",
       "  <use xlink:href=\"#glyph-1615619521368237-0-3\" x=\"655.289\" y=\"181.917\"/>\n",
       "  <use xlink:href=\"#glyph-1615619521368237-0-6\" x=\"658.606559\" y=\"181.917\"/>\n",
       "</g>\n",
       "<g style=\"fill:rgb(0%,0%,0%);fill-opacity:1;\">\n",
       "  <use xlink:href=\"#glyph-1615619521368237-0-3\" x=\"704.895\" y=\"181.967\"/>\n",
       "  <use xlink:href=\"#glyph-1615619521368237-0-7\" x=\"708.212559\" y=\"181.967\"/>\n",
       "</g>\n",
       "<g style=\"fill:rgb(0%,0%,0%);fill-opacity:1;\">\n",
       "  <use xlink:href=\"#glyph-1615619521368237-0-6\" x=\"734.9\" y=\"181.917\"/>\n",
       "</g>\n",
       "<g style=\"fill:rgb(0%,0%,0%);fill-opacity:1;\">\n",
       "  <use xlink:href=\"#glyph-1615619521368237-0-8\" x=\"777.42\" y=\"182.082\"/>\n",
       "</g>\n",
       "<g style=\"fill:rgb(0%,0%,0%);fill-opacity:1;\">\n",
       "  <use xlink:href=\"#glyph-1615619521368237-0-1\" x=\"300.958\" y=\"124.487\"/>\n",
       "</g>\n",
       "<g style=\"fill:rgb(0%,0%,0%);fill-opacity:1;\">\n",
       "  <use xlink:href=\"#glyph-1615619521368237-0-1\" x=\"173.399\" y=\"67.794\"/>\n",
       "</g>\n",
       "<g style=\"fill:rgb(0%,0%,0%);fill-opacity:1;\">\n",
       "  <use xlink:href=\"#glyph-1615619521368237-0-2\" x=\"173.399\" y=\"96.181\"/>\n",
       "</g>\n",
       "<g style=\"fill:rgb(0%,0%,0%);fill-opacity:1;\">\n",
       "  <use xlink:href=\"#glyph-1615619521368237-0-2\" x=\"31.667\" y=\"96.181\"/>\n",
       "</g>\n",
       "<g style=\"fill:rgb(0%,0%,0%);fill-opacity:1;\">\n",
       "  <use xlink:href=\"#glyph-1615619521368237-0-1\" x=\"215.919\" y=\"124.487\"/>\n",
       "</g>\n",
       "<g style=\"fill:rgb(0%,0%,0%);fill-opacity:1;\">\n",
       "  <use xlink:href=\"#glyph-1615619521368237-0-2\" x=\"215.919\" y=\"152.874\"/>\n",
       "</g>\n",
       "<g style=\"fill:rgb(0%,0%,0%);fill-opacity:1;\">\n",
       "  <use xlink:href=\"#glyph-1615619521368237-0-2\" x=\"896.233\" y=\"152.874\"/>\n",
       "</g>\n",
       "<g style=\"fill:rgb(0%,0%,0%);fill-opacity:1;\">\n",
       "  <use xlink:href=\"#glyph-1615619521368237-0-9\" x=\"841.199\" y=\"182.027\"/>\n",
       "</g>\n",
       "<g style=\"fill:rgb(0%,0%,0%);fill-opacity:1;\">\n",
       "  <use xlink:href=\"#glyph-1615619521368237-0-3\" x=\"867.887\" y=\"182.027\"/>\n",
       "  <use xlink:href=\"#glyph-1615619521368237-0-9\" x=\"871.204559\" y=\"182.027\"/>\n",
       "</g>\n",
       "<g style=\"fill:rgb(0%,0%,0%);fill-opacity:1;\">\n",
       "  <use xlink:href=\"#glyph-1615619521368237-0-10\" x=\"897.892\" y=\"181.917\"/>\n",
       "</g>\n",
       "<g style=\"fill:rgb(0%,0%,0%);fill-opacity:1;\">\n",
       "  <use xlink:href=\"#glyph-1615619521368237-0-1\" x=\"201.746\" y=\"67.794\"/>\n",
       "</g>\n",
       "<g style=\"fill:rgb(0%,0%,0%);fill-opacity:1;\">\n",
       "  <use xlink:href=\"#glyph-1615619521368237-0-1\" x=\"371.824\" y=\"67.794\"/>\n",
       "</g>\n",
       "<g style=\"fill:rgb(0%,0%,0%);fill-opacity:1;\">\n",
       "  <use xlink:href=\"#glyph-1615619521368237-0-2\" x=\"201.746\" y=\"96.181\"/>\n",
       "</g>\n",
       "<g style=\"fill:rgb(0%,0%,0%);fill-opacity:1;\">\n",
       "  <use xlink:href=\"#glyph-1615619521368237-0-2\" x=\"60.013\" y=\"96.181\"/>\n",
       "</g>\n",
       "<g style=\"fill:rgb(0%,0%,0%);fill-opacity:1;\">\n",
       "  <use xlink:href=\"#glyph-1615619521368237-0-2\" x=\"924.58\" y=\"152.874\"/>\n",
       "</g>\n",
       "<g style=\"fill:rgb(0%,0%,0%);fill-opacity:1;\">\n",
       "  <use xlink:href=\"#glyph-1615619521368237-0-2\" x=\"244.265\" y=\"152.874\"/>\n",
       "</g>\n",
       "<g style=\"fill:rgb(0%,0%,0%);fill-opacity:1;\">\n",
       "  <use xlink:href=\"#glyph-1615619521368237-0-3\" x=\"924.58\" y=\"181.917\"/>\n",
       "  <use xlink:href=\"#glyph-1615619521368237-0-10\" x=\"927.897559\" y=\"181.917\"/>\n",
       "</g>\n",
       "<g style=\"fill:rgb(0%,0%,0%);fill-opacity:1;\">\n",
       "  <use xlink:href=\"#glyph-1615619521368237-0-2\" x=\"315.131\" y=\"96.181\"/>\n",
       "</g>\n",
       "<g style=\"fill:rgb(0%,0%,0%);fill-opacity:1;\">\n",
       "  <use xlink:href=\"#glyph-1615619521368237-0-2\" x=\"740.328\" y=\"96.181\"/>\n",
       "</g>\n",
       "<g style=\"fill:rgb(0%,0%,0%);fill-opacity:1;\">\n",
       "  <use xlink:href=\"#glyph-1615619521368237-0-2\" x=\"371.824\" y=\"96.181\"/>\n",
       "</g>\n",
       "<g style=\"fill:rgb(0%,0%,0%);fill-opacity:1;\">\n",
       "  <use xlink:href=\"#glyph-1615619521368237-0-2\" x=\"981.273\" y=\"152.874\"/>\n",
       "</g>\n",
       "<g style=\"fill:rgb(0%,0%,0%);fill-opacity:1;\">\n",
       "  <use xlink:href=\"#glyph-1615619521368237-0-2\" x=\"272.612\" y=\"152.874\"/>\n",
       "</g>\n",
       "<g style=\"fill:rgb(0%,0%,0%);fill-opacity:1;\">\n",
       "  <use xlink:href=\"#glyph-1615619521368237-0-3\" x=\"952.926\" y=\"182.082\"/>\n",
       "  <use xlink:href=\"#glyph-1615619521368237-0-8\" x=\"956.243559\" y=\"182.082\"/>\n",
       "</g>\n",
       "<g style=\"fill:rgb(0%,0%,0%);fill-opacity:1;\">\n",
       "  <use xlink:href=\"#glyph-1615619521368237-0-3\" x=\"981.273\" y=\"181.917\"/>\n",
       "  <use xlink:href=\"#glyph-1615619521368237-0-11\" x=\"984.590559\" y=\"181.917\"/>\n",
       "</g>\n",
       "<g style=\"fill:rgb(0%,0%,0%);fill-opacity:1;\">\n",
       "  <use xlink:href=\"#glyph-1615619521368237-0-1\" x=\"726.155\" y=\"124.487\"/>\n",
       "</g>\n",
       "<g style=\"fill:rgb(0%,0%,0%);fill-opacity:1;\">\n",
       "  <use xlink:href=\"#glyph-1615619521368237-0-2\" x=\"1009.619\" y=\"152.874\"/>\n",
       "</g>\n",
       "<g style=\"fill:rgb(0%,0%,0%);fill-opacity:1;\">\n",
       "  <use xlink:href=\"#glyph-1615619521368237-0-2\" x=\"300.958\" y=\"152.874\"/>\n",
       "</g>\n",
       "<g style=\"fill:rgb(0%,0%,0%);fill-opacity:1;\">\n",
       "  <use xlink:href=\"#glyph-1615619521368237-0-11\" x=\"1011.278\" y=\"181.917\"/>\n",
       "</g>\n",
       "<g style=\"fill:rgb(0%,0%,0%);fill-opacity:1;\">\n",
       "  <use xlink:href=\"#glyph-1615619521368237-0-1\" x=\"230.092\" y=\"67.794\"/>\n",
       "</g>\n",
       "<g style=\"fill:rgb(0%,0%,0%);fill-opacity:1;\">\n",
       "  <use xlink:href=\"#glyph-1615619521368237-0-1\" x=\"357.651\" y=\"124.487\"/>\n",
       "</g>\n",
       "<g style=\"fill:rgb(0%,0%,0%);fill-opacity:1;\">\n",
       "  <use xlink:href=\"#glyph-1615619521368237-0-2\" x=\"88.36\" y=\"96.181\"/>\n",
       "</g>\n",
       "<g style=\"fill:rgb(0%,0%,0%);fill-opacity:1;\">\n",
       "  <use xlink:href=\"#glyph-1615619521368237-0-2\" x=\"230.092\" y=\"96.181\"/>\n",
       "</g>\n",
       "<g style=\"fill:rgb(0%,0%,0%);fill-opacity:1;\">\n",
       "  <use xlink:href=\"#glyph-1615619521368237-0-1\" x=\"329.305\" y=\"124.487\"/>\n",
       "</g>\n",
       "<g style=\"fill:rgb(0%,0%,0%);fill-opacity:1;\">\n",
       "  <use xlink:href=\"#glyph-1615619521368237-0-2\" x=\"839.541\" y=\"152.874\"/>\n",
       "</g>\n",
       "<g style=\"fill:rgb(0%,0%,0%);fill-opacity:1;\">\n",
       "  <use xlink:href=\"#glyph-1615619521368237-0-2\" x=\"329.305\" y=\"152.874\"/>\n",
       "</g>\n",
       "<g style=\"fill:rgb(0%,0%,0%);fill-opacity:1;\">\n",
       "  <use xlink:href=\"#glyph-1615619521368237-0-2\" x=\"669.462\" y=\"152.874\"/>\n",
       "</g>\n",
       "<g style=\"fill:rgb(0%,0%,0%);fill-opacity:1;\">\n",
       "  <use xlink:href=\"#glyph-1615619521368237-0-2\" x=\"357.651\" y=\"152.874\"/>\n",
       "</g>\n",
       "<g style=\"fill:rgb(0%,0%,0%);fill-opacity:1;\">\n",
       "  <use xlink:href=\"#glyph-1615619521368237-0-1\" x=\"258.438\" y=\"67.794\"/>\n",
       "</g>\n",
       "<g style=\"fill:rgb(0%,0%,0%);fill-opacity:1;\">\n",
       "  <use xlink:href=\"#glyph-1615619521368237-0-1\" x=\"428.517\" y=\"67.794\"/>\n",
       "</g>\n",
       "<g style=\"fill:rgb(0%,0%,0%);fill-opacity:1;\">\n",
       "  <use xlink:href=\"#glyph-1615619521368237-0-2\" x=\"258.438\" y=\"96.181\"/>\n",
       "</g>\n",
       "<g style=\"fill:rgb(0%,0%,0%);fill-opacity:1;\">\n",
       "  <use xlink:href=\"#glyph-1615619521368237-0-2\" x=\"116.706\" y=\"96.181\"/>\n",
       "</g>\n",
       "<g style=\"fill:rgb(0%,0%,0%);fill-opacity:1;\">\n",
       "  <use xlink:href=\"#glyph-1615619521368237-0-2\" x=\"797.021\" y=\"96.181\"/>\n",
       "</g>\n",
       "<g style=\"fill:rgb(0%,0%,0%);fill-opacity:1;\">\n",
       "  <use xlink:href=\"#glyph-1615619521368237-0-2\" x=\"385.997\" y=\"152.874\"/>\n",
       "</g>\n",
       "<g style=\"fill:rgb(0%,0%,0%);fill-opacity:1;\">\n",
       "  <use xlink:href=\"#glyph-1615619521368237-0-2\" x=\"726.155\" y=\"152.874\"/>\n",
       "</g>\n",
       "<g style=\"fill:rgb(0%,0%,0%);fill-opacity:1;\">\n",
       "  <use xlink:href=\"#glyph-1615619521368237-0-2\" x=\"697.808\" y=\"152.874\"/>\n",
       "</g>\n",
       "<g style=\"fill:rgb(0%,0%,0%);fill-opacity:1;\">\n",
       "  <use xlink:href=\"#glyph-1615619521368237-0-12\" x=\"1038.519\" y=\"182.082\"/>\n",
       "</g>\n",
       "</g>\n",
       "</svg>\n",
       "\n"
      ]
     },
     "metadata": {},
     "execution_count": 12
    }
   ],
   "cell_type": "code",
   "source": [
    "plot(circuit)"
   ],
   "metadata": {},
   "execution_count": 12
  },
  {
   "outputs": [
    {
     "output_type": "execute_result",
     "data": {
      "text/plain": "true"
     },
     "metadata": {},
     "execution_count": 13
    }
   ],
   "cell_type": "code",
   "source": [
    "isdecomposable(circuit) && isdeterministic(circuit)"
   ],
   "metadata": {},
   "execution_count": 13
  },
  {
   "cell_type": "markdown",
   "source": [
    "This means that we can still decide satisfiability, count models, and solve various inference tasks efficiently. For example, we can compute the fraction of inputs that gives the output true:"
   ],
   "metadata": {}
  },
  {
   "outputs": [
    {
     "output_type": "execute_result",
     "data": {
      "text/plain": "29//128"
     },
     "metadata": {},
     "execution_count": 14
    }
   ],
   "cell_type": "code",
   "source": [
    "sat_prob(circuit)"
   ],
   "metadata": {},
   "execution_count": 14
  },
  {
   "cell_type": "markdown",
   "source": [
    "Moreover, compiled SDD circuits allow for efficiently checking whether one circuit logically entails another circuit, and whether two circuits are logically equivalent."
   ],
   "metadata": {}
  },
  {
   "outputs": [
    {
     "output_type": "execute_result",
     "data": {
      "text/plain": "true"
     },
     "metadata": {},
     "execution_count": 15
    }
   ],
   "cell_type": "code",
   "source": [
    "entails(circuit, (rainbow ⇒ cloud))"
   ],
   "metadata": {},
   "execution_count": 15
  },
  {
   "outputs": [
    {
     "output_type": "execute_result",
     "data": {
      "text/plain": "false"
     },
     "metadata": {},
     "execution_count": 16
    }
   ],
   "cell_type": "code",
   "source": [
    "entails(circuit, (rainbow ⇒ belgium))"
   ],
   "metadata": {},
   "execution_count": 16
  },
  {
   "outputs": [
    {
     "output_type": "execute_result",
     "data": {
      "text/plain": "true"
     },
     "metadata": {},
     "execution_count": 17
    }
   ],
   "cell_type": "code",
   "source": [
    "equivalent((rainbow ⇒ belgium), (¬belgium ⇒ ¬rainbow))"
   ],
   "metadata": {},
   "execution_count": 17
  },
  {
   "cell_type": "markdown",
   "source": [
    "Logical constraints are often written in conjunctive normal form (CNF). These can be loaded from file and compiled into circuits, using an SDD manager whose decomposition structure is specified by a *vtree* file."
   ],
   "metadata": {}
  },
  {
   "outputs": [
    {
     "output_type": "execute_result",
     "data": {
      "text/plain": "\"This CNF has 262144 satisfying assignments. Its circuit has 3115 nodes and 5826 edges.\""
     },
     "metadata": {},
     "execution_count": 18
    }
   ],
   "cell_type": "code",
   "source": [
    "manager = SddMgr(zoo_vtree(\"iscas89/s208.1.scan.min.vtree\"))\n",
    "circuit = compile(manager, zoo_cnf(\"iscas89/s208.1.scan.cnf\")) # CNF has 285 clauses\n",
    "\"This CNF has $(model_count(circuit)) satisfying assignments. Its circuit has $(num_nodes(circuit)) nodes and $(num_edges(circuit)) edges.\""
   ],
   "metadata": {},
   "execution_count": 18
  },
  {
   "cell_type": "markdown",
   "source": [
    "### Advanced functionality"
   ],
   "metadata": {}
  },
  {
   "cell_type": "markdown",
   "source": [
    "`LogicCircuits` further provides\n",
    " * CPU (SIMD) and GPU (CUDA) kernels to efficiently compute satisfiability, model counts, etc., for large numbers of inputs, parallelizing over both circuit nodes and data inputs.\n",
    " * Algorithms that transform circuits in non-trivial ways (split, clone, smooth, condition, etc.), verify and enforce structural properties.\n",
    " * Functionality to load and save circuits in various file formats"
   ],
   "metadata": {}
  },
  {
   "cell_type": "markdown",
   "source": [
    "Please see [![](https://img.shields.io/badge/docs-stable-green.svg)](https://juice-jl.github.io/LogicCircuits.jl/stable) or [![](https://img.shields.io/badge/docs-dev-blue.svg)](https://juice-jl.github.io/LogicCircuits.jl/dev) for further details."
   ],
   "metadata": {}
  }
 ],
 "nbformat_minor": 3,
 "metadata": {
  "language_info": {
   "file_extension": ".jl",
   "mimetype": "application/julia",
   "name": "julia",
   "version": "1.5.4"
  },
  "kernelspec": {
   "name": "julia-1.5",
   "display_name": "Julia 1.5.4",
   "language": "julia"
  }
 },
 "nbformat": 4
}
