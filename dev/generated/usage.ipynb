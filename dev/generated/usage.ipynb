{
 "cells": [
  {
   "cell_type": "markdown",
   "source": [
    "### Quick Tutorial\n",
    "[![Open Notebook](https://raw.githubusercontent.com/jupyter/design/master/logos/Badges/nbviewer_badge.svg)](https://nbviewer.jupyter.org/github/Juice-jl/LogicCircuits.jl/blob/gh-pages/dev/generated/usage.ipynb)"
   ],
   "metadata": {}
  },
  {
   "cell_type": "markdown",
   "source": [
    "Assuming that the LogicCircuits Julia package has been installed with `julia -e 'using Pkg; Pkg.add(\"LogicCircuits\")'`, we can start using it as follows."
   ],
   "metadata": {}
  },
  {
   "outputs": [],
   "cell_type": "code",
   "source": [
    "using LogicCircuits"
   ],
   "metadata": {},
   "execution_count": 1
  },
  {
   "cell_type": "markdown",
   "source": [
    "### Reasoning with manually constructed circuits"
   ],
   "metadata": {}
  },
  {
   "cell_type": "markdown",
   "source": [
    "We begin by creating three positive literals (logical variables) and manually constructing a simple circuit using logical connectives & (and), | (or), and - (not)."
   ],
   "metadata": {}
  },
  {
   "outputs": [],
   "cell_type": "code",
   "source": [
    "sun, rain, rainbow = pos_literals(LogicCircuit, 3)\n",
    "circuit = (rainbow & sun & rain) | (-rainbow); # rainbow implies sun and rain"
   ],
   "metadata": {},
   "execution_count": 2
  },
  {
   "cell_type": "markdown",
   "source": [
    "Just like any logical circuit or Boolean function, we can evaluate ours on various inputs."
   ],
   "metadata": {}
  },
  {
   "outputs": [
    {
     "output_type": "execute_result",
     "data": {
      "text/plain": "false"
     },
     "metadata": {},
     "execution_count": 3
    }
   ],
   "cell_type": "code",
   "source": [
    "circuit(false, true, true) # sun is false, rain is true, rainbow is true"
   ],
   "metadata": {},
   "execution_count": 3
  },
  {
   "outputs": [
    {
     "output_type": "execute_result",
     "data": {
      "text/plain": "true"
     },
     "metadata": {},
     "execution_count": 4
    }
   ],
   "cell_type": "code",
   "source": [
    "circuit(true, true, true) # sun is true, rain is true, rainbow is true"
   ],
   "metadata": {},
   "execution_count": 4
  },
  {
   "cell_type": "markdown",
   "source": [
    "The purpose of this package, however, is to enable more interesting inference scenarios. This is possible by ensuring that the circuit has certain [properties](https://juice-jl.github.io/LogicCircuits.jl/dev/manual/properties/), such as *decomposability*, *determinism*, and more.\n",
    "Our current circuit happens to already be decomposable and deterministic by construction:"
   ],
   "metadata": {}
  },
  {
   "outputs": [
    {
     "output_type": "execute_result",
     "data": {
      "text/plain": "true"
     },
     "metadata": {},
     "execution_count": 5
    }
   ],
   "cell_type": "code",
   "source": [
    "isdecomposable(circuit) && isdeterministic(circuit)"
   ],
   "metadata": {},
   "execution_count": 5
  },
  {
   "cell_type": "markdown",
   "source": [
    "The decomposability property ensures that we can ask whether the circuit is satisfiable (the classical SAT problem) and, surprisingly, still get our answer efficiently. Of course, from the input `true, true, true` tried above, we know the answer to be true."
   ],
   "metadata": {}
  },
  {
   "outputs": [
    {
     "output_type": "execute_result",
     "data": {
      "text/plain": "true"
     },
     "metadata": {},
     "execution_count": 6
    }
   ],
   "cell_type": "code",
   "source": [
    "issatisfiable(circuit) # does there exist an input that outputs true?"
   ],
   "metadata": {},
   "execution_count": 6
  },
  {
   "cell_type": "markdown",
   "source": [
    "In addition, the determinism property allows us to efficiently decide whether the circuit is a tautology (always true), or compute its model count, that is, the number of satisfying assignments."
   ],
   "metadata": {}
  },
  {
   "outputs": [
    {
     "output_type": "execute_result",
     "data": {
      "text/plain": "false"
     },
     "metadata": {},
     "execution_count": 7
    }
   ],
   "cell_type": "code",
   "source": [
    "istautology(circuit) # do all inputs give the circuit output true?"
   ],
   "metadata": {},
   "execution_count": 7
  },
  {
   "outputs": [
    {
     "output_type": "execute_result",
     "data": {
      "text/plain": "5"
     },
     "metadata": {},
     "execution_count": 8
    }
   ],
   "cell_type": "code",
   "source": [
    "model_count(circuit) # how many possible inputs give the output true?"
   ],
   "metadata": {},
   "execution_count": 8
  },
  {
   "cell_type": "markdown",
   "source": [
    "### Reasoning with compiled circuits"
   ],
   "metadata": {}
  },
  {
   "cell_type": "markdown",
   "source": [
    "As logical sentences become more complicated, it becomes infeasible to manually write down circuits that have the requisite properties that guarantee tractable inference."
   ],
   "metadata": {}
  },
  {
   "cell_type": "markdown",
   "source": [
    "A process called *compilation* can solve this problem. Concretely, `LogicCircuits` supports compilation into a particular type of circuit called SDD. We construct an SDD manager with four additional variables, and then ask to compile our running example circuit into an SDD:"
   ],
   "metadata": {}
  },
  {
   "outputs": [],
   "cell_type": "code",
   "source": [
    "manager = SddMgr(7, :balanced)\n",
    "circuit = compile(manager, circuit);"
   ],
   "metadata": {},
   "execution_count": 9
  },
  {
   "cell_type": "markdown",
   "source": [
    "Now we are able to incorporate many more logical sentences into the same circuit."
   ],
   "metadata": {}
  },
  {
   "outputs": [],
   "cell_type": "code",
   "source": [
    "sun, rain, rainbow, cloud, snow, los_angeles, belgium = pos_literals(Sdd, manager, 7)\n",
    "circuit &= (-los_angeles | -belgium) # cannot be in LA and Belgium at the same time\n",
    "circuit &= (los_angeles ⇒ sun) ∧ (belgium ⇒ cloud) # unicode logical syntax\n",
    "circuit &= (¬(rain ∨ snow) ⇐ ¬cloud); # no rain or snow without clouds"
   ],
   "metadata": {},
   "execution_count": 10
  },
  {
   "cell_type": "markdown",
   "source": [
    "Incorporating these constraints has increased the size of our circuit."
   ],
   "metadata": {}
  },
  {
   "outputs": [
    {
     "output_type": "execute_result",
     "data": {
      "text/plain": "TikzPictures.TikzPicture(\"\\\\graph [layered layout, ] {\\n1/\\\"⋁\\\" [],\\n2/\\\"⋀\\\" [],\\n3/\\\"⋀\\\" [],\\n4/\\\"⋀\\\" [],\\n5/\\\"⋀\\\" [],\\n6/\\\"⋁\\\" [],\\n7/\\\"⋁\\\" [],\\n8/\\\"⋀\\\" [],\\n9/\\\"4\\\" [],\\n10/\\\"⋁\\\" [],\\n11/\\\"⋀\\\" [],\\n12/\\\"1\\\" [],\\n13/\\\"2\\\" [],\\n14/\\\"⋁\\\" [],\\n15/\\\"⋁\\\" [],\\n16/\\\"⋀\\\" [],\\n17/\\\"-6\\\" [],\\n18/\\\"⋀\\\" [],\\n19/\\\"-1\\\" [],\\n20/\\\"⋁\\\" [],\\n21/\\\"⋀\\\" [],\\n22/\\\"-3\\\" [],\\n23/\\\"⋁\\\" [],\\n24/\\\"⋁\\\" [],\\n25/\\\"⋀\\\" [],\\n26/\\\"⋀\\\" [],\\n27/\\\"⋀\\\" [],\\n28/\\\"⋀\\\" [],\\n29/\\\"6\\\" [],\\n30/\\\"-7\\\" [],\\n31/\\\"⋁\\\" [],\\n32/\\\"⋀\\\" [],\\n33/\\\"⋁\\\" [],\\n34/\\\"⋁\\\" [],\\n35/\\\"⋁\\\" [],\\n36/\\\"⋀\\\" [],\\n37/\\\"⋀\\\" [],\\n38/\\\"⋁\\\" [],\\n39/\\\"⋀\\\" [],\\n40/\\\"⋀\\\" [],\\n41/\\\"-4\\\" [],\\n42/\\\"-5\\\" [],\\n43/\\\"⋀\\\" [],\\n44/\\\"⋀\\\" [],\\n45/\\\"-2\\\" [],\\n;\\n1 -> [,] 2;\\n1 -> [,] 3;\\n1 -> [,] 4;\\n1 -> [,] 5;\\n2 -> [,] 34;\\n2 -> [,] 35;\\n3 -> [,] 23;\\n3 -> [,] 24;\\n4 -> [,] 14;\\n4 -> [,] 15;\\n5 -> [,] 6;\\n5 -> [,] 7;\\n6 -> [,] 11;\\n7 -> [,] 8;\\n8 -> [,] 9;\\n8 -> [,] 10;\\n10 -> [,] 27;\\n10 -> [,] 28;\\n11 -> [,] 12;\\n11 -> [,] 13;\\n14 -> [,] 18;\\n15 -> [,] 16;\\n16 -> [,] 9;\\n16 -> [,] 17;\\n18 -> [,] 19;\\n18 -> [,] 20;\\n20 -> [,] 21;\\n21 -> [,] 13;\\n21 -> [,] 22;\\n23 -> [,] 32;\\n24 -> [,] 25;\\n24 -> [,] 26;\\n25 -> [,] 30;\\n25 -> [,] 31;\\n26 -> [,] 9;\\n26 -> [,] 10;\\n27 -> [,] 29;\\n27 -> [,] 30;\\n28 -> [,] 17;\\n31 -> [,] 40;\\n32 -> [,] 12;\\n32 -> [,] 33;\\n33 -> [,] 44;\\n34 -> [,] 43;\\n35 -> [,] 36;\\n35 -> [,] 37;\\n36 -> [,] 31;\\n36 -> [,] 38;\\n37 -> [,] 9;\\n37 -> [,] 17;\\n38 -> [,] 39;\\n39 -> [,] 17;\\n39 -> [,] 30;\\n40 -> [,] 41;\\n40 -> [,] 42;\\n43 -> [,] 19;\\n43 -> [,] 33;\\n44 -> [,] 22;\\n44 -> [,] 45;\\n};\\n\", \"\", \"\\\\usepackage{fontspec}\\n\\\\setmainfont{Latin Modern Math}\\n\\\\usetikzlibrary{arrows}\\n\\\\usetikzlibrary{graphs}\\n\\\\usetikzlibrary{graphdrawing}\\n\\n% from: https://tex.stackexchange.com/questions/453132/fresh-install-of-tl2018-no-tikz-graph-drawing-libraries-found\\n\\\\usepackage{luacode}\\n\\\\begin{luacode*}\\n\\tfunction pgf_lookup_and_require(name)\\n\\tlocal sep = package.config:sub(1,1)\\n\\tlocal function lookup(name)\\n\\tlocal sub = name:gsub('%.',sep)  \\n\\tif kpse.find_file(sub, 'lua') then\\n\\trequire(name)\\n\\telseif kpse.find_file(sub, 'clua') then\\n\\tcollectgarbage('stop') \\n\\trequire(name)\\n\\tcollectgarbage('restart')\\n\\telse\\n\\treturn false\\n\\tend\\n\\treturn true\\n\\tend\\n\\treturn\\n\\tlookup('pgf.gd.' .. name .. '.library') or\\n\\tlookup('pgf.gd.' .. name) or\\n\\tlookup(name .. '.library') or\\n\\tlookup(name) \\n\\tend\\n\\\\end{luacode*}\\n\\n\\\\usegdlibrary{layered}\", \"tikzpicture\", \"\", \"\", true, true)",
      "image/svg+xml": [
       "<?xml version=\"1.0\" encoding=\"UTF-8\"?>\n",
       "<svg xmlns=\"http://www.w3.org/2000/svg\" xmlns:xlink=\"http://www.w3.org/1999/xlink\" width=\"374.698pt\" height=\"185.507pt\" viewBox=\"0 0 374.698 185.507\" version=\"1.1\">\n",
       "<defs>\n",
       "<g>\n",
       "<symbol overflow=\"visible\" id=\"glyph-1637520714047950-0-0\">\n",
       "<path style=\"stroke:none;\" d=\"\"/>\n",
       "</symbol>\n",
       "<symbol overflow=\"visible\" id=\"glyph-1637520714047950-0-1\">\n",
       "<path style=\"stroke:none;\" d=\"M 7.78125 -7.234375 C 7.90625 -7.59375 7.359375 -7.78125 7.234375 -7.421875 L 4.140625 1.46875 L 1.0625 -7.421875 C 0.953125 -7.78125 0.40625 -7.59375 0.53125 -7.234375 L 3.953125 2.65625 C 4.015625 2.84375 4.28125 2.84375 4.34375 2.65625 Z M 7.78125 -7.234375 \"/>\n",
       "</symbol>\n",
       "<symbol overflow=\"visible\" id=\"glyph-1637520714047950-0-2\">\n",
       "<path style=\"stroke:none;\" d=\"M 7.78125 2.25 L 4.34375 -7.640625 C 4.28125 -7.828125 4.015625 -7.828125 3.953125 -7.640625 L 0.53125 2.25 C 0.40625 2.609375 0.953125 2.796875 1.0625 2.4375 L 4.140625 -6.453125 L 7.234375 2.4375 C 7.359375 2.796875 7.90625 2.609375 7.78125 2.25 Z M 7.78125 2.25 \"/>\n",
       "</symbol>\n",
       "<symbol overflow=\"visible\" id=\"glyph-1637520714047950-0-3\">\n",
       "<path style=\"stroke:none;\" d=\"M 4.6875 -1.640625 L 4.6875 -1.953125 L 3.703125 -1.953125 L 3.703125 -6.484375 C 3.703125 -6.6875 3.703125 -6.75 3.53125 -6.75 C 3.453125 -6.75 3.421875 -6.75 3.34375 -6.625 L 0.28125 -1.953125 L 0.28125 -1.640625 L 2.9375 -1.640625 L 2.9375 -0.78125 C 2.9375 -0.421875 2.90625 -0.3125 2.171875 -0.3125 L 1.96875 -0.3125 L 1.96875 0 C 2.375 -0.03125 2.890625 -0.03125 3.3125 -0.03125 C 3.734375 -0.03125 4.25 -0.03125 4.671875 0 L 4.671875 -0.3125 L 4.453125 -0.3125 C 3.71875 -0.3125 3.703125 -0.421875 3.703125 -0.78125 L 3.703125 -1.640625 Z M 2.984375 -1.953125 L 0.5625 -1.953125 L 2.984375 -5.671875 Z M 2.984375 -1.953125 \"/>\n",
       "</symbol>\n",
       "<symbol overflow=\"visible\" id=\"glyph-1637520714047950-0-4\">\n",
       "<path style=\"stroke:none;\" d=\"M 4.171875 0 L 4.171875 -0.3125 L 3.859375 -0.3125 C 2.953125 -0.3125 2.9375 -0.421875 2.9375 -0.78125 L 2.9375 -6.375 C 2.9375 -6.625 2.9375 -6.640625 2.703125 -6.640625 C 2.078125 -6 1.203125 -6 0.890625 -6 L 0.890625 -5.6875 C 1.09375 -5.6875 1.671875 -5.6875 2.1875 -5.953125 L 2.1875 -0.78125 C 2.1875 -0.421875 2.15625 -0.3125 1.265625 -0.3125 L 0.953125 -0.3125 L 0.953125 0 C 1.296875 -0.03125 2.15625 -0.03125 2.5625 -0.03125 C 2.953125 -0.03125 3.828125 -0.03125 4.171875 0 Z M 4.171875 0 \"/>\n",
       "</symbol>\n",
       "<symbol overflow=\"visible\" id=\"glyph-1637520714047950-0-5\">\n",
       "<path style=\"stroke:none;\" d=\"M 4.46875 -1.734375 L 4.234375 -1.734375 C 4.171875 -1.4375 4.109375 -1 4 -0.84375 C 3.9375 -0.765625 3.28125 -0.765625 3.0625 -0.765625 L 1.265625 -0.765625 L 2.328125 -1.796875 C 3.875 -3.171875 4.46875 -3.703125 4.46875 -4.703125 C 4.46875 -5.84375 3.578125 -6.640625 2.359375 -6.640625 C 1.234375 -6.640625 0.5 -5.71875 0.5 -4.828125 C 0.5 -4.28125 1 -4.28125 1.03125 -4.28125 C 1.203125 -4.28125 1.546875 -4.390625 1.546875 -4.8125 C 1.546875 -5.0625 1.359375 -5.328125 1.015625 -5.328125 C 0.9375 -5.328125 0.921875 -5.328125 0.890625 -5.3125 C 1.109375 -5.96875 1.65625 -6.328125 2.234375 -6.328125 C 3.140625 -6.328125 3.5625 -5.515625 3.5625 -4.703125 C 3.5625 -3.90625 3.078125 -3.125 2.515625 -2.5 L 0.609375 -0.375 C 0.5 -0.265625 0.5 -0.234375 0.5 0 L 4.203125 0 Z M 4.46875 -1.734375 \"/>\n",
       "</symbol>\n",
       "<symbol overflow=\"visible\" id=\"glyph-1637520714047950-0-6\">\n",
       "<path style=\"stroke:none;\" d=\"M 2.75 -1.859375 L 2.75 -2.4375 L 0.109375 -2.4375 L 0.109375 -1.859375 Z M 2.75 -1.859375 \"/>\n",
       "</symbol>\n",
       "<symbol overflow=\"visible\" id=\"glyph-1637520714047950-0-7\">\n",
       "<path style=\"stroke:none;\" d=\"M 4.5625 -2.03125 C 4.5625 -3.296875 3.671875 -4.25 2.5625 -4.25 C 1.890625 -4.25 1.515625 -3.75 1.3125 -3.265625 L 1.3125 -3.515625 C 1.3125 -6.03125 2.546875 -6.390625 3.0625 -6.390625 C 3.296875 -6.390625 3.71875 -6.328125 3.9375 -5.984375 C 3.78125 -5.984375 3.390625 -5.984375 3.390625 -5.546875 C 3.390625 -5.234375 3.625 -5.078125 3.84375 -5.078125 C 4 -5.078125 4.3125 -5.171875 4.3125 -5.5625 C 4.3125 -6.15625 3.875 -6.640625 3.046875 -6.640625 C 1.765625 -6.640625 0.421875 -5.359375 0.421875 -3.15625 C 0.421875 -0.484375 1.578125 0.21875 2.5 0.21875 C 3.609375 0.21875 4.5625 -0.71875 4.5625 -2.03125 Z M 3.65625 -2.046875 C 3.65625 -1.5625 3.65625 -1.0625 3.484375 -0.703125 C 3.1875 -0.109375 2.734375 -0.0625 2.5 -0.0625 C 1.875 -0.0625 1.578125 -0.65625 1.515625 -0.8125 C 1.328125 -1.28125 1.328125 -2.078125 1.328125 -2.25 C 1.328125 -3.03125 1.65625 -4.03125 2.546875 -4.03125 C 2.71875 -4.03125 3.171875 -4.03125 3.484375 -3.40625 C 3.65625 -3.046875 3.65625 -2.53125 3.65625 -2.046875 Z M 3.65625 -2.046875 \"/>\n",
       "</symbol>\n",
       "<symbol overflow=\"visible\" id=\"glyph-1637520714047950-0-8\">\n",
       "<path style=\"stroke:none;\" d=\"M 4.5625 -1.703125 C 4.5625 -2.515625 3.921875 -3.296875 2.890625 -3.515625 C 3.703125 -3.78125 4.28125 -4.46875 4.28125 -5.265625 C 4.28125 -6.078125 3.40625 -6.640625 2.453125 -6.640625 C 1.453125 -6.640625 0.6875 -6.046875 0.6875 -5.28125 C 0.6875 -4.953125 0.90625 -4.765625 1.203125 -4.765625 C 1.5 -4.765625 1.703125 -4.984375 1.703125 -5.28125 C 1.703125 -5.765625 1.234375 -5.765625 1.09375 -5.765625 C 1.390625 -6.265625 2.046875 -6.390625 2.40625 -6.390625 C 2.828125 -6.390625 3.375 -6.171875 3.375 -5.28125 C 3.375 -5.15625 3.34375 -4.578125 3.09375 -4.140625 C 2.796875 -3.65625 2.453125 -3.625 2.203125 -3.625 C 2.125 -3.609375 1.890625 -3.59375 1.8125 -3.59375 C 1.734375 -3.578125 1.671875 -3.5625 1.671875 -3.46875 C 1.671875 -3.359375 1.734375 -3.359375 1.90625 -3.359375 L 2.34375 -3.359375 C 3.15625 -3.359375 3.53125 -2.6875 3.53125 -1.703125 C 3.53125 -0.34375 2.84375 -0.0625 2.40625 -0.0625 C 1.96875 -0.0625 1.21875 -0.234375 0.875 -0.8125 C 1.21875 -0.765625 1.53125 -0.984375 1.53125 -1.359375 C 1.53125 -1.71875 1.265625 -1.921875 0.984375 -1.921875 C 0.734375 -1.921875 0.421875 -1.78125 0.421875 -1.34375 C 0.421875 -0.4375 1.34375 0.21875 2.4375 0.21875 C 3.65625 0.21875 4.5625 -0.6875 4.5625 -1.703125 Z M 4.5625 -1.703125 \"/>\n",
       "</symbol>\n",
       "<symbol overflow=\"visible\" id=\"glyph-1637520714047950-0-9\">\n",
       "<path style=\"stroke:none;\" d=\"M 4.828125 -6.421875 L 2.40625 -6.421875 C 1.203125 -6.421875 1.171875 -6.546875 1.140625 -6.734375 L 0.890625 -6.734375 L 0.5625 -4.6875 L 0.8125 -4.6875 C 0.84375 -4.84375 0.921875 -5.46875 1.0625 -5.59375 C 1.125 -5.65625 1.90625 -5.65625 2.03125 -5.65625 L 4.09375 -5.65625 L 2.984375 -4.078125 C 2.078125 -2.734375 1.75 -1.34375 1.75 -0.328125 C 1.75 -0.234375 1.75 0.21875 2.21875 0.21875 C 2.671875 0.21875 2.671875 -0.234375 2.671875 -0.328125 L 2.671875 -0.84375 C 2.671875 -1.390625 2.703125 -1.9375 2.78125 -2.46875 C 2.828125 -2.703125 2.953125 -3.5625 3.40625 -4.171875 L 4.75 -6.078125 C 4.828125 -6.1875 4.828125 -6.203125 4.828125 -6.421875 Z M 4.828125 -6.421875 \"/>\n",
       "</symbol>\n",
       "<symbol overflow=\"visible\" id=\"glyph-1637520714047950-0-10\">\n",
       "<path style=\"stroke:none;\" d=\"M 4.46875 -2 C 4.46875 -3.1875 3.65625 -4.1875 2.578125 -4.1875 C 2.109375 -4.1875 1.671875 -4.03125 1.3125 -3.671875 L 1.3125 -5.625 C 1.515625 -5.5625 1.84375 -5.5 2.15625 -5.5 C 3.390625 -5.5 4.09375 -6.40625 4.09375 -6.53125 C 4.09375 -6.59375 4.0625 -6.640625 3.984375 -6.640625 C 3.984375 -6.640625 3.953125 -6.640625 3.90625 -6.609375 C 3.703125 -6.515625 3.21875 -6.3125 2.546875 -6.3125 C 2.15625 -6.3125 1.6875 -6.390625 1.21875 -6.59375 C 1.140625 -6.625 1.109375 -6.625 1.109375 -6.625 C 1 -6.625 1 -6.546875 1 -6.390625 L 1 -3.4375 C 1 -3.265625 1 -3.1875 1.140625 -3.1875 C 1.21875 -3.1875 1.234375 -3.203125 1.28125 -3.265625 C 1.390625 -3.421875 1.75 -3.96875 2.5625 -3.96875 C 3.078125 -3.96875 3.328125 -3.515625 3.40625 -3.328125 C 3.5625 -2.953125 3.59375 -2.578125 3.59375 -2.078125 C 3.59375 -1.71875 3.59375 -1.125 3.34375 -0.703125 C 3.109375 -0.3125 2.734375 -0.0625 2.28125 -0.0625 C 1.5625 -0.0625 0.984375 -0.59375 0.8125 -1.171875 C 0.84375 -1.171875 0.875 -1.15625 0.984375 -1.15625 C 1.3125 -1.15625 1.484375 -1.40625 1.484375 -1.640625 C 1.484375 -1.890625 1.3125 -2.140625 0.984375 -2.140625 C 0.84375 -2.140625 0.5 -2.0625 0.5 -1.609375 C 0.5 -0.75 1.1875 0.21875 2.296875 0.21875 C 3.453125 0.21875 4.46875 -0.734375 4.46875 -2 Z M 4.46875 -2 \"/>\n",
       "</symbol>\n",
       "</g>\n",
       "</defs>\n",
       "<g id=\"surface1\">\n",
       "<path style=\"fill:none;stroke-width:0.3985;stroke-linecap:butt;stroke-linejoin:miter;stroke:rgb(0%,0%,0%);stroke-opacity:1;stroke-miterlimit:10;\" d=\"M 7.667406 -5.111187 L 34.468187 -22.978375 \" transform=\"matrix(1,0,0,-1,105.024,8.631)\"/>\n",
       "<path style=\"fill:none;stroke-width:0.31879;stroke-linecap:round;stroke-linejoin:round;stroke:rgb(0%,0%,0%);stroke-opacity:1;stroke-miterlimit:10;\" d=\"M -1.195855 1.594098 C -1.096184 0.993869 0.00133807 0.101101 0.299284 -0.00074478 C 0.000252941 -0.101503 -1.097284 -0.997502 -1.196965 -1.594479 \" transform=\"matrix(0.83202,0.55467,0.55467,-0.83202,139.49359,31.61072)\"/>\n",
       "<path style=\"fill:none;stroke-width:0.3985;stroke-linecap:butt;stroke-linejoin:miter;stroke:rgb(0%,0%,0%);stroke-opacity:1;stroke-miterlimit:10;\" d=\"M 4.4135 -8.829937 L 9.554125 -19.107281 \" transform=\"matrix(1,0,0,-1,105.024,8.631)\"/>\n",
       "<path style=\"fill:none;stroke-width:0.31879;stroke-linecap:round;stroke-linejoin:round;stroke:rgb(0%,0%,0%);stroke-opacity:1;stroke-miterlimit:10;\" d=\"M -1.194419 1.593752 C -1.096578 0.994509 0.00233542 0.100021 0.297591 0.000440407 C -0.00115693 -0.0991451 -1.09656 -0.997147 -1.19439 -1.594645 \" transform=\"matrix(0.44717,0.89436,0.89436,-0.44717,114.57747,27.73795)\"/>\n",
       "<path style=\"fill:none;stroke-width:0.3985;stroke-linecap:butt;stroke-linejoin:miter;stroke:rgb(0%,0%,0%);stroke-opacity:1;stroke-miterlimit:10;\" d=\"M -4.414625 -8.829937 L -9.55525 -19.107281 \" transform=\"matrix(1,0,0,-1,105.024,8.631)\"/>\n",
       "<path style=\"fill:none;stroke-width:0.31879;stroke-linecap:round;stroke-linejoin:round;stroke:rgb(0%,0%,0%);stroke-opacity:1;stroke-miterlimit:10;\" d=\"M -1.193887 1.593639 C -1.096057 0.996141 -0.000653783 0.0981388 0.298094 -0.00144672 C 0.00109153 -0.0975328 -1.096075 -0.995515 -1.193916 -1.594759 \" transform=\"matrix(-0.44717,0.89436,0.89436,0.44717,95.47053,27.73795)\"/>\n",
       "<path style=\"fill:none;stroke-width:0.3985;stroke-linecap:butt;stroke-linejoin:miter;stroke:rgb(0%,0%,0%);stroke-opacity:1;stroke-miterlimit:10;\" d=\"M -7.668531 -5.111187 L -34.469313 -22.978375 \" transform=\"matrix(1,0,0,-1,105.024,8.631)\"/>\n",
       "<path style=\"fill:none;stroke-width:0.31879;stroke-linecap:round;stroke-linejoin:round;stroke:rgb(0%,0%,0%);stroke-opacity:1;stroke-miterlimit:10;\" d=\"M -1.196029 1.593855 C -1.096347 0.996878 0.00118904 0.100879 0.300221 0.000120724 C -0.000976178 -0.0995587 -1.095247 -0.994493 -1.194919 -1.594722 \" transform=\"matrix(-0.83202,0.55467,0.55467,0.83202,70.55441,31.61072)\"/>\n",
       "<path style=\"fill:none;stroke-width:0.3985;stroke-linecap:butt;stroke-linejoin:miter;stroke:rgb(0%,0%,0%);stroke-opacity:1;stroke-miterlimit:10;\" d=\"M 50.190844 -30.904156 L 119.456469 -53.994 \" transform=\"matrix(1,0,0,-1,105.024,8.631)\"/>\n",
       "<path style=\"fill:none;stroke-width:0.31879;stroke-linecap:round;stroke-linejoin:round;stroke:rgb(0%,0%,0%);stroke-opacity:1;stroke-miterlimit:10;\" d=\"M -1.194094 1.593113 C -1.094035 0.996452 -0.000777638 0.100839 0.300641 -0.000457921 C 0.000457048 -0.100518 -1.096512 -0.997359 -1.194104 -1.594019 \" transform=\"matrix(0.94864,0.31621,0.31621,-0.94864,224.48057,62.62325)\"/>\n",
       "<path style=\"fill:none;stroke-width:0.3985;stroke-linecap:butt;stroke-linejoin:miter;stroke:rgb(0%,0%,0%);stroke-opacity:1;stroke-miterlimit:10;\" d=\"M 34.851 -33.458844 L 8.050219 -51.326031 \" transform=\"matrix(1,0,0,-1,105.024,8.631)\"/>\n",
       "<path style=\"fill:none;stroke-width:0.31879;stroke-linecap:round;stroke-linejoin:round;stroke:rgb(0%,0%,0%);stroke-opacity:1;stroke-miterlimit:10;\" d=\"M -1.195017 1.594185 C -1.095335 0.997208 0.0000342018 0.0979586 0.301233 0.000451139 C 0.0000358426 -0.0992282 -1.096402 -0.997413 -1.193907 -1.594391 \" transform=\"matrix(-0.83202,0.55467,0.55467,0.83202,113.0746,59.95754)\"/>\n",
       "<path style=\"fill:none;stroke-width:0.3985;stroke-linecap:butt;stroke-linejoin:miter;stroke:rgb(0%,0%,0%);stroke-opacity:1;stroke-miterlimit:10;\" d=\"M 21.843187 -33.458844 L 48.643969 -51.326031 \" transform=\"matrix(1,0,0,-1,105.024,8.631)\"/>\n",
       "<path style=\"fill:none;stroke-width:0.31879;stroke-linecap:round;stroke-linejoin:round;stroke:rgb(0%,0%,0%);stroke-opacity:1;stroke-miterlimit:10;\" d=\"M -1.19666 1.592556 C -1.095905 0.997744 0.000533016 0.0995597 0.298479 -0.00228656 C 0.000531375 -0.0976272 -1.094838 -0.996877 -1.19452 -1.593854 \" transform=\"matrix(0.83202,0.55467,0.55467,-0.83202,153.66699,59.95754)\"/>\n",
       "<path style=\"fill:none;stroke-width:0.3985;stroke-linecap:butt;stroke-linejoin:miter;stroke:rgb(0%,0%,0%);stroke-opacity:1;stroke-miterlimit:10;\" d=\"M 6.503344 -33.458844 L -20.297438 -51.326031 \" transform=\"matrix(1,0,0,-1,105.024,8.631)\"/>\n",
       "<path style=\"fill:none;stroke-width:0.31879;stroke-linecap:round;stroke-linejoin:round;stroke:rgb(0%,0%,0%);stroke-opacity:1;stroke-miterlimit:10;\" d=\"M -1.194305 1.59371 C -1.094623 0.996733 0.000746679 0.0974836 0.298695 0.00214302 C 0.000748319 -0.0997032 -1.09569 -0.997888 -1.196445 -1.592699 \" transform=\"matrix(-0.83202,0.55467,0.55467,0.83202,84.7278,59.95754)\"/>\n",
       "<path style=\"fill:none;stroke-width:0.3985;stroke-linecap:butt;stroke-linejoin:miter;stroke:rgb(0%,0%,0%);stroke-opacity:1;stroke-miterlimit:10;\" d=\"M -6.504469 -30.536969 L 76.929125 -54.376812 \" transform=\"matrix(1,0,0,-1,105.024,8.631)\"/>\n",
       "<path style=\"fill:none;stroke-width:0.31879;stroke-linecap:round;stroke-linejoin:round;stroke:rgb(0%,0%,0%);stroke-opacity:1;stroke-miterlimit:10;\" d=\"M -1.196649 1.595675 C -1.094176 0.995237 -0.00171694 0.10073 0.299303 -0.000154141 C -0.00172159 -0.0983416 -1.094223 -0.995481 -1.195651 -1.59323 \" transform=\"matrix(0.9615,0.27469,0.27469,-0.9615,181.95445,63.00748)\"/>\n",
       "<path style=\"fill:none;stroke-width:0.3985;stroke-linecap:butt;stroke-linejoin:miter;stroke:rgb(0%,0%,0%);stroke-opacity:1;stroke-miterlimit:10;\" d=\"M -21.844313 -33.458844 L -48.641188 -51.326031 \" transform=\"matrix(1,0,0,-1,105.024,8.631)\"/>\n",
       "<path style=\"fill:none;stroke-width:0.31879;stroke-linecap:round;stroke-linejoin:round;stroke:rgb(0%,0%,0%);stroke-opacity:1;stroke-miterlimit:10;\" d=\"M -1.196834 1.595397 C -1.093902 0.996253 -0.00178287 0.09917 0.299415 0.0016625 C 0.00146912 -0.100184 -1.094969 -0.998368 -1.195724 -1.59318 \" transform=\"matrix(-0.83202,0.55467,0.55467,0.83202,56.38101,59.95754)\"/>\n",
       "<path style=\"fill:none;stroke-width:0.3985;stroke-linecap:butt;stroke-linejoin:miter;stroke:rgb(0%,0%,0%);stroke-opacity:1;stroke-miterlimit:10;\" d=\"M -34.852125 -31.415875 L 20.253344 -53.454937 \" transform=\"matrix(1,0,0,-1,105.024,8.631)\"/>\n",
       "<path style=\"fill:none;stroke-width:0.31879;stroke-linecap:round;stroke-linejoin:round;stroke:rgb(0%,0%,0%);stroke-opacity:1;stroke-miterlimit:10;\" d=\"M -1.195225 1.592744 C -1.095848 0.997187 0.000230352 0.0976819 0.300547 -0.000974526 C -0.000496154 -0.100353 -1.09731 -0.99767 -1.195968 -1.5925 \" transform=\"matrix(0.92844,0.37137,0.37137,-0.92844,125.27601,62.0867)\"/>\n",
       "<path style=\"fill:none;stroke-width:0.3985;stroke-linecap:butt;stroke-linejoin:miter;stroke:rgb(0%,0%,0%);stroke-opacity:1;stroke-miterlimit:10;\" d=\"M -50.188063 -33.458844 L -76.988844 -51.326031 \" transform=\"matrix(1,0,0,-1,105.024,8.631)\"/>\n",
       "<path style=\"fill:none;stroke-width:0.31879;stroke-linecap:round;stroke-linejoin:round;stroke:rgb(0%,0%,0%);stroke-opacity:1;stroke-miterlimit:10;\" d=\"M -1.19613 1.594927 C -1.096448 0.99795 -0.00107872 0.0987006 0.30012 0.00119307 C -0.00107708 -0.0984863 -1.097515 -0.996671 -1.19502 -1.593649 \" transform=\"matrix(-0.83202,0.55467,0.55467,0.83202,28.0342,59.95754)\"/>\n",
       "<path style=\"fill:none;stroke-width:0.3985;stroke-linecap:butt;stroke-linejoin:miter;stroke:rgb(0%,0%,0%);stroke-opacity:1;stroke-miterlimit:10;\" d=\"M 28.347094 -65.52525 L 28.347094 -75.751812 \" transform=\"matrix(1,0,0,-1,105.024,8.631)\"/>\n",
       "<path style=\"fill:none;stroke-width:0.31879;stroke-linecap:round;stroke-linejoin:round;stroke:rgb(0%,0%,0%);stroke-opacity:1;stroke-miterlimit:10;\" d=\"M -1.19565 1.594044 C -1.094088 0.996387 -0.0003375 0.09795 0.300444 0.00029375 C -0.0003375 -0.101269 -1.094088 -0.9958 -1.19565 -1.593456 \" transform=\"matrix(0,1,1,0,133.3708,84.38315)\"/>\n",
       "<path style=\"fill:none;stroke-width:0.3985;stroke-linecap:butt;stroke-linejoin:miter;stroke:rgb(0%,0%,0%);stroke-opacity:1;stroke-miterlimit:10;\" d=\"M -85.039625 -65.52525 L -85.039625 -75.751812 \" transform=\"matrix(1,0,0,-1,105.024,8.631)\"/>\n",
       "<path style=\"fill:none;stroke-width:0.31879;stroke-linecap:round;stroke-linejoin:round;stroke:rgb(0%,0%,0%);stroke-opacity:1;stroke-miterlimit:10;\" d=\"M -1.19565 1.594525 C -1.094088 0.996869 -0.0003375 0.0984313 0.300444 0.000775 C -0.0003375 -0.100787 -1.094088 -0.995319 -1.19565 -1.592975 \" transform=\"matrix(0,1,1,0,19.9836,84.38315)\"/>\n",
       "<path style=\"fill:none;stroke-width:0.3985;stroke-linecap:butt;stroke-linejoin:miter;stroke:rgb(0%,0%,0%);stroke-opacity:1;stroke-miterlimit:10;\" d=\"M -89.453688 -93.869 L -95.563063 -106.083844 \" transform=\"matrix(1,0,0,-1,105.024,8.631)\"/>\n",
       "<path style=\"fill:none;stroke-width:0.31879;stroke-linecap:round;stroke-linejoin:round;stroke:rgb(0%,0%,0%);stroke-opacity:1;stroke-miterlimit:10;\" d=\"M -1.195999 1.594246 C -1.098169 0.996748 0.000728238 0.100493 0.299476 0.000907473 C 0.000726441 -0.10042 -1.09644 -0.998402 -1.196028 -1.594151 \" transform=\"matrix(-0.44717,0.89436,0.89436,0.44717,9.46123,114.71613)\"/>\n",
       "<path style=\"fill:none;stroke-width:0.3985;stroke-linecap:butt;stroke-linejoin:miter;stroke:rgb(0%,0%,0%);stroke-opacity:1;stroke-miterlimit:10;\" d=\"M -77.371656 -87.232281 L 6.061937 -111.068219 \" transform=\"matrix(1,0,0,-1,105.024,8.631)\"/>\n",
       "<path style=\"fill:none;stroke-width:0.31879;stroke-linecap:round;stroke-linejoin:round;stroke:rgb(0%,0%,0%);stroke-opacity:1;stroke-miterlimit:10;\" d=\"M -1.196345 1.594001 C -1.094945 0.99732 -0.00141306 0.0990568 0.298534 0.0019285 C -0.00141771 -0.100015 -1.093919 -0.997154 -1.195347 -1.594904 \" transform=\"matrix(0.9615,0.27469,0.27469,-0.9615,111.08743,119.7011)\"/>\n",
       "<path style=\"fill:none;stroke-width:0.3985;stroke-linecap:butt;stroke-linejoin:miter;stroke:rgb(0%,0%,0%);stroke-opacity:1;stroke-miterlimit:10;\" d=\"M 21.843187 -114.919781 L 147.7885 -140.111187 \" transform=\"matrix(1,0,0,-1,105.024,8.631)\"/>\n",
       "<path style=\"fill:none;stroke-width:0.31879;stroke-linecap:round;stroke-linejoin:round;stroke:rgb(0%,0%,0%);stroke-opacity:1;stroke-miterlimit:10;\" d=\"M -1.195186 1.592577 C -1.095598 0.995015 -0.0000779719 0.0986624 0.298702 -0.000934021 C -0.0000799251 -0.100525 -1.095618 -0.996856 -1.195217 -1.594416 \" transform=\"matrix(0.98055,0.1961,0.1961,-0.98055,252.81276,148.74129)\"/>\n",
       "<path style=\"fill:none;stroke-width:0.3985;stroke-linecap:butt;stroke-linejoin:miter;stroke:rgb(0%,0%,0%);stroke-opacity:1;stroke-miterlimit:10;\" d=\"M 14.175219 -122.216656 L 14.175219 -132.447125 \" transform=\"matrix(1,0,0,-1,105.024,8.631)\"/>\n",
       "<path style=\"fill:none;stroke-width:0.31879;stroke-linecap:round;stroke-linejoin:round;stroke:rgb(0%,0%,0%);stroke-opacity:1;stroke-miterlimit:10;\" d=\"M -1.193957 1.595579 C -1.096301 0.997923 0.001355 0.099485 0.29823 0.00182875 C 0.001355 -0.0997337 -1.096301 -0.998171 -1.193957 -1.595827 \" transform=\"matrix(0,1,1,0,119.19739,141.07677)\"/>\n",
       "<path style=\"fill:none;stroke-width:0.3985;stroke-linecap:butt;stroke-linejoin:miter;stroke:rgb(0%,0%,0%);stroke-opacity:1;stroke-miterlimit:10;\" d=\"M 20.679125 -87.232281 L -64.414625 -111.544781 \" transform=\"matrix(1,0,0,-1,105.024,8.631)\"/>\n",
       "<path style=\"fill:none;stroke-width:0.31879;stroke-linecap:round;stroke-linejoin:round;stroke:rgb(0%,0%,0%);stroke-opacity:1;stroke-miterlimit:10;\" d=\"M -1.195442 1.593596 C -1.094014 0.995846 -0.00151315 0.0987071 0.299511 0.000519709 C -0.0015085 -0.100365 -1.093968 -0.994872 -1.196441 -1.595309 \" transform=\"matrix(-0.9615,0.27469,0.27469,0.9615,40.60815,120.17504)\"/>\n",
       "<path style=\"fill:none;stroke-width:0.3985;stroke-linecap:butt;stroke-linejoin:miter;stroke:rgb(0%,0%,0%);stroke-opacity:1;stroke-miterlimit:10;\" d=\"M 20.679125 -90.154156 L -14.172438 -113.388531 L -14.172438 -162.786969 \" transform=\"matrix(1,0,0,-1,105.024,8.631)\"/>\n",
       "<path style=\"fill:none;stroke-width:0.31879;stroke-linecap:round;stroke-linejoin:round;stroke:rgb(0%,0%,0%);stroke-opacity:1;stroke-miterlimit:10;\" d=\"M -1.19736 1.594702 C -1.095798 0.997046 0.00185875 0.0986087 0.298734 0.0009525 C 0.00185875 -0.10061 -1.095798 -0.995141 -1.19736 -1.592798 \" transform=\"matrix(0,1,1,0,90.85061,171.41611)\"/>\n",
       "<path style=\"fill:none;stroke-width:0.3985;stroke-linecap:butt;stroke-linejoin:miter;stroke:rgb(0%,0%,0%);stroke-opacity:1;stroke-miterlimit:10;\" d=\"M 85.0385 -65.52525 L 85.0385 -75.751812 \" transform=\"matrix(1,0,0,-1,105.024,8.631)\"/>\n",
       "<path style=\"fill:none;stroke-width:0.31879;stroke-linecap:round;stroke-linejoin:round;stroke:rgb(0%,0%,0%);stroke-opacity:1;stroke-miterlimit:10;\" d=\"M -1.19565 1.595756 C -1.094088 0.9981 -0.0003375 0.0996625 0.300444 -0.0019 C -0.0003375 -0.0995563 -1.094088 -0.997994 -1.19565 -1.59565 \" transform=\"matrix(0,1,1,0,190.0644,84.38315)\"/>\n",
       "<path style=\"fill:none;stroke-width:0.3985;stroke-linecap:butt;stroke-linejoin:miter;stroke:rgb(0%,0%,0%);stroke-opacity:1;stroke-miterlimit:10;\" d=\"M -56.691969 -65.52525 L -56.691969 -75.751812 \" transform=\"matrix(1,0,0,-1,105.024,8.631)\"/>\n",
       "<path style=\"fill:none;stroke-width:0.31879;stroke-linecap:round;stroke-linejoin:round;stroke:rgb(0%,0%,0%);stroke-opacity:1;stroke-miterlimit:10;\" d=\"M -1.19565 1.595401 C -1.094088 0.997745 -0.0003375 0.0993075 0.300444 0.00165125 C -0.0003375 -0.0999112 -1.094088 -0.994442 -1.19565 -1.592099 \" transform=\"matrix(0,1,1,0,48.33038,84.38315)\"/>\n",
       "<path style=\"fill:none;stroke-width:0.3985;stroke-linecap:butt;stroke-linejoin:miter;stroke:rgb(0%,0%,0%);stroke-opacity:1;stroke-miterlimit:10;\" d=\"M -64.363844 -90.154156 L -92.820875 -109.126812 \" transform=\"matrix(1,0,0,-1,105.024,8.631)\"/>\n",
       "<path style=\"fill:none;stroke-width:0.31879;stroke-linecap:round;stroke-linejoin:round;stroke:rgb(0%,0%,0%);stroke-opacity:1;stroke-miterlimit:10;\" d=\"M -1.195549 1.596104 C -1.098034 0.995876 -0.000497309 0.0998769 0.298534 -0.000880913 C -0.000495668 -0.0973099 -1.096934 -0.995494 -1.194439 -1.592473 \" transform=\"matrix(-0.83202,0.55467,0.55467,0.83202,12.202,117.75702)\"/>\n",
       "<path style=\"fill:none;stroke-width:0.3985;stroke-linecap:butt;stroke-linejoin:miter;stroke:rgb(0%,0%,0%);stroke-opacity:1;stroke-miterlimit:10;\" d=\"M -49.024 -86.744 L 70.866625 -113.388531 L 70.866625 -162.673687 \" transform=\"matrix(1,0,0,-1,105.024,8.631)\"/>\n",
       "<path style=\"fill:none;stroke-width:0.31879;stroke-linecap:round;stroke-linejoin:round;stroke:rgb(0%,0%,0%);stroke-opacity:1;stroke-miterlimit:10;\" d=\"M -1.197145 1.593375 C -1.095582 0.995719 -0.0018325 0.101187 0.298949 -0.000375 C -0.0018325 -0.0980313 -1.095582 -0.996469 -1.197145 -1.594125 \" transform=\"matrix(0,1,1,0,175.891,171.30652)\"/>\n",
       "<path style=\"fill:none;stroke-width:0.3985;stroke-linecap:butt;stroke-linejoin:miter;stroke:rgb(0%,0%,0%);stroke-opacity:1;stroke-miterlimit:10;\" d=\"M 92.710375 -90.154156 L 119.511156 -108.021344 \" transform=\"matrix(1,0,0,-1,105.024,8.631)\"/>\n",
       "<path style=\"fill:none;stroke-width:0.31879;stroke-linecap:round;stroke-linejoin:round;stroke:rgb(0%,0%,0%);stroke-opacity:1;stroke-miterlimit:10;\" d=\"M -1.197749 1.594491 C -1.094827 0.996429 -0.000555612 0.101495 0.297391 -0.000351604 C 0.00160961 -0.0989426 -1.095927 -0.994942 -1.195609 -1.591919 \" transform=\"matrix(0.83202,0.55467,0.55467,-0.83202,224.53401,116.65116)\"/>\n",
       "<path style=\"fill:none;stroke-width:0.3985;stroke-linecap:butt;stroke-linejoin:miter;stroke:rgb(0%,0%,0%);stroke-opacity:1;stroke-miterlimit:10;\" d=\"M 77.370531 -86.744 L -34.402906 -111.583844 \" transform=\"matrix(1,0,0,-1,105.024,8.631)\"/>\n",
       "<path style=\"fill:none;stroke-width:0.31879;stroke-linecap:round;stroke-linejoin:round;stroke:rgb(0%,0%,0%);stroke-opacity:1;stroke-miterlimit:10;\" d=\"M -1.195028 1.594511 C -1.09588 0.996217 0.00155322 0.100042 0.299852 0.00173751 C 0.00112863 -0.0999542 -1.094618 -0.996967 -1.195466 -1.594837 \" transform=\"matrix(-0.97612,0.21692,0.21692,0.97612,70.62044,120.21451)\"/>\n",
       "<path style=\"fill:none;stroke-width:0.3985;stroke-linecap:butt;stroke-linejoin:miter;stroke:rgb(0%,0%,0%);stroke-opacity:1;stroke-miterlimit:10;\" d=\"M -42.520094 -122.216656 L -42.520094 -132.447125 \" transform=\"matrix(1,0,0,-1,105.024,8.631)\"/>\n",
       "<path style=\"fill:none;stroke-width:0.31879;stroke-linecap:round;stroke-linejoin:round;stroke:rgb(0%,0%,0%);stroke-opacity:1;stroke-miterlimit:10;\" d=\"M -1.193957 1.593856 C -1.096301 0.9962 0.001355 0.0977625 0.29823 0.00010625 C 0.001355 -0.101456 -1.096301 -0.995987 -1.193957 -1.593644 \" transform=\"matrix(0,1,1,0,62.5038,141.07677)\"/>\n",
       "<path style=\"fill:none;stroke-width:0.3985;stroke-linecap:butt;stroke-linejoin:miter;stroke:rgb(0%,0%,0%);stroke-opacity:1;stroke-miterlimit:10;\" d=\"M -34.852125 -149.404156 L -20.508375 -163.747906 \" transform=\"matrix(1,0,0,-1,105.024,8.631)\"/>\n",
       "<path style=\"fill:none;stroke-width:0.31879;stroke-linecap:round;stroke-linejoin:round;stroke:rgb(0%,0%,0%);stroke-opacity:1;stroke-miterlimit:10;\" d=\"M -1.195139 1.592317 C -1.095701 0.99569 0.000877705 0.0979874 0.299191 -0.00145047 C 0.000877705 -0.100888 -1.095701 -0.998591 -1.195139 -1.595218 \" transform=\"matrix(0.7071,0.7071,0.7071,-0.7071,84.51603,172.37726)\"/>\n",
       "<path style=\"fill:none;stroke-width:0.3985;stroke-linecap:butt;stroke-linejoin:miter;stroke:rgb(0%,0%,0%);stroke-opacity:1;stroke-miterlimit:10;\" d=\"M -34.852125 -143.126812 L 105.268969 -168.603375 \" transform=\"matrix(1,0,0,-1,105.024,8.631)\"/>\n",
       "<path style=\"fill:none;stroke-width:0.31879;stroke-linecap:round;stroke-linejoin:round;stroke:rgb(0%,0%,0%);stroke-opacity:1;stroke-miterlimit:10;\" d=\"M -1.197057 1.593974 C -1.09644 0.996846 -0.000385622 0.100264 0.299748 -0.0000198974 C -0.0000397715 -0.0981962 -1.095428 -0.996137 -1.197114 -1.59431 \" transform=\"matrix(0.98383,0.17886,0.17886,-0.98383,210.29104,177.23543)\"/>\n",
       "<path style=\"fill:none;stroke-width:0.3985;stroke-linecap:butt;stroke-linejoin:miter;stroke:rgb(0%,0%,0%);stroke-opacity:1;stroke-miterlimit:10;\" d=\"M 56.69475 -65.52525 L 56.69475 -75.751812 \" transform=\"matrix(1,0,0,-1,105.024,8.631)\"/>\n",
       "<path style=\"fill:none;stroke-width:0.31879;stroke-linecap:round;stroke-linejoin:round;stroke:rgb(0%,0%,0%);stroke-opacity:1;stroke-miterlimit:10;\" d=\"M -1.19565 1.59488 C -1.094088 0.997224 -0.0003375 0.0987862 0.300444 0.00113 C -0.0003375 -0.100433 -1.094088 -0.994964 -1.19565 -1.59262 \" transform=\"matrix(0,1,1,0,161.71762,84.38315)\"/>\n",
       "<path style=\"fill:none;stroke-width:0.3985;stroke-linecap:butt;stroke-linejoin:miter;stroke:rgb(0%,0%,0%);stroke-opacity:1;stroke-miterlimit:10;\" d=\"M -20.676344 -57.716656 L 176.13225 -83.958844 \" transform=\"matrix(1,0,0,-1,105.024,8.631)\"/>\n",
       "<path style=\"fill:none;stroke-width:0.31879;stroke-linecap:round;stroke-linejoin:round;stroke:rgb(0%,0%,0%);stroke-opacity:1;stroke-miterlimit:10;\" d=\"M -1.196004 1.592725 C -1.096628 0.995117 -0.0000422959 0.100883 0.297339 -0.00134771 C -0.000820187 -0.100212 -1.095372 -0.994925 -1.196575 -1.595628 \" transform=\"matrix(0.99118,0.13214,0.13214,-0.99118,281.15468,92.58828)\"/>\n",
       "<path style=\"fill:none;stroke-width:0.3985;stroke-linecap:butt;stroke-linejoin:miter;stroke:rgb(0%,0%,0%);stroke-opacity:1;stroke-miterlimit:10;\" d=\"M -28.348219 -65.52525 L -28.348219 -75.751812 \" transform=\"matrix(1,0,0,-1,105.024,8.631)\"/>\n",
       "<path style=\"fill:none;stroke-width:0.31879;stroke-linecap:round;stroke-linejoin:round;stroke:rgb(0%,0%,0%);stroke-opacity:1;stroke-miterlimit:10;\" d=\"M -1.19565 1.592331 C -1.094088 0.994675 -0.0003375 0.100144 0.300444 -0.00141875 C -0.0003375 -0.099075 -1.094088 -0.997512 -1.19565 -1.595169 \" transform=\"matrix(0,1,1,0,76.6772,84.38315)\"/>\n",
       "<path style=\"fill:none;stroke-width:0.3985;stroke-linecap:butt;stroke-linejoin:miter;stroke:rgb(0%,0%,0%);stroke-opacity:1;stroke-miterlimit:10;\" d=\"M 184.253344 -93.869 L 184.253344 -141.732281 L 179.026781 -162.638531 \" transform=\"matrix(1,0,0,-1,105.024,8.631)\"/>\n",
       "<path style=\"fill:none;stroke-width:0.31879;stroke-linecap:round;stroke-linejoin:round;stroke:rgb(0%,0%,0%);stroke-opacity:1;stroke-miterlimit:10;\" d=\"M -1.196178 1.59232 C -1.095766 0.997343 -0.00152619 0.0991686 0.296907 0.00063037 C -0.000583555 -0.0978934 -1.096762 -0.996014 -1.197202 -1.592882 \" transform=\"matrix(-0.24251,0.97014,0.97014,0.24251,284.05186,171.2704)\"/>\n",
       "<path style=\"fill:none;stroke-width:0.3985;stroke-linecap:butt;stroke-linejoin:miter;stroke:rgb(0%,0%,0%);stroke-opacity:1;stroke-miterlimit:10;\" d=\"M 191.925219 -92.708844 L 204.608812 -105.392437 \" transform=\"matrix(1,0,0,-1,105.024,8.631)\"/>\n",
       "<path style=\"fill:none;stroke-width:0.31879;stroke-linecap:round;stroke-linejoin:round;stroke:rgb(0%,0%,0%);stroke-opacity:1;stroke-miterlimit:10;\" d=\"M -1.196236 1.59556 C -1.094035 0.996171 -0.000219205 0.10123 0.298094 0.00179253 C -0.000219205 -0.0976453 -1.096798 -0.995348 -1.196236 -1.591975 \" transform=\"matrix(0.7071,0.7071,0.7071,-0.7071,309.6317,114.02486)\"/>\n",
       "<path style=\"fill:none;stroke-width:0.3985;stroke-linecap:butt;stroke-linejoin:miter;stroke:rgb(0%,0%,0%);stroke-opacity:1;stroke-miterlimit:10;\" d=\"M -36.016188 -88.107281 L -92.777906 -110.814312 \" transform=\"matrix(1,0,0,-1,105.024,8.631)\"/>\n",
       "<path style=\"fill:none;stroke-width:0.31879;stroke-linecap:round;stroke-linejoin:round;stroke:rgb(0%,0%,0%);stroke-opacity:1;stroke-miterlimit:10;\" d=\"M -1.196289 1.595057 C -1.095455 0.995149 0.00135927 0.0978323 0.298775 -0.0000953654 C -0.00154125 -0.0987518 -1.096169 -0.99463 -1.196997 -1.593813 \" transform=\"matrix(-0.92844,0.37137,0.37137,0.92844,12.24618,119.44382)\"/>\n",
       "<path style=\"fill:none;stroke-width:0.3985;stroke-linecap:butt;stroke-linejoin:miter;stroke:rgb(0%,0%,0%);stroke-opacity:1;stroke-miterlimit:10;\" d=\"M -20.676344 -90.154156 L 6.124437 -108.021344 \" transform=\"matrix(1,0,0,-1,105.024,8.631)\"/>\n",
       "<path style=\"fill:none;stroke-width:0.31879;stroke-linecap:round;stroke-linejoin:round;stroke:rgb(0%,0%,0%);stroke-opacity:1;stroke-miterlimit:10;\" d=\"M -1.197332 1.594769 C -1.09441 0.996707 -0.000138527 0.101773 0.297808 -0.000073552 C -0.00122366 -0.100831 -1.09551 -0.994664 -1.195192 -1.591641 \" transform=\"matrix(0.83202,0.55467,0.55467,-0.83202,111.14679,116.65116)\"/>\n",
       "<path style=\"fill:none;stroke-width:0.3985;stroke-linecap:butt;stroke-linejoin:miter;stroke:rgb(0%,0%,0%);stroke-opacity:1;stroke-miterlimit:10;\" d=\"M 153.698656 -150.564312 L 150.667406 -162.689312 \" transform=\"matrix(1,0,0,-1,105.024,8.631)\"/>\n",
       "<path style=\"fill:none;stroke-width:0.31879;stroke-linecap:round;stroke-linejoin:round;stroke:rgb(0%,0%,0%);stroke-opacity:1;stroke-miterlimit:10;\" d=\"M -1.195205 1.592435 C -1.094794 0.997457 -0.00055361 0.0992828 0.297879 0.000744642 C 0.000389024 -0.0977791 -1.09579 -0.9959 -1.19623 -1.592768 \" transform=\"matrix(-0.24251,0.97014,0.97014,0.24251,255.69261,171.32021)\"/>\n",
       "<path style=\"fill:none;stroke-width:0.3985;stroke-linecap:butt;stroke-linejoin:miter;stroke:rgb(0%,0%,0%);stroke-opacity:1;stroke-miterlimit:10;\" d=\"M 162.530687 -150.564312 L 171.643969 -162.716656 \" transform=\"matrix(1,0,0,-1,105.024,8.631)\"/>\n",
       "<path style=\"fill:none;stroke-width:0.31879;stroke-linecap:round;stroke-linejoin:round;stroke:rgb(0%,0%,0%);stroke-opacity:1;stroke-miterlimit:10;\" d=\"M -1.194236 1.592628 C -1.094999 0.995736 0.00115343 0.100424 0.297259 0.000428242 C -0.00118524 -0.0980202 -1.094947 -0.996515 -1.196497 -1.594193 \" transform=\"matrix(0.59996,0.79999,0.79999,-0.59996,276.66897,171.34839)\"/>\n",
       "<path style=\"fill:none;stroke-width:0.3985;stroke-linecap:butt;stroke-linejoin:miter;stroke:rgb(0%,0%,0%);stroke-opacity:1;stroke-miterlimit:10;\" d=\"M 21.843187 -145.568219 L 62.7885 -166.040875 \" transform=\"matrix(1,0,0,-1,105.024,8.631)\"/>\n",
       "<path style=\"fill:none;stroke-width:0.31879;stroke-linecap:round;stroke-linejoin:round;stroke:rgb(0%,0%,0%);stroke-opacity:1;stroke-miterlimit:10;\" d=\"M -1.194544 1.595709 C -1.094966 0.994717 -0.0013101 0.100209 0.297437 0.000623488 C -0.0013119 -0.100704 -1.094984 -0.996939 -1.194572 -1.592688 \" transform=\"matrix(0.89436,0.44717,0.44717,-0.89436,167.81183,174.67224)\"/>\n",
       "<path style=\"fill:none;stroke-width:0.3985;stroke-linecap:butt;stroke-linejoin:miter;stroke:rgb(0%,0%,0%);stroke-opacity:1;stroke-miterlimit:10;\" d=\"M 212.601 -122.216656 L 212.601 -132.447125 \" transform=\"matrix(1,0,0,-1,105.024,8.631)\"/>\n",
       "<path style=\"fill:none;stroke-width:0.31879;stroke-linecap:round;stroke-linejoin:round;stroke:rgb(0%,0%,0%);stroke-opacity:1;stroke-miterlimit:10;\" d=\"M -1.193957 1.59371 C -1.096301 0.996054 0.001355 0.101522 0.29823 -0.00004 C 0.001355 -0.0976963 -1.096301 -0.996134 -1.193957 -1.59379 \" transform=\"matrix(0,1,1,0,317.62504,141.07677)\"/>\n",
       "<path style=\"fill:none;stroke-width:0.3985;stroke-linecap:butt;stroke-linejoin:miter;stroke:rgb(0%,0%,0%);stroke-opacity:1;stroke-miterlimit:10;\" d=\"M 49.022875 -86.744 L -64.410719 -111.951031 \" transform=\"matrix(1,0,0,-1,105.024,8.631)\"/>\n",
       "<path style=\"fill:none;stroke-width:0.31879;stroke-linecap:round;stroke-linejoin:round;stroke:rgb(0%,0%,0%);stroke-opacity:1;stroke-miterlimit:10;\" d=\"M -1.196997 1.593461 C -1.097849 0.995166 -0.000415427 0.0989915 0.297884 0.000686966 C -0.000840016 -0.101005 -1.096586 -0.998017 -1.196587 -1.592074 \" transform=\"matrix(-0.97612,0.21692,0.21692,0.97612,40.61484,120.58315)\"/>\n",
       "<path style=\"fill:none;stroke-width:0.3985;stroke-linecap:butt;stroke-linejoin:miter;stroke:rgb(0%,0%,0%);stroke-opacity:1;stroke-miterlimit:10;\" d=\"M 64.362719 -87.232281 L 147.796312 -111.068219 \" transform=\"matrix(1,0,0,-1,105.024,8.631)\"/>\n",
       "<path style=\"fill:none;stroke-width:0.31879;stroke-linecap:round;stroke-linejoin:round;stroke:rgb(0%,0%,0%);stroke-opacity:1;stroke-miterlimit:10;\" d=\"M -1.196023 1.594093 C -1.094623 0.997412 -0.00109094 0.0991488 0.298856 0.00202053 C -0.00109559 -0.099923 -1.097353 -0.998135 -1.195025 -1.594812 \" transform=\"matrix(0.9615,0.27469,0.27469,-0.9615,252.82147,119.7011)\"/>\n",
       "<path style=\"fill:none;stroke-width:0.3985;stroke-linecap:butt;stroke-linejoin:miter;stroke:rgb(0%,0%,0%);stroke-opacity:1;stroke-miterlimit:10;\" d=\"M 148.237719 -121.0565 L 135.554125 -133.740094 \" transform=\"matrix(1,0,0,-1,105.024,8.631)\"/>\n",
       "<path style=\"fill:none;stroke-width:0.31879;stroke-linecap:round;stroke-linejoin:round;stroke:rgb(0%,0%,0%);stroke-opacity:1;stroke-miterlimit:10;\" d=\"M -1.196526 1.593449 C -1.097088 0.996822 -0.000510006 0.0991188 0.297804 -0.000319085 C -0.000510006 -0.0997569 -1.097088 -0.99746 -1.196526 -1.594087 \" transform=\"matrix(-0.7071,0.7071,0.7071,0.7071,240.57799,142.37168)\"/>\n",
       "<path style=\"fill:none;stroke-width:0.3985;stroke-linecap:butt;stroke-linejoin:miter;stroke:rgb(0%,0%,0%);stroke-opacity:1;stroke-miterlimit:10;\" d=\"M 131.976 -65.52525 L 137.112719 -75.798687 \" transform=\"matrix(1,0,0,-1,105.024,8.631)\"/>\n",
       "<path style=\"fill:none;stroke-width:0.31879;stroke-linecap:round;stroke-linejoin:round;stroke:rgb(0%,0%,0%);stroke-opacity:1;stroke-miterlimit:10;\" d=\"M -1.197292 1.592912 C -1.09421 0.995416 -0.000537586 0.0991803 0.299959 0.00134723 C 0.00121125 -0.0982383 -1.094192 -0.996241 -1.195516 -1.591991 \" transform=\"matrix(0.44717,0.89436,0.89436,-0.44717,242.1381,84.43155)\"/>\n",
       "<path style=\"fill:none;stroke-width:0.3985;stroke-linecap:butt;stroke-linejoin:miter;stroke:rgb(0%,0%,0%);stroke-opacity:1;stroke-miterlimit:10;\" d=\"M 7.667406 -58.611187 L 105.272875 -83.013531 \" transform=\"matrix(1,0,0,-1,105.024,8.631)\"/>\n",
       "<path style=\"fill:none;stroke-width:0.31879;stroke-linecap:round;stroke-linejoin:round;stroke:rgb(0%,0%,0%);stroke-opacity:1;stroke-miterlimit:10;\" d=\"M -1.196595 1.595735 C -1.095236 0.996968 -0.000995647 0.0987935 0.297437 0.000255333 C -0.0000530131 -0.0982684 -1.096232 -0.996389 -1.196672 -1.593257 \" transform=\"matrix(0.97014,0.24251,0.24251,-0.97014,210.29732,91.64296)\"/>\n",
       "<path style=\"fill:none;stroke-width:0.3985;stroke-linecap:butt;stroke-linejoin:miter;stroke:rgb(0%,0%,0%);stroke-opacity:1;stroke-miterlimit:10;\" d=\"M -0.0005625 -65.52525 L -0.0005625 -75.751812 \" transform=\"matrix(1,0,0,-1,105.024,8.631)\"/>\n",
       "<path style=\"fill:none;stroke-width:0.31879;stroke-linecap:round;stroke-linejoin:round;stroke:rgb(0%,0%,0%);stroke-opacity:1;stroke-miterlimit:10;\" d=\"M -1.19565 1.593187 C -1.094088 0.995531 -0.0003375 0.101 0.300444 -0.0005625 C -0.0003375 -0.0982188 -1.094088 -0.996656 -1.19565 -1.594313 \" transform=\"matrix(0,1,1,0,105.024,84.38315)\"/>\n",
       "<path style=\"fill:none;stroke-width:0.3985;stroke-linecap:butt;stroke-linejoin:miter;stroke:rgb(0%,0%,0%);stroke-opacity:1;stroke-miterlimit:10;\" d=\"M 121.058031 -87.232281 L 204.491625 -111.068219 \" transform=\"matrix(1,0,0,-1,105.024,8.631)\"/>\n",
       "<path style=\"fill:none;stroke-width:0.31879;stroke-linecap:round;stroke-linejoin:round;stroke:rgb(0%,0%,0%);stroke-opacity:1;stroke-miterlimit:10;\" d=\"M -1.194396 1.594558 C -1.096752 0.996804 0.000536504 0.0996138 0.296727 0.00141239 C 0.000531855 -0.099458 -1.095725 -0.99767 -1.193397 -1.594347 \" transform=\"matrix(0.9615,0.27469,0.27469,-0.9615,309.51509,119.7011)\"/>\n",
       "<path style=\"fill:none;stroke-width:0.3985;stroke-linecap:butt;stroke-linejoin:miter;stroke:rgb(0%,0%,0%);stroke-opacity:1;stroke-miterlimit:10;\" d=\"M 105.718187 -88.107281 L 50.616625 -110.15025 \" transform=\"matrix(1,0,0,-1,105.024,8.631)\"/>\n",
       "<path style=\"fill:none;stroke-width:0.31879;stroke-linecap:round;stroke-linejoin:round;stroke:rgb(0%,0%,0%);stroke-opacity:1;stroke-miterlimit:10;\" d=\"M -1.194462 1.593742 C -1.097254 0.995285 -0.00044043 0.0979679 0.296975 0.0000401879 C 0.000286076 -0.100067 -1.094342 -0.995945 -1.195169 -1.595129 \" transform=\"matrix(-0.92844,0.37137,0.37137,0.92844,155.63899,118.7803)\"/>\n",
       "<path style=\"fill:none;stroke-width:0.3985;stroke-linecap:butt;stroke-linejoin:miter;stroke:rgb(0%,0%,0%);stroke-opacity:1;stroke-miterlimit:10;\" d=\"M -7.668531 -87.232281 L -92.762281 -111.544781 \" transform=\"matrix(1,0,0,-1,105.024,8.631)\"/>\n",
       "<path style=\"fill:none;stroke-width:0.31879;stroke-linecap:round;stroke-linejoin:round;stroke:rgb(0%,0%,0%);stroke-opacity:1;stroke-miterlimit:10;\" d=\"M -1.194628 1.593363 C -1.096957 0.996687 -0.000699426 0.0984746 0.300325 0.000287238 C -0.000694778 -0.100597 -1.09691 -0.994031 -1.195627 -1.595542 \" transform=\"matrix(-0.9615,0.27469,0.27469,0.9615,12.26134,120.17504)\"/>\n",
       "<path style=\"fill:none;stroke-width:0.3985;stroke-linecap:butt;stroke-linejoin:miter;stroke:rgb(0%,0%,0%);stroke-opacity:1;stroke-miterlimit:10;\" d=\"M 7.667406 -87.232281 L 99.214281 -113.388531 L 99.214281 -141.732281 L 78.136156 -162.810406 \" transform=\"matrix(1,0,0,-1,105.024,8.631)\"/>\n",
       "<path style=\"fill:none;stroke-width:0.31879;stroke-linecap:round;stroke-linejoin:round;stroke:rgb(0%,0%,0%);stroke-opacity:1;stroke-miterlimit:10;\" d=\"M -1.194212 1.592874 C -1.094769 0.996244 -0.000938532 0.101304 0.30014 -0.00089415 C 0.00182508 -0.100335 -1.097517 -0.99529 -1.194189 -1.594684 \" transform=\"matrix(-0.7071,0.70709,0.70709,0.7071,183.16208,171.44075)\"/>\n",
       "<path style=\"fill:none;stroke-width:0.3985;stroke-linecap:butt;stroke-linejoin:miter;stroke:rgb(0%,0%,0%);stroke-opacity:1;stroke-miterlimit:10;\" d=\"M 42.518969 -122.216656 L 42.518969 -132.447125 \" transform=\"matrix(1,0,0,-1,105.024,8.631)\"/>\n",
       "<path style=\"fill:none;stroke-width:0.31879;stroke-linecap:round;stroke-linejoin:round;stroke:rgb(0%,0%,0%);stroke-opacity:1;stroke-miterlimit:10;\" d=\"M -1.193957 1.592519 C -1.096301 0.994863 0.001355 0.100331 0.29823 -0.00123125 C 0.001355 -0.0988875 -1.096301 -0.997325 -1.193957 -1.594981 \" transform=\"matrix(0,1,1,0,147.5442,141.07677)\"/>\n",
       "<path style=\"fill:none;stroke-width:0.3985;stroke-linecap:butt;stroke-linejoin:miter;stroke:rgb(0%,0%,0%);stroke-opacity:1;stroke-miterlimit:10;\" d=\"M 50.190844 -149.404156 L 63.597094 -162.810406 \" transform=\"matrix(1,0,0,-1,105.024,8.631)\"/>\n",
       "<path style=\"fill:none;stroke-width:0.31879;stroke-linecap:round;stroke-linejoin:round;stroke:rgb(0%,0%,0%);stroke-opacity:1;stroke-miterlimit:10;\" d=\"M -1.194743 1.594112 C -1.095306 0.997485 0.0012728 0.0997826 0.299586 0.000344718 C 0.0012728 -0.0990931 -1.095306 -0.996796 -1.194743 -1.593423 \" transform=\"matrix(0.7071,0.7071,0.7071,-0.7071,168.61995,171.44075)\"/>\n",
       "<path style=\"fill:none;stroke-width:0.3985;stroke-linecap:butt;stroke-linejoin:miter;stroke:rgb(0%,0%,0%);stroke-opacity:1;stroke-miterlimit:10;\" d=\"M 50.190844 -143.349469 L 169.050219 -168.372906 \" transform=\"matrix(1,0,0,-1,105.024,8.631)\"/>\n",
       "<path style=\"fill:none;stroke-width:0.31879;stroke-linecap:round;stroke-linejoin:round;stroke:rgb(0%,0%,0%);stroke-opacity:1;stroke-miterlimit:10;\" d=\"M -1.197609 1.595044 C -1.095807 0.997723 -0.00034543 0.0986263 0.299422 0.00205813 C 0.00166715 -0.100548 -1.095598 -0.99422 -1.196793 -1.594358 \" transform=\"matrix(0.97853,0.20601,0.20601,-0.97853,274.07377,177.00283)\"/>\n",
       "<path style=\"fill:none;stroke-width:0.3985;stroke-linecap:butt;stroke-linejoin:miter;stroke:rgb(0%,0%,0%);stroke-opacity:1;stroke-miterlimit:10;\" d=\"M 210.393969 -150.564312 L 207.347094 -162.744 \" transform=\"matrix(1,0,0,-1,105.024,8.631)\"/>\n",
       "<path style=\"fill:none;stroke-width:0.31879;stroke-linecap:round;stroke-linejoin:round;stroke:rgb(0%,0%,0%);stroke-opacity:1;stroke-miterlimit:10;\" d=\"M -1.195282 1.592196 C -1.094871 0.997219 -0.000630621 0.0990445 0.297802 0.000506351 C 0.000312012 -0.0980174 -1.095867 -0.996138 -1.196307 -1.593006 \" transform=\"matrix(-0.24251,0.97014,0.97014,0.24251,312.37251,171.37503)\"/>\n",
       "<path style=\"fill:none;stroke-width:0.3985;stroke-linecap:butt;stroke-linejoin:miter;stroke:rgb(0%,0%,0%);stroke-opacity:1;stroke-miterlimit:10;\" d=\"M 219.222094 -150.564312 L 228.374437 -162.767437 \" transform=\"matrix(1,0,0,-1,105.024,8.631)\"/>\n",
       "<path style=\"fill:none;stroke-width:0.31879;stroke-linecap:round;stroke-linejoin:round;stroke:rgb(0%,0%,0%);stroke-opacity:1;stroke-miterlimit:10;\" d=\"M -1.196813 1.594044 C -1.097597 0.99715 0.00164529 0.0994557 0.297747 -0.000550244 C -0.000700511 -0.0989877 -1.094492 -0.997441 -1.196064 -1.595114 \" transform=\"matrix(0.59999,0.79997,0.79997,-0.59999,333.39992,171.3982)\"/>\n",
       "<path style=\"fill:none;stroke-width:0.3985;stroke-linecap:butt;stroke-linejoin:miter;stroke:rgb(0%,0%,0%);stroke-opacity:1;stroke-miterlimit:10;\" d=\"M 137.31975 -93.869 L 131.183031 -106.138531 \" transform=\"matrix(1,0,0,-1,105.024,8.631)\"/>\n",
       "<path style=\"fill:none;stroke-width:0.31879;stroke-linecap:round;stroke-linejoin:round;stroke:rgb(0%,0%,0%);stroke-opacity:1;stroke-miterlimit:10;\" d=\"M -1.195663 1.593345 C -1.097833 0.995847 0.00106423 0.0995918 0.299812 0.00000626317 C -0.000684607 -0.0978268 -1.097851 -0.99581 -1.195692 -1.595053 \" transform=\"matrix(-0.44717,0.89436,0.89436,0.44717,236.20828,114.77092)\"/>\n",
       "<path style=\"fill:none;stroke-width:0.3985;stroke-linecap:butt;stroke-linejoin:miter;stroke:rgb(0%,0%,0%);stroke-opacity:1;stroke-miterlimit:10;\" d=\"M 146.147875 -93.869 L 151.2885 -104.146344 \" transform=\"matrix(1,0,0,-1,105.024,8.631)\"/>\n",
       "<path style=\"fill:none;stroke-width:0.31879;stroke-linecap:round;stroke-linejoin:round;stroke:rgb(0%,0%,0%);stroke-opacity:1;stroke-miterlimit:10;\" d=\"M -1.195474 1.594677 C -1.097633 0.995434 0.00127991 0.100945 0.300029 -0.000381951 C 0.0012817 -0.0999675 -1.097616 -0.996223 -1.195446 -1.593721 \" transform=\"matrix(0.44717,0.89436,0.89436,-0.44717,256.31149,112.77837)\"/>\n",
       "<path style=\"fill:none;stroke-width:0.3985;stroke-linecap:butt;stroke-linejoin:miter;stroke:rgb(0%,0%,0%);stroke-opacity:1;stroke-miterlimit:10;\" d=\"M 123.143969 -150.564312 L 117.065844 -162.724469 \" transform=\"matrix(1,0,0,-1,105.024,8.631)\"/>\n",
       "<path style=\"fill:none;stroke-width:0.31879;stroke-linecap:round;stroke-linejoin:round;stroke:rgb(0%,0%,0%);stroke-opacity:1;stroke-miterlimit:10;\" d=\"M -1.194567 1.595484 C -1.096736 0.997986 -0.00133303 0.0999837 0.297415 0.000398187 C -0.00133482 -0.100929 -1.095007 -0.997165 -1.194595 -1.592914 \" transform=\"matrix(-0.44717,0.89436,0.89436,0.44717,222.08967,171.35492)\"/>\n",
       "<path style=\"fill:none;stroke-width:0.3985;stroke-linecap:butt;stroke-linejoin:miter;stroke:rgb(0%,0%,0%);stroke-opacity:1;stroke-miterlimit:10;\" d=\"M 135.229906 -143.349469 L 254.089281 -168.372906 \" transform=\"matrix(1,0,0,-1,105.024,8.631)\"/>\n",
       "<path style=\"fill:none;stroke-width:0.31879;stroke-linecap:round;stroke-linejoin:round;stroke:rgb(0%,0%,0%);stroke-opacity:1;stroke-miterlimit:10;\" d=\"M -1.195125 1.595567 C -1.097145 0.997441 -0.00168362 0.0983446 0.298084 0.0017764 C 0.000328957 -0.10083 -1.096936 -0.994502 -1.194308 -1.593835 \" transform=\"matrix(0.97853,0.20601,0.20601,-0.97853,359.1142,177.00283)\"/>\n",
       "<g style=\"fill:rgb(0%,0%,0%);fill-opacity:1;\">\n",
       "  <use xlink:href=\"#glyph-1637520714047950-0-1\" x=\"100.874\" y=\"11.102\"/>\n",
       "</g>\n",
       "<g style=\"fill:rgb(0%,0%,0%);fill-opacity:1;\">\n",
       "  <use xlink:href=\"#glyph-1637520714047950-0-2\" x=\"143.394\" y=\"39.488\"/>\n",
       "</g>\n",
       "<g style=\"fill:rgb(0%,0%,0%);fill-opacity:1;\">\n",
       "  <use xlink:href=\"#glyph-1637520714047950-0-2\" x=\"115.047\" y=\"39.488\"/>\n",
       "</g>\n",
       "<g style=\"fill:rgb(0%,0%,0%);fill-opacity:1;\">\n",
       "  <use xlink:href=\"#glyph-1637520714047950-0-2\" x=\"86.701\" y=\"39.488\"/>\n",
       "</g>\n",
       "<g style=\"fill:rgb(0%,0%,0%);fill-opacity:1;\">\n",
       "  <use xlink:href=\"#glyph-1637520714047950-0-2\" x=\"58.355\" y=\"39.488\"/>\n",
       "</g>\n",
       "<g style=\"fill:rgb(0%,0%,0%);fill-opacity:1;\">\n",
       "  <use xlink:href=\"#glyph-1637520714047950-0-1\" x=\"129.221\" y=\"67.794\"/>\n",
       "</g>\n",
       "<g style=\"fill:rgb(0%,0%,0%);fill-opacity:1;\">\n",
       "  <use xlink:href=\"#glyph-1637520714047950-0-1\" x=\"15.835\" y=\"67.794\"/>\n",
       "</g>\n",
       "<g style=\"fill:rgb(0%,0%,0%);fill-opacity:1;\">\n",
       "  <use xlink:href=\"#glyph-1637520714047950-0-2\" x=\"15.835\" y=\"96.181\"/>\n",
       "</g>\n",
       "<g style=\"fill:rgb(0%,0%,0%);fill-opacity:1;\">\n",
       "  <use xlink:href=\"#glyph-1637520714047950-0-3\" x=\"3.321\" y=\"125.389\"/>\n",
       "</g>\n",
       "<g style=\"fill:rgb(0%,0%,0%);fill-opacity:1;\">\n",
       "  <use xlink:href=\"#glyph-1637520714047950-0-1\" x=\"115.047\" y=\"124.487\"/>\n",
       "</g>\n",
       "<g style=\"fill:rgb(0%,0%,0%);fill-opacity:1;\">\n",
       "  <use xlink:href=\"#glyph-1637520714047950-0-2\" x=\"129.221\" y=\"96.181\"/>\n",
       "</g>\n",
       "<g style=\"fill:rgb(0%,0%,0%);fill-opacity:1;\">\n",
       "  <use xlink:href=\"#glyph-1637520714047950-0-4\" x=\"31.667\" y=\"125.334\"/>\n",
       "</g>\n",
       "<g style=\"fill:rgb(0%,0%,0%);fill-opacity:1;\">\n",
       "  <use xlink:href=\"#glyph-1637520714047950-0-5\" x=\"88.36\" y=\"182.027\"/>\n",
       "</g>\n",
       "<g style=\"fill:rgb(0%,0%,0%);fill-opacity:1;\">\n",
       "  <use xlink:href=\"#glyph-1637520714047950-0-1\" x=\"185.914\" y=\"67.794\"/>\n",
       "</g>\n",
       "<g style=\"fill:rgb(0%,0%,0%);fill-opacity:1;\">\n",
       "  <use xlink:href=\"#glyph-1637520714047950-0-1\" x=\"44.181\" y=\"67.794\"/>\n",
       "</g>\n",
       "<g style=\"fill:rgb(0%,0%,0%);fill-opacity:1;\">\n",
       "  <use xlink:href=\"#glyph-1637520714047950-0-2\" x=\"44.181\" y=\"96.181\"/>\n",
       "</g>\n",
       "<g style=\"fill:rgb(0%,0%,0%);fill-opacity:1;\">\n",
       "  <use xlink:href=\"#glyph-1637520714047950-0-6\" x=\"171.74\" y=\"181.917\"/>\n",
       "  <use xlink:href=\"#glyph-1637520714047950-0-7\" x=\"175.057559\" y=\"181.917\"/>\n",
       "</g>\n",
       "<g style=\"fill:rgb(0%,0%,0%);fill-opacity:1;\">\n",
       "  <use xlink:href=\"#glyph-1637520714047950-0-2\" x=\"185.914\" y=\"96.181\"/>\n",
       "</g>\n",
       "<g style=\"fill:rgb(0%,0%,0%);fill-opacity:1;\">\n",
       "  <use xlink:href=\"#glyph-1637520714047950-0-6\" x=\"228.433\" y=\"125.334\"/>\n",
       "  <use xlink:href=\"#glyph-1637520714047950-0-4\" x=\"231.750559\" y=\"125.334\"/>\n",
       "</g>\n",
       "<g style=\"fill:rgb(0%,0%,0%);fill-opacity:1;\">\n",
       "  <use xlink:href=\"#glyph-1637520714047950-0-1\" x=\"58.355\" y=\"124.487\"/>\n",
       "</g>\n",
       "<g style=\"fill:rgb(0%,0%,0%);fill-opacity:1;\">\n",
       "  <use xlink:href=\"#glyph-1637520714047950-0-2\" x=\"58.355\" y=\"152.874\"/>\n",
       "</g>\n",
       "<g style=\"fill:rgb(0%,0%,0%);fill-opacity:1;\">\n",
       "  <use xlink:href=\"#glyph-1637520714047950-0-6\" x=\"214.26\" y=\"181.917\"/>\n",
       "  <use xlink:href=\"#glyph-1637520714047950-0-8\" x=\"217.577559\" y=\"181.917\"/>\n",
       "</g>\n",
       "<g style=\"fill:rgb(0%,0%,0%);fill-opacity:1;\">\n",
       "  <use xlink:href=\"#glyph-1637520714047950-0-1\" x=\"157.567\" y=\"67.794\"/>\n",
       "</g>\n",
       "<g style=\"fill:rgb(0%,0%,0%);fill-opacity:1;\">\n",
       "  <use xlink:href=\"#glyph-1637520714047950-0-1\" x=\"72.528\" y=\"67.794\"/>\n",
       "</g>\n",
       "<g style=\"fill:rgb(0%,0%,0%);fill-opacity:1;\">\n",
       "  <use xlink:href=\"#glyph-1637520714047950-0-2\" x=\"285.126\" y=\"96.181\"/>\n",
       "</g>\n",
       "<g style=\"fill:rgb(0%,0%,0%);fill-opacity:1;\">\n",
       "  <use xlink:href=\"#glyph-1637520714047950-0-2\" x=\"72.528\" y=\"96.181\"/>\n",
       "</g>\n",
       "<g style=\"fill:rgb(0%,0%,0%);fill-opacity:1;\">\n",
       "  <use xlink:href=\"#glyph-1637520714047950-0-2\" x=\"256.78\" y=\"152.874\"/>\n",
       "</g>\n",
       "<g style=\"fill:rgb(0%,0%,0%);fill-opacity:1;\">\n",
       "  <use xlink:href=\"#glyph-1637520714047950-0-2\" x=\"115.047\" y=\"152.874\"/>\n",
       "</g>\n",
       "<g style=\"fill:rgb(0%,0%,0%);fill-opacity:1;\">\n",
       "  <use xlink:href=\"#glyph-1637520714047950-0-7\" x=\"251.352\" y=\"181.917\"/>\n",
       "</g>\n",
       "<g style=\"fill:rgb(0%,0%,0%);fill-opacity:1;\">\n",
       "  <use xlink:href=\"#glyph-1637520714047950-0-6\" x=\"278.04\" y=\"181.967\"/>\n",
       "  <use xlink:href=\"#glyph-1637520714047950-0-9\" x=\"281.357559\" y=\"181.967\"/>\n",
       "</g>\n",
       "<g style=\"fill:rgb(0%,0%,0%);fill-opacity:1;\">\n",
       "  <use xlink:href=\"#glyph-1637520714047950-0-1\" x=\"313.473\" y=\"124.487\"/>\n",
       "</g>\n",
       "<g style=\"fill:rgb(0%,0%,0%);fill-opacity:1;\">\n",
       "  <use xlink:href=\"#glyph-1637520714047950-0-2\" x=\"157.567\" y=\"96.181\"/>\n",
       "</g>\n",
       "<g style=\"fill:rgb(0%,0%,0%);fill-opacity:1;\">\n",
       "  <use xlink:href=\"#glyph-1637520714047950-0-1\" x=\"256.78\" y=\"124.487\"/>\n",
       "</g>\n",
       "<g style=\"fill:rgb(0%,0%,0%);fill-opacity:1;\">\n",
       "  <use xlink:href=\"#glyph-1637520714047950-0-1\" x=\"228.433\" y=\"67.794\"/>\n",
       "</g>\n",
       "<g style=\"fill:rgb(0%,0%,0%);fill-opacity:1;\">\n",
       "  <use xlink:href=\"#glyph-1637520714047950-0-1\" x=\"100.874\" y=\"67.794\"/>\n",
       "</g>\n",
       "<g style=\"fill:rgb(0%,0%,0%);fill-opacity:1;\">\n",
       "  <use xlink:href=\"#glyph-1637520714047950-0-2\" x=\"214.26\" y=\"96.181\"/>\n",
       "</g>\n",
       "<g style=\"fill:rgb(0%,0%,0%);fill-opacity:1;\">\n",
       "  <use xlink:href=\"#glyph-1637520714047950-0-2\" x=\"100.874\" y=\"96.181\"/>\n",
       "</g>\n",
       "<g style=\"fill:rgb(0%,0%,0%);fill-opacity:1;\">\n",
       "  <use xlink:href=\"#glyph-1637520714047950-0-1\" x=\"143.394\" y=\"124.487\"/>\n",
       "</g>\n",
       "<g style=\"fill:rgb(0%,0%,0%);fill-opacity:1;\">\n",
       "  <use xlink:href=\"#glyph-1637520714047950-0-2\" x=\"143.394\" y=\"152.874\"/>\n",
       "</g>\n",
       "<g style=\"fill:rgb(0%,0%,0%);fill-opacity:1;\">\n",
       "  <use xlink:href=\"#glyph-1637520714047950-0-2\" x=\"313.473\" y=\"152.874\"/>\n",
       "</g>\n",
       "<g style=\"fill:rgb(0%,0%,0%);fill-opacity:1;\">\n",
       "  <use xlink:href=\"#glyph-1637520714047950-0-6\" x=\"306.386\" y=\"182.082\"/>\n",
       "  <use xlink:href=\"#glyph-1637520714047950-0-3\" x=\"309.703559\" y=\"182.082\"/>\n",
       "</g>\n",
       "<g style=\"fill:rgb(0%,0%,0%);fill-opacity:1;\">\n",
       "  <use xlink:href=\"#glyph-1637520714047950-0-6\" x=\"334.732\" y=\"181.917\"/>\n",
       "  <use xlink:href=\"#glyph-1637520714047950-0-10\" x=\"338.049559\" y=\"181.917\"/>\n",
       "</g>\n",
       "<g style=\"fill:rgb(0%,0%,0%);fill-opacity:1;\">\n",
       "  <use xlink:href=\"#glyph-1637520714047950-0-2\" x=\"242.606\" y=\"96.181\"/>\n",
       "</g>\n",
       "<g style=\"fill:rgb(0%,0%,0%);fill-opacity:1;\">\n",
       "  <use xlink:href=\"#glyph-1637520714047950-0-2\" x=\"228.433\" y=\"152.874\"/>\n",
       "</g>\n",
       "<g style=\"fill:rgb(0%,0%,0%);fill-opacity:1;\">\n",
       "  <use xlink:href=\"#glyph-1637520714047950-0-6\" x=\"363.079\" y=\"182.027\"/>\n",
       "  <use xlink:href=\"#glyph-1637520714047950-0-5\" x=\"366.396559\" y=\"182.027\"/>\n",
       "</g>\n",
       "</g>\n",
       "</svg>\n",
       "\n"
      ]
     },
     "metadata": {},
     "execution_count": 11
    }
   ],
   "cell_type": "code",
   "source": [
    "plot(circuit; simplify=true)"
   ],
   "metadata": {},
   "execution_count": 11
  },
  {
   "cell_type": "markdown",
   "source": [
    "Crucially, the circuit is still decomposable and deterministic."
   ],
   "metadata": {}
  },
  {
   "outputs": [
    {
     "output_type": "execute_result",
     "data": {
      "text/plain": "true"
     },
     "metadata": {},
     "execution_count": 12
    }
   ],
   "cell_type": "code",
   "source": [
    "isdecomposable(circuit) && isdeterministic(circuit)"
   ],
   "metadata": {},
   "execution_count": 12
  },
  {
   "cell_type": "markdown",
   "source": [
    "This means that we can still decide satisfiability, count models, and solve various inference tasks efficiently. For example, we can compute the fraction of inputs that gives the output true:"
   ],
   "metadata": {}
  },
  {
   "outputs": [
    {
     "output_type": "execute_result",
     "data": {
      "text/plain": "29//128"
     },
     "metadata": {},
     "execution_count": 13
    }
   ],
   "cell_type": "code",
   "source": [
    "sat_prob(circuit)"
   ],
   "metadata": {},
   "execution_count": 13
  },
  {
   "cell_type": "markdown",
   "source": [
    "Moreover, compiled SDD circuits allow for efficiently checking whether one circuit logically entails another circuit, and whether two circuits are logically equivalent."
   ],
   "metadata": {}
  },
  {
   "outputs": [
    {
     "output_type": "execute_result",
     "data": {
      "text/plain": "true"
     },
     "metadata": {},
     "execution_count": 14
    }
   ],
   "cell_type": "code",
   "source": [
    "entails(circuit, (rainbow ⇒ cloud))"
   ],
   "metadata": {},
   "execution_count": 14
  },
  {
   "outputs": [
    {
     "output_type": "execute_result",
     "data": {
      "text/plain": "false"
     },
     "metadata": {},
     "execution_count": 15
    }
   ],
   "cell_type": "code",
   "source": [
    "entails(circuit, (rainbow ⇒ belgium))"
   ],
   "metadata": {},
   "execution_count": 15
  },
  {
   "outputs": [
    {
     "output_type": "execute_result",
     "data": {
      "text/plain": "true"
     },
     "metadata": {},
     "execution_count": 16
    }
   ],
   "cell_type": "code",
   "source": [
    "equivalent((rainbow ⇒ belgium), (¬belgium ⇒ ¬rainbow))"
   ],
   "metadata": {},
   "execution_count": 16
  },
  {
   "cell_type": "markdown",
   "source": [
    "Logical constraints are often written in conjunctive normal form (CNF). These can be loaded from file and compiled into circuits, using an SDD manager whose decomposition structure is specified by a *vtree* file."
   ],
   "metadata": {}
  },
  {
   "outputs": [
    {
     "output_type": "execute_result",
     "data": {
      "text/plain": "\"This CNF has 262144 satisfying assignments. Its circuit has 3115 nodes and 5826 edges.\""
     },
     "metadata": {},
     "execution_count": 17
    }
   ],
   "cell_type": "code",
   "source": [
    "manager = SddMgr(zoo_vtree(\"iscas89/s208.1.scan.min.vtree\"))\n",
    "circuit = compile(manager, zoo_cnf(\"iscas89/s208.1.scan.cnf\")) # CNF has 285 clauses\n",
    "\"This CNF has $(model_count(circuit)) satisfying assignments. Its circuit has $(num_nodes(circuit)) nodes and $(num_edges(circuit)) edges.\""
   ],
   "metadata": {},
   "execution_count": 17
  },
  {
   "cell_type": "markdown",
   "source": [
    "### Advanced functionality"
   ],
   "metadata": {}
  },
  {
   "cell_type": "markdown",
   "source": [
    "`LogicCircuits` further provides\n",
    " * CPU (SIMD) and GPU (CUDA) kernels to efficiently compute satisfiability, model counts, etc., for large numbers of inputs, parallelizing over both circuit nodes and data inputs.\n",
    " * Algorithms that transform circuits in non-trivial ways (split, clone, smooth, condition, etc.), verify and enforce structural properties.\n",
    " * Functionality to load and save circuits in various file formats"
   ],
   "metadata": {}
  }
 ],
 "nbformat_minor": 3,
 "metadata": {
  "language_info": {
   "file_extension": ".jl",
   "mimetype": "application/julia",
   "name": "julia",
   "version": "1.6.4"
  },
  "kernelspec": {
   "name": "julia-1.6",
   "display_name": "Julia 1.6.4",
   "language": "julia"
  }
 },
 "nbformat": 4
}
